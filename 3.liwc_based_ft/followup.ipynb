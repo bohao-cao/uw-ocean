{
 "cells": [
  {
   "cell_type": "code",
   "execution_count": 2,
   "metadata": {},
   "outputs": [],
   "source": [
    "import pandas as pd\n",
    "cf = pd.read_parquet(\"../concat_feature.parquet\")"
   ]
  },
  {
   "cell_type": "code",
   "execution_count": 8,
   "metadata": {},
   "outputs": [
    {
     "data": {
      "text/html": [
       "<div>\n",
       "<style scoped>\n",
       "    .dataframe tbody tr th:only-of-type {\n",
       "        vertical-align: middle;\n",
       "    }\n",
       "\n",
       "    .dataframe tbody tr th {\n",
       "        vertical-align: top;\n",
       "    }\n",
       "\n",
       "    .dataframe thead th {\n",
       "        text-align: right;\n",
       "    }\n",
       "</style>\n",
       "<table border=\"1\" class=\"dataframe\">\n",
       "  <thead>\n",
       "    <tr style=\"text-align: right;\">\n",
       "      <th></th>\n",
       "      <th>ig_username</th>\n",
       "      <th>category</th>\n",
       "    </tr>\n",
       "  </thead>\n",
       "  <tbody>\n",
       "    <tr>\n",
       "      <th>0</th>\n",
       "      <td>wendyalane1</td>\n",
       "      <td>df_buy_insta_accounts_add_on</td>\n",
       "    </tr>\n",
       "    <tr>\n",
       "      <th>0</th>\n",
       "      <td>tylerlough</td>\n",
       "      <td>df_buy_insta_accounts_add_on</td>\n",
       "    </tr>\n",
       "    <tr>\n",
       "      <th>0</th>\n",
       "      <td>davidminkin</td>\n",
       "      <td>df_buy_insta_accounts_add_on</td>\n",
       "    </tr>\n",
       "    <tr>\n",
       "      <th>0</th>\n",
       "      <td>officialkristagreener</td>\n",
       "      <td>df_buy_insta_accounts_add_on</td>\n",
       "    </tr>\n",
       "    <tr>\n",
       "      <th>0</th>\n",
       "      <td>erika_nova</td>\n",
       "      <td>df_buy_insta_accounts_add_on</td>\n",
       "    </tr>\n",
       "    <tr>\n",
       "      <th>...</th>\n",
       "      <td>...</td>\n",
       "      <td>...</td>\n",
       "    </tr>\n",
       "    <tr>\n",
       "      <th>0</th>\n",
       "      <td>officialclubsocial</td>\n",
       "      <td>buy_biz</td>\n",
       "    </tr>\n",
       "    <tr>\n",
       "      <th>0</th>\n",
       "      <td>sainturbain</td>\n",
       "      <td>buy_biz</td>\n",
       "    </tr>\n",
       "    <tr>\n",
       "      <th>0</th>\n",
       "      <td>a1republic</td>\n",
       "      <td>buy_biz</td>\n",
       "    </tr>\n",
       "    <tr>\n",
       "      <th>0</th>\n",
       "      <td>mtoagency</td>\n",
       "      <td>buy_biz</td>\n",
       "    </tr>\n",
       "    <tr>\n",
       "      <th>0</th>\n",
       "      <td>socialinfluence_</td>\n",
       "      <td>buy_biz</td>\n",
       "    </tr>\n",
       "  </tbody>\n",
       "</table>\n",
       "<p>14240 rows × 2 columns</p>\n",
       "</div>"
      ],
      "text/plain": [
       "              ig_username                      category\n",
       "0             wendyalane1  df_buy_insta_accounts_add_on\n",
       "0              tylerlough  df_buy_insta_accounts_add_on\n",
       "0             davidminkin  df_buy_insta_accounts_add_on\n",
       "0   officialkristagreener  df_buy_insta_accounts_add_on\n",
       "0              erika_nova  df_buy_insta_accounts_add_on\n",
       "..                    ...                           ...\n",
       "0      officialclubsocial                       buy_biz\n",
       "0             sainturbain                       buy_biz\n",
       "0              a1republic                       buy_biz\n",
       "0               mtoagency                       buy_biz\n",
       "0        socialinfluence_                       buy_biz\n",
       "\n",
       "[14240 rows x 2 columns]"
      ]
     },
     "execution_count": 8,
     "metadata": {},
     "output_type": "execute_result"
    }
   ],
   "source": [
    "cf[['ig_username','category']].drop_duplicates(subset=['ig_username'])"
   ]
  },
  {
   "cell_type": "code",
   "execution_count": 33,
   "metadata": {},
   "outputs": [
    {
     "data": {
      "text/html": [
       "<div>\n",
       "<style scoped>\n",
       "    .dataframe tbody tr th:only-of-type {\n",
       "        vertical-align: middle;\n",
       "    }\n",
       "\n",
       "    .dataframe tbody tr th {\n",
       "        vertical-align: top;\n",
       "    }\n",
       "\n",
       "    .dataframe thead th {\n",
       "        text-align: right;\n",
       "    }\n",
       "</style>\n",
       "<table border=\"1\" class=\"dataframe\">\n",
       "  <thead>\n",
       "    <tr style=\"text-align: right;\">\n",
       "      <th></th>\n",
       "      <th>category</th>\n",
       "    </tr>\n",
       "  </thead>\n",
       "  <tbody>\n",
       "    <tr>\n",
       "      <th>0</th>\n",
       "      <td>df_buy_insta_accounts_add_on</td>\n",
       "    </tr>\n",
       "    <tr>\n",
       "      <th>0</th>\n",
       "      <td>women_event</td>\n",
       "    </tr>\n",
       "    <tr>\n",
       "      <th>0</th>\n",
       "      <td>women_event_mined</td>\n",
       "    </tr>\n",
       "    <tr>\n",
       "      <th>0</th>\n",
       "      <td>buy_insta_accounts</td>\n",
       "    </tr>\n",
       "    <tr>\n",
       "      <th>0</th>\n",
       "      <td>buy_biz</td>\n",
       "    </tr>\n",
       "  </tbody>\n",
       "</table>\n",
       "</div>"
      ],
      "text/plain": [
       "                       category\n",
       "0  df_buy_insta_accounts_add_on\n",
       "0                   women_event\n",
       "0             women_event_mined\n",
       "0            buy_insta_accounts\n",
       "0                       buy_biz"
      ]
     },
     "execution_count": 33,
     "metadata": {},
     "output_type": "execute_result"
    }
   ],
   "source": [
    "cf[['category']].drop_duplicates()"
   ]
  },
  {
   "cell_type": "code",
   "execution_count": 35,
   "metadata": {},
   "outputs": [],
   "source": [
    "buy_biz_df = pd.read_csv(\"liwc_results/df_buy_biz_prediction.csv\")\n",
    "women_events_df = pd.read_csv(\"liwc_results/df_women_event_prediction.csv\")\n",
    "insta_accounts_addon_df = pd.read_csv(\"liwc_results/df_buy_insta_accounts_add_on_prediction.csv\")\n",
    "insta_accounts_df = pd.read_csv(\"liwc_results/df_buy_insta_accounts_prediction.csv\")\n",
    "women_events_mined_df = pd.read_csv(\"liwc_results/df_women_event_mined_prediction.csv\")"
   ]
  },
  {
   "cell_type": "code",
   "execution_count": 27,
   "metadata": {},
   "outputs": [
    {
     "data": {
      "text/html": [
       "<div>\n",
       "<style scoped>\n",
       "    .dataframe tbody tr th:only-of-type {\n",
       "        vertical-align: middle;\n",
       "    }\n",
       "\n",
       "    .dataframe tbody tr th {\n",
       "        vertical-align: top;\n",
       "    }\n",
       "\n",
       "    .dataframe thead th {\n",
       "        text-align: right;\n",
       "    }\n",
       "</style>\n",
       "<table border=\"1\" class=\"dataframe\">\n",
       "  <thead>\n",
       "    <tr style=\"text-align: right;\">\n",
       "      <th></th>\n",
       "      <th>username</th>\n",
       "      <th>Openness</th>\n",
       "      <th>Conscientiousness</th>\n",
       "      <th>Extroversion</th>\n",
       "      <th>Agreeableness</th>\n",
       "      <th>Neuroticism</th>\n",
       "      <th>Type</th>\n",
       "      <th>media_count</th>\n",
       "      <th>full_name</th>\n",
       "      <th>following_count</th>\n",
       "      <th>...</th>\n",
       "      <th>agreeableness_prediction</th>\n",
       "      <th>extraversion_prediction</th>\n",
       "      <th>comments_count</th>\n",
       "      <th>like_count</th>\n",
       "      <th>caption</th>\n",
       "      <th>timestamp</th>\n",
       "      <th>media_type</th>\n",
       "      <th>id</th>\n",
       "      <th>ig_username</th>\n",
       "      <th>category_y</th>\n",
       "    </tr>\n",
       "  </thead>\n",
       "  <tbody>\n",
       "  </tbody>\n",
       "</table>\n",
       "<p>0 rows × 37 columns</p>\n",
       "</div>"
      ],
      "text/plain": [
       "Empty DataFrame\n",
       "Columns: [username, Openness, Conscientiousness, Extroversion, Agreeableness, Neuroticism, Type, media_count, full_name, following_count, follower_count, first_name, external_url, engagement_percent, email, contact_phone_number, cityName, category_x, biography, address_street, MostRecentPostDate, AvgLikes, AvgComments, user, conscientiousness_prediction, openness_prediction, neuroticism_prediction, agreeableness_prediction, extraversion_prediction, comments_count, like_count, caption, timestamp, media_type, id, ig_username, category_y]\n",
       "Index: []\n",
       "\n",
       "[0 rows x 37 columns]"
      ]
     },
     "execution_count": 27,
     "metadata": {},
     "output_type": "execute_result"
    }
   ],
   "source": [
    "buy_biz_df[buy_biz_df['user'].isnull()].merge(cf[cf.category=='buy_biz'], left_on=\"username\", right_on=\"ig_username\")"
   ]
  },
  {
   "cell_type": "code",
   "execution_count": 36,
   "metadata": {},
   "outputs": [
    {
     "data": {
      "text/html": [
       "<div>\n",
       "<style scoped>\n",
       "    .dataframe tbody tr th:only-of-type {\n",
       "        vertical-align: middle;\n",
       "    }\n",
       "\n",
       "    .dataframe tbody tr th {\n",
       "        vertical-align: top;\n",
       "    }\n",
       "\n",
       "    .dataframe thead th {\n",
       "        text-align: right;\n",
       "    }\n",
       "</style>\n",
       "<table border=\"1\" class=\"dataframe\">\n",
       "  <thead>\n",
       "    <tr style=\"text-align: right;\">\n",
       "      <th></th>\n",
       "      <th>username</th>\n",
       "      <th>Openness</th>\n",
       "      <th>Conscientiousness</th>\n",
       "      <th>Extroversion</th>\n",
       "      <th>Agreeableness</th>\n",
       "      <th>Neuroticism</th>\n",
       "      <th>Type</th>\n",
       "      <th>media_count</th>\n",
       "      <th>full_name</th>\n",
       "      <th>following_count</th>\n",
       "      <th>...</th>\n",
       "      <th>agreeableness_prediction</th>\n",
       "      <th>extraversion_prediction</th>\n",
       "      <th>comments_count</th>\n",
       "      <th>like_count</th>\n",
       "      <th>caption</th>\n",
       "      <th>timestamp</th>\n",
       "      <th>media_type</th>\n",
       "      <th>id</th>\n",
       "      <th>ig_username</th>\n",
       "      <th>category_y</th>\n",
       "    </tr>\n",
       "  </thead>\n",
       "  <tbody>\n",
       "  </tbody>\n",
       "</table>\n",
       "<p>0 rows × 36 columns</p>\n",
       "</div>"
      ],
      "text/plain": [
       "Empty DataFrame\n",
       "Columns: [username, Openness, Conscientiousness, Extroversion, Agreeableness, Neuroticism, Type, media_count, full_name, following_count, follower_count, first_name, external_url, engagement_percent, email, contact_phone_number, cityName, category_x, biography, address_street, AvgLikes, AvgComments, user, conscientiousness_prediction, openness_prediction, neuroticism_prediction, agreeableness_prediction, extraversion_prediction, comments_count, like_count, caption, timestamp, media_type, id, ig_username, category_y]\n",
       "Index: []\n",
       "\n",
       "[0 rows x 36 columns]"
      ]
     },
     "execution_count": 36,
     "metadata": {},
     "output_type": "execute_result"
    }
   ],
   "source": [
    "insta_accounts_addon_df[insta_accounts_addon_df['user'].isnull()].merge(cf[cf.category=='df_buy_insta_accounts_add_on'], left_on=\"username\", right_on=\"ig_username\")"
   ]
  },
  {
   "cell_type": "code",
   "execution_count": 37,
   "metadata": {},
   "outputs": [
    {
     "data": {
      "text/html": [
       "<div>\n",
       "<style scoped>\n",
       "    .dataframe tbody tr th:only-of-type {\n",
       "        vertical-align: middle;\n",
       "    }\n",
       "\n",
       "    .dataframe tbody tr th {\n",
       "        vertical-align: top;\n",
       "    }\n",
       "\n",
       "    .dataframe thead th {\n",
       "        text-align: right;\n",
       "    }\n",
       "</style>\n",
       "<table border=\"1\" class=\"dataframe\">\n",
       "  <thead>\n",
       "    <tr style=\"text-align: right;\">\n",
       "      <th></th>\n",
       "      <th>username</th>\n",
       "      <th>media_count</th>\n",
       "      <th>full_name</th>\n",
       "      <th>following_count</th>\n",
       "      <th>follower_count</th>\n",
       "      <th>first_name</th>\n",
       "      <th>external_url</th>\n",
       "      <th>engagement_percent</th>\n",
       "      <th>email</th>\n",
       "      <th>contact_phone_number</th>\n",
       "      <th>...</th>\n",
       "      <th>agreeableness_prediction</th>\n",
       "      <th>extraversion_prediction</th>\n",
       "      <th>comments_count</th>\n",
       "      <th>like_count</th>\n",
       "      <th>caption</th>\n",
       "      <th>timestamp</th>\n",
       "      <th>media_type</th>\n",
       "      <th>id</th>\n",
       "      <th>ig_username</th>\n",
       "      <th>category_y</th>\n",
       "    </tr>\n",
       "  </thead>\n",
       "  <tbody>\n",
       "  </tbody>\n",
       "</table>\n",
       "<p>0 rows × 31 columns</p>\n",
       "</div>"
      ],
      "text/plain": [
       "Empty DataFrame\n",
       "Columns: [username, media_count, full_name, following_count, follower_count, first_name, external_url, engagement_percent, email, contact_phone_number, cityName, category_x, biography, address_street, MostRecentPostDate, AvgLikes, AvgComments, user, conscientiousness_prediction, openness_prediction, neuroticism_prediction, agreeableness_prediction, extraversion_prediction, comments_count, like_count, caption, timestamp, media_type, id, ig_username, category_y]\n",
       "Index: []\n",
       "\n",
       "[0 rows x 31 columns]"
      ]
     },
     "execution_count": 37,
     "metadata": {},
     "output_type": "execute_result"
    }
   ],
   "source": [
    "women_events_df[women_events_df['user'].isnull()].merge(cf[cf.category=='women_event'], left_on=\"username\", right_on=\"ig_username\")"
   ]
  },
  {
   "cell_type": "code",
   "execution_count": 38,
   "metadata": {},
   "outputs": [
    {
     "data": {
      "text/html": [
       "<div>\n",
       "<style scoped>\n",
       "    .dataframe tbody tr th:only-of-type {\n",
       "        vertical-align: middle;\n",
       "    }\n",
       "\n",
       "    .dataframe tbody tr th {\n",
       "        vertical-align: top;\n",
       "    }\n",
       "\n",
       "    .dataframe thead th {\n",
       "        text-align: right;\n",
       "    }\n",
       "</style>\n",
       "<table border=\"1\" class=\"dataframe\">\n",
       "  <thead>\n",
       "    <tr style=\"text-align: right;\">\n",
       "      <th></th>\n",
       "      <th>username</th>\n",
       "      <th>Openness</th>\n",
       "      <th>Conscientiousness</th>\n",
       "      <th>Extroversion</th>\n",
       "      <th>Agreeableness</th>\n",
       "      <th>Neuroticism</th>\n",
       "      <th>Type</th>\n",
       "      <th>media_count</th>\n",
       "      <th>full_name</th>\n",
       "      <th>following_count</th>\n",
       "      <th>...</th>\n",
       "      <th>agreeableness_prediction</th>\n",
       "      <th>extraversion_prediction</th>\n",
       "      <th>comments_count</th>\n",
       "      <th>like_count</th>\n",
       "      <th>caption</th>\n",
       "      <th>timestamp</th>\n",
       "      <th>media_type</th>\n",
       "      <th>id</th>\n",
       "      <th>ig_username</th>\n",
       "      <th>category_y</th>\n",
       "    </tr>\n",
       "  </thead>\n",
       "  <tbody>\n",
       "  </tbody>\n",
       "</table>\n",
       "<p>0 rows × 36 columns</p>\n",
       "</div>"
      ],
      "text/plain": [
       "Empty DataFrame\n",
       "Columns: [username, Openness, Conscientiousness, Extroversion, Agreeableness, Neuroticism, Type, media_count, full_name, following_count, follower_count, first_name, external_url, engagement_percent, email, contact_phone_number, cityName, category_x, biography, address_street, AvgLikes, AvgComments, user, conscientiousness_prediction, openness_prediction, neuroticism_prediction, agreeableness_prediction, extraversion_prediction, comments_count, like_count, caption, timestamp, media_type, id, ig_username, category_y]\n",
       "Index: []\n",
       "\n",
       "[0 rows x 36 columns]"
      ]
     },
     "execution_count": 38,
     "metadata": {},
     "output_type": "execute_result"
    }
   ],
   "source": [
    "insta_accounts_df[insta_accounts_df['user'].isnull()].merge(cf[cf.category=='buy_insta_accounts'], left_on=\"username\", right_on=\"ig_username\")"
   ]
  },
  {
   "cell_type": "code",
   "execution_count": 39,
   "metadata": {},
   "outputs": [
    {
     "data": {
      "text/html": [
       "<div>\n",
       "<style scoped>\n",
       "    .dataframe tbody tr th:only-of-type {\n",
       "        vertical-align: middle;\n",
       "    }\n",
       "\n",
       "    .dataframe tbody tr th {\n",
       "        vertical-align: top;\n",
       "    }\n",
       "\n",
       "    .dataframe thead th {\n",
       "        text-align: right;\n",
       "    }\n",
       "</style>\n",
       "<table border=\"1\" class=\"dataframe\">\n",
       "  <thead>\n",
       "    <tr style=\"text-align: right;\">\n",
       "      <th></th>\n",
       "      <th>username</th>\n",
       "      <th>userid</th>\n",
       "      <th>scraped_from</th>\n",
       "      <th>media_count</th>\n",
       "      <th>full_name</th>\n",
       "      <th>following_count</th>\n",
       "      <th>follower_count</th>\n",
       "      <th>first_name</th>\n",
       "      <th>external_url</th>\n",
       "      <th>email</th>\n",
       "      <th>...</th>\n",
       "      <th>agreeableness_prediction</th>\n",
       "      <th>extraversion_prediction</th>\n",
       "      <th>comments_count</th>\n",
       "      <th>like_count</th>\n",
       "      <th>caption</th>\n",
       "      <th>timestamp</th>\n",
       "      <th>media_type</th>\n",
       "      <th>id</th>\n",
       "      <th>ig_username</th>\n",
       "      <th>category_y</th>\n",
       "    </tr>\n",
       "  </thead>\n",
       "  <tbody>\n",
       "  </tbody>\n",
       "</table>\n",
       "<p>0 rows × 30 columns</p>\n",
       "</div>"
      ],
      "text/plain": [
       "Empty DataFrame\n",
       "Columns: [username, userid, scraped_from, media_count, full_name, following_count, follower_count, first_name, external_url, email, contact_phone_number, cityName, category_x, biography, address_street, Big 5, user, conscientiousness_prediction, openness_prediction, neuroticism_prediction, agreeableness_prediction, extraversion_prediction, comments_count, like_count, caption, timestamp, media_type, id, ig_username, category_y]\n",
       "Index: []\n",
       "\n",
       "[0 rows x 30 columns]"
      ]
     },
     "execution_count": 39,
     "metadata": {},
     "output_type": "execute_result"
    }
   ],
   "source": [
    "women_events_mined_df[women_events_mined_df['user'].isnull()].merge(cf[cf.category=='women_event_mined'], left_on=\"username\", right_on=\"ig_username\")"
   ]
  },
  {
   "cell_type": "code",
   "execution_count": 46,
   "metadata": {},
   "outputs": [
    {
     "data": {
      "text/plain": [
       "6878"
      ]
     },
     "execution_count": 46,
     "metadata": {},
     "output_type": "execute_result"
    }
   ],
   "source": [
    "len(buy_biz_df[buy_biz_df['user'].isnull()]) + \\\n",
    "len(insta_accounts_addon_df[insta_accounts_addon_df['user'].isnull()]) + \\\n",
    "len(women_events_df[women_events_df['user'].isnull()]) + \\\n",
    "len(insta_accounts_df[insta_accounts_df['user'].isnull()]) + \\\n",
    "len(women_events_mined_df[women_events_mined_df['user'].isnull()])"
   ]
  },
  {
   "cell_type": "code",
   "execution_count": 55,
   "metadata": {},
   "outputs": [],
   "source": [
    "# create a df with all the missing usernames\n",
    "missing_users = pd.concat([buy_biz_df[buy_biz_df['user'].isnull()][['username']], \\\n",
    "                           insta_accounts_addon_df[insta_accounts_addon_df['user'].isnull()][['username']], \\\n",
    "                           women_events_df[women_events_df['user'].isnull()][['username']], \\\n",
    "                           insta_accounts_df[insta_accounts_df['user'].isnull()][['username']], \\\n",
    "                           women_events_mined_df[women_events_mined_df['user'].isnull()][['username']]])"
   ]
  },
  {
   "cell_type": "code",
   "execution_count": 58,
   "metadata": {},
   "outputs": [],
   "source": [
    "missing_users = missing_users.drop_duplicates()"
   ]
  },
  {
   "cell_type": "code",
   "execution_count": 60,
   "metadata": {},
   "outputs": [],
   "source": [
    "missing_users[:10].to_csv(\"missing_users_10.tsv\", sep=\"\\t\", index=False)"
   ]
  },
  {
   "cell_type": "code",
   "execution_count": null,
   "metadata": {},
   "outputs": [],
   "source": []
  }
 ],
 "metadata": {
  "kernelspec": {
   "display_name": "base",
   "language": "python",
   "name": "python3"
  },
  "language_info": {
   "codemirror_mode": {
    "name": "ipython",
    "version": 3
   },
   "file_extension": ".py",
   "mimetype": "text/x-python",
   "name": "python",
   "nbconvert_exporter": "python",
   "pygments_lexer": "ipython3",
   "version": "3.10.9"
  },
  "orig_nbformat": 4
 },
 "nbformat": 4,
 "nbformat_minor": 2
}
