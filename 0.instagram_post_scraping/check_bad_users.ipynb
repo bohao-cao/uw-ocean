{
 "cells": [
  {
   "cell_type": "code",
   "execution_count": 2,
   "metadata": {},
   "outputs": [
    {
     "data": {
      "text/plain": [
       "316"
      ]
     },
     "execution_count": 2,
     "metadata": {},
     "output_type": "execute_result"
    }
   ],
   "source": [
    "import os\n",
    "\n",
    "files = os.listdir(\"/Users/bohaocao/Codebase/uw-ocean/0.instagram_post_scraping/scraped_posts/missing_users/\")\n",
    "len(files)"
   ]
  },
  {
   "cell_type": "code",
   "execution_count": null,
   "metadata": {},
   "outputs": [],
   "source": [
    "# get bad_user json stats\n",
    "import json\n",
    "from pathlib import Path\n",
    "user_reason = []\n",
    "p = Path('jobs/feature')\n",
    "folders = [x for x in p.iterdir() if x.is_dir()]\n",
    "\n",
    "for data_dir in folders:\n",
    "    for bad_data_json in data_dir.glob(\"*.json\"):\n",
    "        print(bad_data_json)\n",
    "        with open(bad_data_json) as f_in:\n",
    "            data = f_in.read()\n",
    "            data=data.replace('][',',')\n",
    "            j = json.loads(data)\n",
    "            user_reason.extend(j)"
   ]
  },
  {
   "cell_type": "code",
   "execution_count": 5,
   "metadata": {},
   "outputs": [],
   "source": [
    "import json\n",
    "path_ = \"/Users/bohaocao/Codebase/uw-ocean/0.instagram_post_scraping/scraped_posts/missing_users/bad_users_idx.json\"\n",
    "user_reason = []\n",
    "with open(path_) as f_in:\n",
    "    data = f_in.read()\n",
    "    data=data.replace('][',',')\n",
    "    j = json.loads(data)\n",
    "    user_reason.extend(j)\n",
    "# with open(path_, 'r') as openfile:\n",
    "#     json_object = json.load(openfile)"
   ]
  },
  {
   "cell_type": "code",
   "execution_count": 15,
   "metadata": {},
   "outputs": [
    {
     "data": {
      "text/plain": [
       "'Bad Request'"
      ]
     },
     "execution_count": 15,
     "metadata": {},
     "output_type": "execute_result"
    }
   ],
   "source": [
    "[*user_reason[0].values()][0]"
   ]
  },
  {
   "cell_type": "code",
   "execution_count": 16,
   "metadata": {},
   "outputs": [],
   "source": [
    "from collections import Counter\n",
    "distinct_reasons = Counter()\n",
    "for d in user_reason:\n",
    "    v = [*user_reason[0].values()][0]\n",
    "    distinct_reasons[v] +=1"
   ]
  },
  {
   "cell_type": "code",
   "execution_count": 17,
   "metadata": {},
   "outputs": [
    {
     "data": {
      "text/plain": [
       "Counter({'Bad Request': 6554})"
      ]
     },
     "execution_count": 17,
     "metadata": {},
     "output_type": "execute_result"
    }
   ],
   "source": [
    "distinct_reasons"
   ]
  },
  {
   "cell_type": "code",
   "execution_count": null,
   "metadata": {},
   "outputs": [],
   "source": []
  }
 ],
 "metadata": {
  "kernelspec": {
   "display_name": "base",
   "language": "python",
   "name": "python3"
  },
  "language_info": {
   "codemirror_mode": {
    "name": "ipython",
    "version": 3
   },
   "file_extension": ".py",
   "mimetype": "text/x-python",
   "name": "python",
   "nbconvert_exporter": "python",
   "pygments_lexer": "ipython3",
   "version": "3.10.9"
  },
  "orig_nbformat": 4
 },
 "nbformat": 4,
 "nbformat_minor": 2
}
