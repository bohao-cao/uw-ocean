{
 "cells": [
  {
   "cell_type": "code",
   "execution_count": 4,
   "id": "d33e31b5-7449-4557-8ce5-67b8d62a165c",
   "metadata": {},
   "outputs": [],
   "source": [
    "import pandas as pd\n",
    "all_five = ['Agreeableness','Openness', 'Conscientiousness','Extroversion', 'Neuroticism']\n",
    "focused_trait = all_five[0]\n",
    "factor = 10\n",
    "predictions_df = pd.read_parquet(f\"predictions_before_post_processing/{focused_trait}_predictions_before_post_processing.parquet\")\n",
    "predictions_df = predictions_df.groupby('usernames').agg([list, set])\n",
    "predictions_df.columns = predictions_df.columns.to_flat_index()\n",
    "predictions_df = predictions_df.reset_index()\n",
    "predictions_df['predictions_count'] = predictions_df.apply(lambda r: len(r[('predictions','list')]), axis=1)\n",
    "predictions_df['predictions_count_low'] = predictions_df.apply(lambda r: r[('predictions','list')].count(0), axis=1)\n",
    "predictions_df['predictions_count_v'] = predictions_df.apply(lambda r: r[('predictions','list')].count(1), axis=1)\n",
    "predictions_df['predictions_count_high'] = predictions_df.apply(lambda r: r[('predictions','list')].count(2), axis=1)\n",
    "predictions_df['predictions_decision_3'] = predictions_df.apply(lambda r: 'LOW' if r['predictions_count_low']>3*r['predictions_count_high'] else \"HIGH\", axis=1)\n",
    "predictions_df['predictions_decision_10'] = predictions_df.apply(lambda r: 'LOW' if r['predictions_count_low']>factor*r['predictions_count_high'] else \"HIGH\", axis=1)\n",
    "predictions_df_agreeable = predictions_df\n",
    "\n",
    "focused_trait = all_five[1]\n",
    "predictions_df = pd.read_parquet(f\"predictions_before_post_processing/{focused_trait}_predictions_before_post_processing.parquet\")\n",
    "predictions_df = predictions_df.groupby('usernames').agg([list, set])\n",
    "predictions_df.columns = predictions_df.columns.to_flat_index()\n",
    "predictions_df = predictions_df.reset_index()\n",
    "predictions_df['predictions_count'] = predictions_df.apply(lambda r: len(r[('predictions','list')]), axis=1)\n",
    "predictions_df['predictions_count_low'] = predictions_df.apply(lambda r: r[('predictions','list')].count(0), axis=1)\n",
    "predictions_df['predictions_count_v'] = predictions_df.apply(lambda r: r[('predictions','list')].count(1), axis=1)\n",
    "predictions_df['predictions_count_high'] = predictions_df.apply(lambda r: r[('predictions','list')].count(2), axis=1)\n",
    "predictions_df['predictions_decision_3'] = predictions_df.apply(lambda r: 'LOW' if r['predictions_count_low']>3*r['predictions_count_high'] else \"HIGH\", axis=1)\n",
    "predictions_df['predictions_decision_10'] = predictions_df.apply(lambda r: 'LOW' if r['predictions_count_low']>factor*r['predictions_count_high'] else \"HIGH\", axis=1)\n",
    "predictions_df_openness= predictions_df\n",
    "\n",
    "focused_trait = all_five[2]\n",
    "predictions_df = pd.read_parquet(f\"predictions_before_post_processing/{focused_trait}_predictions_before_post_processing.parquet\")\n",
    "predictions_df = predictions_df.groupby('usernames').agg([list, set])\n",
    "predictions_df.columns = predictions_df.columns.to_flat_index()\n",
    "predictions_df = predictions_df.reset_index()\n",
    "predictions_df['predictions_count'] = predictions_df.apply(lambda r: len(r[('predictions','list')]), axis=1)\n",
    "predictions_df['predictions_count_low'] = predictions_df.apply(lambda r: r[('predictions','list')].count(0), axis=1)\n",
    "predictions_df['predictions_count_v'] = predictions_df.apply(lambda r: r[('predictions','list')].count(1), axis=1)\n",
    "predictions_df['predictions_count_high'] = predictions_df.apply(lambda r: r[('predictions','list')].count(2), axis=1)\n",
    "predictions_df['predictions_decision_3'] = predictions_df.apply(lambda r: 'LOW' if r['predictions_count_low']>3*r['predictions_count_high'] else \"HIGH\", axis=1)\n",
    "predictions_df['predictions_decision_10'] = predictions_df.apply(lambda r: 'LOW' if r['predictions_count_low']>factor*r['predictions_count_high'] else \"HIGH\", axis=1)\n",
    "predictions_df_cons = predictions_df\n",
    "\n",
    "focused_trait = all_five[3]\n",
    "predictions_df = pd.read_parquet(f\"predictions_before_post_processing/{focused_trait}_predictions_before_post_processing.parquet\")\n",
    "predictions_df = predictions_df.groupby('usernames').agg([list, set])\n",
    "predictions_df.columns = predictions_df.columns.to_flat_index()\n",
    "predictions_df = predictions_df.reset_index()\n",
    "predictions_df['predictions_count'] = predictions_df.apply(lambda r: len(r[('predictions','list')]), axis=1)\n",
    "predictions_df['predictions_count_low'] = predictions_df.apply(lambda r: r[('predictions','list')].count(0), axis=1)\n",
    "predictions_df['predictions_count_v'] = predictions_df.apply(lambda r: r[('predictions','list')].count(1), axis=1)\n",
    "predictions_df['predictions_count_high'] = predictions_df.apply(lambda r: r[('predictions','list')].count(2), axis=1)\n",
    "predictions_df['predictions_decision_3'] = predictions_df.apply(lambda r: 'LOW' if 3*r['predictions_count_low']>r['predictions_count_high'] else \"HIGH\", axis=1)\n",
    "predictions_df['predictions_decision_10'] = predictions_df.apply(lambda r: 'LOW' if factor*r['predictions_count_low']>r['predictions_count_high'] else \"HIGH\", axis=1)\n",
    "predictions_df_extro = predictions_df\n",
    "\n",
    "focused_trait = all_five[4]\n",
    "predictions_df = pd.read_parquet(f\"predictions_before_post_processing/{focused_trait}_predictions_before_post_processing.parquet\")\n",
    "predictions_df = predictions_df.groupby('usernames').agg([list, set])\n",
    "predictions_df.columns = predictions_df.columns.to_flat_index()\n",
    "predictions_df = predictions_df.reset_index()\n",
    "predictions_df['predictions_count'] = predictions_df.apply(lambda r: len(r[('predictions','list')]), axis=1)\n",
    "predictions_df['predictions_count_low'] = predictions_df.apply(lambda r: r[('predictions','list')].count(0), axis=1)\n",
    "predictions_df['predictions_count_v'] = predictions_df.apply(lambda r: r[('predictions','list')].count(1), axis=1)\n",
    "predictions_df['predictions_count_high'] = predictions_df.apply(lambda r: r[('predictions','list')].count(2), axis=1)\n",
    "predictions_df['predictions_decision_3'] = predictions_df.apply(lambda r: 'LOW' if 3*r['predictions_count_low']>r['predictions_count_high'] else \"HIGH\", axis=1)\n",
    "predictions_df['predictions_decision_10'] = predictions_df.apply(lambda r: 'LOW' if factor*r['predictions_count_low']>r['predictions_count_high'] else \"HIGH\", axis=1)\n",
    "predictions_df_neuroticism = predictions_df"
   ]
  },
  {
   "cell_type": "code",
   "execution_count": 49,
   "id": "385afd2f-d175-4217-ba1f-3eec37bca9cd",
   "metadata": {
    "tags": []
   },
   "outputs": [],
   "source": [
    "focused_trait = \"Agreeable\"\n",
    "predictions_df_agreeable = predictions_df_agreeable.rename(columns=\n",
    "    {\n",
    "        \"predictions_count_low\": f\"{focused_trait}_LOW_count\",\n",
    "        \"predictions_count_v\": f\"{focused_trait}_VAGUE_count\",\n",
    "        \"predictions_count_high\": f\"{focused_trait}_HIGH_count\",\n",
    "        \"predictions_decision_3\": f\"{focused_trait}_decision_3\",\n",
    "        \"predictions_decision_10\": f\"{focused_trait}_decision_10\",\n",
    "    }\n",
    ")\n",
    "predictions_df_agreeable = predictions_df_agreeable.drop([('predictions', 'list'),('predictions', 'set'),'predictions_count'], axis=1)\n",
    "\n",
    "focused_trait ='Openness'\n",
    "predictions_df_openness = predictions_df_openness.rename(columns=\n",
    "    {\n",
    "        \"predictions_count_low\": f\"{focused_trait}_LOW_count\",\n",
    "        \"predictions_count_v\": f\"{focused_trait}_VAGUE_count\",\n",
    "        \"predictions_count_high\": f\"{focused_trait}_HIGH_count\",\n",
    "        \"predictions_decision_3\": f\"{focused_trait}_decision_3\",\n",
    "        \"predictions_decision_10\": f\"{focused_trait}_decision_10\",\n",
    "    }\n",
    ")\n",
    "predictions_df_openness = predictions_df_openness.drop([('predictions', 'list'),('predictions', 'set'),'predictions_count'], axis=1)\n",
    "\n",
    "focused_trait ='Conscientiousness'\n",
    "predictions_df_cons = predictions_df_cons.rename(columns=\n",
    "    {\n",
    "        \"predictions_count_low\": f\"{focused_trait}_LOW_count\",\n",
    "        \"predictions_count_v\": f\"{focused_trait}_VAGUE_count\",\n",
    "        \"predictions_count_high\": f\"{focused_trait}_HIGH_count\",\n",
    "        \"predictions_decision_3\": f\"{focused_trait}_decision_3\",\n",
    "        \"predictions_decision_10\": f\"{focused_trait}_decision_10\",\n",
    "    }\n",
    ")\n",
    "predictions_df_cons = predictions_df_cons.drop([('predictions', 'list'),('predictions', 'set'),'predictions_count'], axis=1)\n",
    "\n",
    "focused_trait ='Extroversion'\n",
    "predictions_df_extro = predictions_df_extro.rename(columns=\n",
    "    {\n",
    "        \"predictions_count_low\": f\"{focused_trait}_LOW_count\",\n",
    "        \"predictions_count_v\": f\"{focused_trait}_VAGUE_count\",\n",
    "        \"predictions_count_high\": f\"{focused_trait}_HIGH_count\",\n",
    "        \"predictions_decision_3\": f\"{focused_trait}_decision_3\",\n",
    "        \"predictions_decision_10\": f\"{focused_trait}_decision_10\",\n",
    "    }\n",
    ")\n",
    "predictions_df_extro = predictions_df_extro.drop([('predictions', 'list'),('predictions', 'set'),'predictions_count'], axis=1)\n",
    "\n",
    "focused_trait = 'Neuroticism'\n",
    "predictions_df_neuroticism = predictions_df_neuroticism.rename(columns=\n",
    "    {\n",
    "        \"predictions_count_low\": f\"{focused_trait}_LOW_count\",\n",
    "        \"predictions_count_v\": f\"{focused_trait}_VAGUE_count\",\n",
    "        \"predictions_count_high\": f\"{focused_trait}_HIGH_count\",\n",
    "        \"predictions_decision_3\": f\"{focused_trait}_decision_3\",\n",
    "        \"predictions_decision_10\": f\"{focused_trait}_decision_10\",\n",
    "    }\n",
    ")\n",
    "predictions_df_neuroticism = predictions_df_neuroticism.drop([('predictions', 'list'),('predictions', 'set'),'predictions_count'], axis=1)"
   ]
  },
  {
   "cell_type": "code",
   "execution_count": 2,
   "id": "4a2980e3-243e-42b6-855b-ef2acd1cbcc0",
   "metadata": {
    "tags": []
   },
   "outputs": [
    {
     "data": {
      "text/html": [
       "<div>\n",
       "<style scoped>\n",
       "    .dataframe tbody tr th:only-of-type {\n",
       "        vertical-align: middle;\n",
       "    }\n",
       "\n",
       "    .dataframe tbody tr th {\n",
       "        vertical-align: top;\n",
       "    }\n",
       "\n",
       "    .dataframe thead th {\n",
       "        text-align: right;\n",
       "    }\n",
       "</style>\n",
       "<table border=\"1\" class=\"dataframe\">\n",
       "  <thead>\n",
       "    <tr style=\"text-align: right;\">\n",
       "      <th></th>\n",
       "      <th>Unnamed: 0</th>\n",
       "      <th>usernames</th>\n",
       "      <th>Agreeable_LOW_count</th>\n",
       "      <th>Agreeable_VAGUE_count</th>\n",
       "      <th>Agreeable_HIGH_count</th>\n",
       "      <th>Agreeable_decision_3</th>\n",
       "      <th>Agreeable_decision_10</th>\n",
       "      <th>Openness_LOW_count</th>\n",
       "      <th>Openness_VAGUE_count</th>\n",
       "      <th>Openness_HIGH_count</th>\n",
       "      <th>...</th>\n",
       "      <th>Extroversion_LOW_count</th>\n",
       "      <th>Extroversion_VAGUE_count</th>\n",
       "      <th>Extroversion_HIGH_count</th>\n",
       "      <th>Extroversion_decision_3</th>\n",
       "      <th>Extroversion_decision_10</th>\n",
       "      <th>Neuroticism_LOW_count</th>\n",
       "      <th>Neuroticism_VAGUE_count</th>\n",
       "      <th>Neuroticism_HIGH_count</th>\n",
       "      <th>Neuroticism_decision_3</th>\n",
       "      <th>Neuroticism_decision_10</th>\n",
       "    </tr>\n",
       "  </thead>\n",
       "  <tbody>\n",
       "    <tr>\n",
       "      <th>0</th>\n",
       "      <td>0</td>\n",
       "      <td>007offmason</td>\n",
       "      <td>24</td>\n",
       "      <td>0</td>\n",
       "      <td>1</td>\n",
       "      <td>LOW</td>\n",
       "      <td>LOW</td>\n",
       "      <td>23</td>\n",
       "      <td>0</td>\n",
       "      <td>2</td>\n",
       "      <td>...</td>\n",
       "      <td>1</td>\n",
       "      <td>0</td>\n",
       "      <td>24</td>\n",
       "      <td>HIGH</td>\n",
       "      <td>HIGH</td>\n",
       "      <td>25</td>\n",
       "      <td>0</td>\n",
       "      <td>0</td>\n",
       "      <td>LOW</td>\n",
       "      <td>LOW</td>\n",
       "    </tr>\n",
       "    <tr>\n",
       "      <th>1</th>\n",
       "      <td>1</td>\n",
       "      <td>0g.ed1tz</td>\n",
       "      <td>25</td>\n",
       "      <td>0</td>\n",
       "      <td>0</td>\n",
       "      <td>LOW</td>\n",
       "      <td>LOW</td>\n",
       "      <td>24</td>\n",
       "      <td>0</td>\n",
       "      <td>1</td>\n",
       "      <td>...</td>\n",
       "      <td>0</td>\n",
       "      <td>0</td>\n",
       "      <td>25</td>\n",
       "      <td>HIGH</td>\n",
       "      <td>HIGH</td>\n",
       "      <td>25</td>\n",
       "      <td>0</td>\n",
       "      <td>0</td>\n",
       "      <td>LOW</td>\n",
       "      <td>LOW</td>\n",
       "    </tr>\n",
       "    <tr>\n",
       "      <th>2</th>\n",
       "      <td>2</td>\n",
       "      <td>1000taraneh</td>\n",
       "      <td>15</td>\n",
       "      <td>0</td>\n",
       "      <td>10</td>\n",
       "      <td>HIGH</td>\n",
       "      <td>HIGH</td>\n",
       "      <td>25</td>\n",
       "      <td>0</td>\n",
       "      <td>0</td>\n",
       "      <td>...</td>\n",
       "      <td>11</td>\n",
       "      <td>0</td>\n",
       "      <td>14</td>\n",
       "      <td>LOW</td>\n",
       "      <td>LOW</td>\n",
       "      <td>25</td>\n",
       "      <td>0</td>\n",
       "      <td>0</td>\n",
       "      <td>LOW</td>\n",
       "      <td>LOW</td>\n",
       "    </tr>\n",
       "    <tr>\n",
       "      <th>3</th>\n",
       "      <td>3</td>\n",
       "      <td>1000thingstodoindenver</td>\n",
       "      <td>10</td>\n",
       "      <td>3</td>\n",
       "      <td>12</td>\n",
       "      <td>HIGH</td>\n",
       "      <td>HIGH</td>\n",
       "      <td>9</td>\n",
       "      <td>0</td>\n",
       "      <td>16</td>\n",
       "      <td>...</td>\n",
       "      <td>0</td>\n",
       "      <td>0</td>\n",
       "      <td>25</td>\n",
       "      <td>HIGH</td>\n",
       "      <td>HIGH</td>\n",
       "      <td>23</td>\n",
       "      <td>2</td>\n",
       "      <td>0</td>\n",
       "      <td>LOW</td>\n",
       "      <td>LOW</td>\n",
       "    </tr>\n",
       "    <tr>\n",
       "      <th>4</th>\n",
       "      <td>4</td>\n",
       "      <td>101_molly</td>\n",
       "      <td>25</td>\n",
       "      <td>0</td>\n",
       "      <td>0</td>\n",
       "      <td>LOW</td>\n",
       "      <td>LOW</td>\n",
       "      <td>24</td>\n",
       "      <td>0</td>\n",
       "      <td>1</td>\n",
       "      <td>...</td>\n",
       "      <td>0</td>\n",
       "      <td>0</td>\n",
       "      <td>25</td>\n",
       "      <td>HIGH</td>\n",
       "      <td>HIGH</td>\n",
       "      <td>24</td>\n",
       "      <td>0</td>\n",
       "      <td>1</td>\n",
       "      <td>LOW</td>\n",
       "      <td>LOW</td>\n",
       "    </tr>\n",
       "  </tbody>\n",
       "</table>\n",
       "<p>5 rows × 27 columns</p>\n",
       "</div>"
      ],
      "text/plain": [
       "   Unnamed: 0               usernames  Agreeable_LOW_count  \\\n",
       "0           0             007offmason                   24   \n",
       "1           1                0g.ed1tz                   25   \n",
       "2           2             1000taraneh                   15   \n",
       "3           3  1000thingstodoindenver                   10   \n",
       "4           4               101_molly                   25   \n",
       "\n",
       "   Agreeable_VAGUE_count  Agreeable_HIGH_count Agreeable_decision_3  \\\n",
       "0                      0                     1                  LOW   \n",
       "1                      0                     0                  LOW   \n",
       "2                      0                    10                 HIGH   \n",
       "3                      3                    12                 HIGH   \n",
       "4                      0                     0                  LOW   \n",
       "\n",
       "  Agreeable_decision_10  Openness_LOW_count  Openness_VAGUE_count  \\\n",
       "0                   LOW                  23                     0   \n",
       "1                   LOW                  24                     0   \n",
       "2                  HIGH                  25                     0   \n",
       "3                  HIGH                   9                     0   \n",
       "4                   LOW                  24                     0   \n",
       "\n",
       "   Openness_HIGH_count  ... Extroversion_LOW_count Extroversion_VAGUE_count  \\\n",
       "0                    2  ...                      1                        0   \n",
       "1                    1  ...                      0                        0   \n",
       "2                    0  ...                     11                        0   \n",
       "3                   16  ...                      0                        0   \n",
       "4                    1  ...                      0                        0   \n",
       "\n",
       "   Extroversion_HIGH_count  Extroversion_decision_3  Extroversion_decision_10  \\\n",
       "0                       24                     HIGH                      HIGH   \n",
       "1                       25                     HIGH                      HIGH   \n",
       "2                       14                      LOW                       LOW   \n",
       "3                       25                     HIGH                      HIGH   \n",
       "4                       25                     HIGH                      HIGH   \n",
       "\n",
       "  Neuroticism_LOW_count Neuroticism_VAGUE_count  Neuroticism_HIGH_count  \\\n",
       "0                    25                       0                       0   \n",
       "1                    25                       0                       0   \n",
       "2                    25                       0                       0   \n",
       "3                    23                       2                       0   \n",
       "4                    24                       0                       1   \n",
       "\n",
       "   Neuroticism_decision_3  Neuroticism_decision_10  \n",
       "0                     LOW                      LOW  \n",
       "1                     LOW                      LOW  \n",
       "2                     LOW                      LOW  \n",
       "3                     LOW                      LOW  \n",
       "4                     LOW                      LOW  \n",
       "\n",
       "[5 rows x 27 columns]"
      ]
     },
     "execution_count": 2,
     "metadata": {},
     "output_type": "execute_result"
    }
   ],
   "source": [
    "import pandas as pd\n",
    "pred_final=pd.read_csv(\"predictions_final.csv\")\n",
    "pred_final.head()"
   ]
  },
  {
   "cell_type": "code",
   "execution_count": 50,
   "id": "db02973b-1474-42b7-bf1b-e952308d72ba",
   "metadata": {
    "tags": []
   },
   "outputs": [],
   "source": [
    "pred_final = pd.DataFrame(predictions_df_agreeable)\n",
    "pred_final = pred_final.merge(predictions_df_openness, on=\"usernames\")\n",
    "pred_final = pred_final.merge(predictions_df_cons, on=\"usernames\")\n",
    "pred_final = pred_final.merge(predictions_df_extro, on=\"usernames\")\n",
    "pred_final = pred_final.merge(predictions_df_neuroticism, on=\"usernames\")\n"
   ]
  },
  {
   "cell_type": "code",
   "execution_count": 52,
   "id": "59dc4a8b-87a3-4cd8-ba0f-e1c9cbd30f82",
   "metadata": {
    "tags": []
   },
   "outputs": [],
   "source": [
    "pred_final.to_csv(\"predictions_final.csv\")"
   ]
  },
  {
   "cell_type": "code",
   "execution_count": 47,
   "id": "904725ae-3004-4558-80d9-c0d214d210d0",
   "metadata": {
    "collapsed": true,
    "jupyter": {
     "outputs_hidden": true
    },
    "tags": []
   },
   "outputs": [
    {
     "data": {
      "text/plain": [
       "0        [2, 0, 0, 0, 0, 0, 0, 0, 0, 0, 0, 0, 0, 0, 0, ...\n",
       "1        [0, 0, 0, 0, 0, 0, 0, 0, 0, 0, 0, 0, 0, 0, 0, ...\n",
       "2        [2, 0, 2, 2, 2, 2, 2, 2, 2, 2, 2, 0, 0, 0, 0, ...\n",
       "3        [1, 2, 2, 2, 0, 1, 2, 2, 1, 2, 2, 2, 2, 2, 2, ...\n",
       "4        [0, 0, 0, 0, 0, 0, 0, 0, 0, 0, 0, 0, 0, 0, 0, ...\n",
       "                               ...                        \n",
       "14235    [1, 2, 2, 0, 0, 0, 0, 0, 0, 0, 0, 0, 0, 0, 0, ...\n",
       "14236    [2, 2, 2, 2, 2, 2, 2, 0, 0, 0, 0, 0, 0, 0, 0, ...\n",
       "14237    [0, 0, 2, 0, 0, 0, 0, 0, 0, 0, 0, 0, 0, 0, 0, ...\n",
       "14238    [2, 2, 0, 0, 0, 0, 0, 0, 0, 0, 0, 0, 0, 0, 0, ...\n",
       "14239    [0, 0, 2, 0, 0, 0, 0, 0, 0, 0, 0, 0, 0, 0, 0, ...\n",
       "Name: (predictions, list), Length: 14240, dtype: object"
      ]
     },
     "execution_count": 47,
     "metadata": {},
     "output_type": "execute_result"
    }
   ],
   "source": [
    "predictions_df_agreeable[('predictions', 'list')]"
   ]
  },
  {
   "cell_type": "code",
   "execution_count": 192,
   "id": "6b8d6f63-af00-40b0-9983-718b20e2c61c",
   "metadata": {
    "collapsed": true,
    "jupyter": {
     "outputs_hidden": true
    },
    "tags": []
   },
   "outputs": [
    {
     "data": {
      "text/plain": [
       "<AxesSubplot: >"
      ]
     },
     "execution_count": 192,
     "metadata": {},
     "output_type": "execute_result"
    },
    {
     "data": {
      "image/png": "[encoded data removed]",
      "text/plain": [
       "<Figure size 640x480 with 1 Axes>"
      ]
     },
     "metadata": {},
     "output_type": "display_data"
    }
   ],
   "source": [
    "predictions_df_neuroticism['predictions_count_high'].hist()"
   ]
  },
  {
   "cell_type": "code",
   "execution_count": 190,
   "id": "96409283-57e3-4574-b6f4-50dd14fe1b87",
   "metadata": {
    "collapsed": true,
    "jupyter": {
     "outputs_hidden": true
    },
    "tags": []
   },
   "outputs": [
    {
     "data": {
      "text/plain": [
       "25    2569\n",
       "30    2296\n",
       "29    1267\n",
       "24    1008\n",
       "21     856\n",
       "31     730\n",
       "33     714\n",
       "35     712\n",
       "41     673\n",
       "27     579\n",
       "22     525\n",
       "28     438\n",
       "23     362\n",
       "20     286\n",
       "32     201\n",
       "26     200\n",
       "40     175\n",
       "34     172\n",
       "19     139\n",
       "18      70\n",
       "39      66\n",
       "17      39\n",
       "38      33\n",
       "16      30\n",
       "15      22\n",
       "37      22\n",
       "36      14\n",
       "14      10\n",
       "11       8\n",
       "13       8\n",
       "12       6\n",
       "9        3\n",
       "8        2\n",
       "10       2\n",
       "1        1\n",
       "4        1\n",
       "0        1\n",
       "Name: predictions_count_low, dtype: int64"
      ]
     },
     "execution_count": 190,
     "metadata": {},
     "output_type": "execute_result"
    }
   ],
   "source": [
    "predictions_df_neuroticism['predictions_count_low'].value_counts()"
   ]
  },
  {
   "cell_type": "code",
   "execution_count": 87,
   "id": "96dd07c2-e25a-474e-aa9e-440c86b646fc",
   "metadata": {},
   "outputs": [],
   "source": [
    "focused_trait = all_five[3]\n",
    "predictions_df_cons.to_csv(f\"predictions_after_post_processing/{focused_trait}_predictions_before_post_processing.parquet\")"
   ]
  },
  {
   "cell_type": "code",
   "execution_count": 74,
   "id": "61602885-5efc-4a35-90ec-ef9d10be166d",
   "metadata": {},
   "outputs": [
    {
     "data": {
      "text/plain": [
       "count    14240.000000\n",
       "mean        24.182514\n",
       "std          6.052911\n",
       "min          0.000000\n",
       "25%         20.000000\n",
       "50%         24.000000\n",
       "75%         28.000000\n",
       "max         41.000000\n",
       "Name: predictions_count_low, dtype: float64"
      ]
     },
     "execution_count": 74,
     "metadata": {},
     "output_type": "execute_result"
    }
   ],
   "source": [
    "predictions_df_openness['predictions_count_low'].describe()"
   ]
  },
  {
   "cell_type": "code",
   "execution_count": 129,
   "id": "09804f28-007d-40f8-b444-e624cda844fe",
   "metadata": {
    "tags": []
   },
   "outputs": [
    {
     "data": {
      "text/html": [
       "<div>\n",
       "<style scoped>\n",
       "    .dataframe tbody tr th:only-of-type {\n",
       "        vertical-align: middle;\n",
       "    }\n",
       "\n",
       "    .dataframe tbody tr th {\n",
       "        vertical-align: top;\n",
       "    }\n",
       "\n",
       "    .dataframe thead th {\n",
       "        text-align: right;\n",
       "    }\n",
       "</style>\n",
       "<table border=\"1\" class=\"dataframe\">\n",
       "  <thead>\n",
       "    <tr style=\"text-align: right;\">\n",
       "      <th></th>\n",
       "      <th>usernames</th>\n",
       "      <th>(predictions, list)</th>\n",
       "      <th>(predictions, set)</th>\n",
       "      <th>predictions_count</th>\n",
       "      <th>predictions_unique_count</th>\n",
       "      <th>predictions_count_low</th>\n",
       "      <th>predictions_count_v</th>\n",
       "      <th>predictions_count_high</th>\n",
       "    </tr>\n",
       "  </thead>\n",
       "  <tbody>\n",
       "    <tr>\n",
       "      <th>0</th>\n",
       "      <td>007offmason</td>\n",
       "      <td>[2, 2, 0, 0, 0, 0, 0, 0, 0, 0, 0, 0, 0, 0, 0, ...</td>\n",
       "      <td>{0, 2}</td>\n",
       "      <td>25</td>\n",
       "      <td>2</td>\n",
       "      <td>23</td>\n",
       "      <td>0</td>\n",
       "      <td>2</td>\n",
       "    </tr>\n",
       "    <tr>\n",
       "      <th>1</th>\n",
       "      <td>0g.ed1tz</td>\n",
       "      <td>[2, 0, 0, 0, 0, 0, 0, 0, 0, 0, 0, 0, 0, 0, 0, ...</td>\n",
       "      <td>{0, 2}</td>\n",
       "      <td>25</td>\n",
       "      <td>2</td>\n",
       "      <td>24</td>\n",
       "      <td>0</td>\n",
       "      <td>1</td>\n",
       "    </tr>\n",
       "    <tr>\n",
       "      <th>2</th>\n",
       "      <td>1000taraneh</td>\n",
       "      <td>[0, 0, 0, 0, 0, 0, 0, 0, 0, 0, 0, 0, 0, 0, 0, ...</td>\n",
       "      <td>{0}</td>\n",
       "      <td>25</td>\n",
       "      <td>1</td>\n",
       "      <td>25</td>\n",
       "      <td>0</td>\n",
       "      <td>0</td>\n",
       "    </tr>\n",
       "    <tr>\n",
       "      <th>4</th>\n",
       "      <td>101_molly</td>\n",
       "      <td>[2, 0, 0, 0, 0, 0, 0, 0, 0, 0, 0, 0, 0, 0, 0, ...</td>\n",
       "      <td>{0, 2}</td>\n",
       "      <td>25</td>\n",
       "      <td>2</td>\n",
       "      <td>24</td>\n",
       "      <td>0</td>\n",
       "      <td>1</td>\n",
       "    </tr>\n",
       "    <tr>\n",
       "      <th>5</th>\n",
       "      <td>1075theriver</td>\n",
       "      <td>[2, 2, 2, 0, 0, 0, 0, 0, 0, 0, 0, 0, 0, 0, 0, ...</td>\n",
       "      <td>{0, 2}</td>\n",
       "      <td>25</td>\n",
       "      <td>2</td>\n",
       "      <td>22</td>\n",
       "      <td>0</td>\n",
       "      <td>3</td>\n",
       "    </tr>\n",
       "    <tr>\n",
       "      <th>...</th>\n",
       "      <td>...</td>\n",
       "      <td>...</td>\n",
       "      <td>...</td>\n",
       "      <td>...</td>\n",
       "      <td>...</td>\n",
       "      <td>...</td>\n",
       "      <td>...</td>\n",
       "      <td>...</td>\n",
       "    </tr>\n",
       "    <tr>\n",
       "      <th>14235</th>\n",
       "      <td>zuber_zooby</td>\n",
       "      <td>[2, 2, 2, 2, 0, 0, 0, 0, 0, 0, 0, 0, 0, 0, 0, ...</td>\n",
       "      <td>{0, 2}</td>\n",
       "      <td>22</td>\n",
       "      <td>2</td>\n",
       "      <td>18</td>\n",
       "      <td>0</td>\n",
       "      <td>4</td>\n",
       "    </tr>\n",
       "    <tr>\n",
       "      <th>14236</th>\n",
       "      <td>zuraidajardine</td>\n",
       "      <td>[2, 2, 2, 2, 2, 2, 2, 2, 0, 0, 0, 0, 0, 0, 0, ...</td>\n",
       "      <td>{0, 2}</td>\n",
       "      <td>22</td>\n",
       "      <td>2</td>\n",
       "      <td>14</td>\n",
       "      <td>0</td>\n",
       "      <td>8</td>\n",
       "    </tr>\n",
       "    <tr>\n",
       "      <th>14237</th>\n",
       "      <td>zuri_baby</td>\n",
       "      <td>[2, 2, 2, 0, 0, 0, 0, 0, 0, 0, 0, 0, 0, 0, 0, ...</td>\n",
       "      <td>{0, 2}</td>\n",
       "      <td>22</td>\n",
       "      <td>2</td>\n",
       "      <td>19</td>\n",
       "      <td>0</td>\n",
       "      <td>3</td>\n",
       "    </tr>\n",
       "    <tr>\n",
       "      <th>14238</th>\n",
       "      <td>zyramusicofficial</td>\n",
       "      <td>[2, 2, 2, 0, 0, 0, 0, 0, 0, 0, 0, 0, 0, 0, 0, ...</td>\n",
       "      <td>{0, 2}</td>\n",
       "      <td>22</td>\n",
       "      <td>2</td>\n",
       "      <td>19</td>\n",
       "      <td>0</td>\n",
       "      <td>3</td>\n",
       "    </tr>\n",
       "    <tr>\n",
       "      <th>14239</th>\n",
       "      <td>zzward</td>\n",
       "      <td>[2, 2, 2, 2, 0, 0, 0, 0, 0, 0, 0, 0, 0, 0, 0, ...</td>\n",
       "      <td>{0, 2}</td>\n",
       "      <td>22</td>\n",
       "      <td>2</td>\n",
       "      <td>18</td>\n",
       "      <td>0</td>\n",
       "      <td>4</td>\n",
       "    </tr>\n",
       "  </tbody>\n",
       "</table>\n",
       "<p>13871 rows × 8 columns</p>\n",
       "</div>"
      ],
      "text/plain": [
       "               usernames                                (predictions, list)  \\\n",
       "0            007offmason  [2, 2, 0, 0, 0, 0, 0, 0, 0, 0, 0, 0, 0, 0, 0, ...   \n",
       "1               0g.ed1tz  [2, 0, 0, 0, 0, 0, 0, 0, 0, 0, 0, 0, 0, 0, 0, ...   \n",
       "2            1000taraneh  [0, 0, 0, 0, 0, 0, 0, 0, 0, 0, 0, 0, 0, 0, 0, ...   \n",
       "4              101_molly  [2, 0, 0, 0, 0, 0, 0, 0, 0, 0, 0, 0, 0, 0, 0, ...   \n",
       "5           1075theriver  [2, 2, 2, 0, 0, 0, 0, 0, 0, 0, 0, 0, 0, 0, 0, ...   \n",
       "...                  ...                                                ...   \n",
       "14235        zuber_zooby  [2, 2, 2, 2, 0, 0, 0, 0, 0, 0, 0, 0, 0, 0, 0, ...   \n",
       "14236     zuraidajardine  [2, 2, 2, 2, 2, 2, 2, 2, 0, 0, 0, 0, 0, 0, 0, ...   \n",
       "14237          zuri_baby  [2, 2, 2, 0, 0, 0, 0, 0, 0, 0, 0, 0, 0, 0, 0, ...   \n",
       "14238  zyramusicofficial  [2, 2, 2, 0, 0, 0, 0, 0, 0, 0, 0, 0, 0, 0, 0, ...   \n",
       "14239             zzward  [2, 2, 2, 2, 0, 0, 0, 0, 0, 0, 0, 0, 0, 0, 0, ...   \n",
       "\n",
       "      (predictions, set)  predictions_count  predictions_unique_count  \\\n",
       "0                 {0, 2}                 25                         2   \n",
       "1                 {0, 2}                 25                         2   \n",
       "2                    {0}                 25                         1   \n",
       "4                 {0, 2}                 25                         2   \n",
       "5                 {0, 2}                 25                         2   \n",
       "...                  ...                ...                       ...   \n",
       "14235             {0, 2}                 22                         2   \n",
       "14236             {0, 2}                 22                         2   \n",
       "14237             {0, 2}                 22                         2   \n",
       "14238             {0, 2}                 22                         2   \n",
       "14239             {0, 2}                 22                         2   \n",
       "\n",
       "       predictions_count_low  predictions_count_v  predictions_count_high  \n",
       "0                         23                    0                       2  \n",
       "1                         24                    0                       1  \n",
       "2                         25                    0                       0  \n",
       "4                         24                    0                       1  \n",
       "5                         22                    0                       3  \n",
       "...                      ...                  ...                     ...  \n",
       "14235                     18                    0                       4  \n",
       "14236                     14                    0                       8  \n",
       "14237                     19                    0                       3  \n",
       "14238                     19                    0                       3  \n",
       "14239                     18                    0                       4  \n",
       "\n",
       "[13871 rows x 8 columns]"
      ]
     },
     "execution_count": 129,
     "metadata": {},
     "output_type": "execute_result"
    }
   ],
   "source": [
    "predictions_df_openness[predictions_df_openness['predictions_count_low']>predictions_df_openness['predictions_count_high']]"
   ]
  },
  {
   "cell_type": "code",
   "execution_count": 21,
   "id": "6b82386b-7871-4a61-8d91-0c7a0017f5b0",
   "metadata": {},
   "outputs": [
    {
     "name": "stdout",
     "output_type": "stream",
     "text": [
      "528 14231\n"
     ]
    }
   ],
   "source": [
    "print(len(predictions_df_extro[predictions_df_extro['predictions_count_high']<predictions_df_extro['predictions_count_low']]),\n",
    "len(predictions_df_extro[predictions_df_extro['predictions_count_high']>predictions_df_extro['predictions_count_low']]))"
   ]
  },
  {
   "cell_type": "code",
   "execution_count": 8,
   "id": "99338404-cdc7-4929-b44f-f430191f64cb",
   "metadata": {
    "collapsed": true,
    "jupyter": {
     "outputs_hidden": true
    },
    "tags": []
   },
   "outputs": [
    {
     "name": "stderr",
     "output_type": "stream",
     "text": [
      "/var/tmp/ipykernel_1973/1493717427.py:4: MatplotlibDeprecationWarning: Support for passing numbers through unit converters is deprecated since 3.5 and support will be removed two minor releases later; use Axis.convert_units instead.\n",
      "  ax[0,0].hist(predictions_df_openness[predictions_df_openness['predictions_count_low']>predictions_df_openness['predictions_count_high']])\n"
     ]
    },
    {
     "ename": "ConversionError",
     "evalue": "Failed to convert value(s) to axis units: array([list([2, 2, 0, 0, 0, 0, 0, 0, 0, 0, 0, 0, 0, 0, 0, 0, 0, 0, 0, 0, 0, 0, 0, 0, 0]),\n       list([2, 0, 0, 0, 0, 0, 0, 0, 0, 0, 0, 0, 0, 0, 0, 0, 0, 0, 0, 0, 0, 0, 0, 0, 0]),\n       list([0, 0, 0, 0, 0, 0, 0, 0, 0, 0, 0, 0, 0, 0, 0, 0, 0, 0, 0, 0, 0, 0, 0, 0, 0]),\n       ...,\n       list([2, 2, 2, 0, 0, 0, 0, 0, 0, 0, 0, 0, 0, 0, 0, 0, 0, 0, 0, 0, 0, 0]),\n       list([2, 2, 2, 0, 0, 0, 0, 0, 0, 0, 0, 0, 0, 0, 0, 0, 0, 0, 0, 0, 0, 0]),\n       list([2, 2, 2, 2, 0, 0, 0, 0, 0, 0, 0, 0, 0, 0, 0, 0, 0, 0, 0, 0, 0, 0])],\n      dtype=object)",
     "output_type": "error",
     "traceback": [
      "\u001b[0;31m---------------------------------------------------------------------------\u001b[0m",
      "\u001b[0;31mTypeError\u001b[0m                                 Traceback (most recent call last)",
      "\u001b[0;31mTypeError\u001b[0m: float() argument must be a string or a real number, not 'list'",
      "\nThe above exception was the direct cause of the following exception:\n",
      "\u001b[0;31mValueError\u001b[0m                                Traceback (most recent call last)",
      "File \u001b[0;32m/opt/conda/lib/python3.10/site-packages/matplotlib/axis.py:1665\u001b[0m, in \u001b[0;36mAxis.convert_units\u001b[0;34m(self, x)\u001b[0m\n\u001b[1;32m   1664\u001b[0m \u001b[38;5;28;01mtry\u001b[39;00m:\n\u001b[0;32m-> 1665\u001b[0m     ret \u001b[38;5;241m=\u001b[39m \u001b[38;5;28;43mself\u001b[39;49m\u001b[38;5;241;43m.\u001b[39;49m\u001b[43mconverter\u001b[49m\u001b[38;5;241;43m.\u001b[39;49m\u001b[43mconvert\u001b[49m\u001b[43m(\u001b[49m\u001b[43mx\u001b[49m\u001b[43m,\u001b[49m\u001b[43m \u001b[49m\u001b[38;5;28;43mself\u001b[39;49m\u001b[38;5;241;43m.\u001b[39;49m\u001b[43munits\u001b[49m\u001b[43m,\u001b[49m\u001b[43m \u001b[49m\u001b[38;5;28;43mself\u001b[39;49m\u001b[43m)\u001b[49m\n\u001b[1;32m   1666\u001b[0m \u001b[38;5;28;01mexcept\u001b[39;00m \u001b[38;5;167;01mException\u001b[39;00m \u001b[38;5;28;01mas\u001b[39;00m e:\n",
      "File \u001b[0;32m/opt/conda/lib/python3.10/site-packages/matplotlib/category.py:66\u001b[0m, in \u001b[0;36mStrCategoryConverter.convert\u001b[0;34m(value, unit, axis)\u001b[0m\n\u001b[1;32m     62\u001b[0m     _api\u001b[38;5;241m.\u001b[39mwarn_deprecated(\n\u001b[1;32m     63\u001b[0m         \u001b[38;5;124m\"\u001b[39m\u001b[38;5;124m3.5\u001b[39m\u001b[38;5;124m\"\u001b[39m, message\u001b[38;5;241m=\u001b[39m\u001b[38;5;124m\"\u001b[39m\u001b[38;5;124mSupport for passing numbers through unit \u001b[39m\u001b[38;5;124m\"\u001b[39m\n\u001b[1;32m     64\u001b[0m         \u001b[38;5;124m\"\u001b[39m\u001b[38;5;124mconverters is deprecated since \u001b[39m\u001b[38;5;132;01m%(since)s\u001b[39;00m\u001b[38;5;124m and support will be \u001b[39m\u001b[38;5;124m\"\u001b[39m\n\u001b[1;32m     65\u001b[0m         \u001b[38;5;124m\"\u001b[39m\u001b[38;5;124mremoved \u001b[39m\u001b[38;5;132;01m%(removal)s\u001b[39;00m\u001b[38;5;124m; use Axis.convert_units instead.\u001b[39m\u001b[38;5;124m\"\u001b[39m)\n\u001b[0;32m---> 66\u001b[0m     \u001b[38;5;28;01mreturn\u001b[39;00m \u001b[43mnp\u001b[49m\u001b[38;5;241;43m.\u001b[39;49m\u001b[43masarray\u001b[49m\u001b[43m(\u001b[49m\u001b[43mvalues\u001b[49m\u001b[43m,\u001b[49m\u001b[43m \u001b[49m\u001b[43mdtype\u001b[49m\u001b[38;5;241;43m=\u001b[39;49m\u001b[38;5;28;43mfloat\u001b[39;49m\u001b[43m)\u001b[49m\n\u001b[1;32m     67\u001b[0m \u001b[38;5;66;03m# force an update so it also does type checking\u001b[39;00m\n",
      "\u001b[0;31mValueError\u001b[0m: setting an array element with a sequence.",
      "\nThe above exception was the direct cause of the following exception:\n",
      "\u001b[0;31mConversionError\u001b[0m                           Traceback (most recent call last)",
      "Cell \u001b[0;32mIn[8], line 4\u001b[0m\n\u001b[1;32m      1\u001b[0m \u001b[38;5;28;01mimport\u001b[39;00m \u001b[38;5;21;01mmatplotlib\u001b[39;00m\u001b[38;5;21;01m.\u001b[39;00m\u001b[38;5;21;01mpyplot\u001b[39;00m \u001b[38;5;28;01mas\u001b[39;00m \u001b[38;5;21;01mplt\u001b[39;00m\n\u001b[1;32m      2\u001b[0m fig, ax \u001b[38;5;241m=\u001b[39m plt\u001b[38;5;241m.\u001b[39msubplots(\u001b[38;5;241m4\u001b[39m,\u001b[38;5;241m2\u001b[39m, sharey\u001b[38;5;241m=\u001b[39m\u001b[38;5;28;01mTrue\u001b[39;00m, figsize\u001b[38;5;241m=\u001b[39m(\u001b[38;5;241m8\u001b[39m,\u001b[38;5;241m14\u001b[39m))\n\u001b[0;32m----> 4\u001b[0m \u001b[43max\u001b[49m\u001b[43m[\u001b[49m\u001b[38;5;241;43m0\u001b[39;49m\u001b[43m,\u001b[49m\u001b[38;5;241;43m0\u001b[39;49m\u001b[43m]\u001b[49m\u001b[38;5;241;43m.\u001b[39;49m\u001b[43mhist\u001b[49m\u001b[43m(\u001b[49m\u001b[43mpredictions_df_openness\u001b[49m\u001b[43m[\u001b[49m\u001b[43mpredictions_df_openness\u001b[49m\u001b[43m[\u001b[49m\u001b[38;5;124;43m'\u001b[39;49m\u001b[38;5;124;43mpredictions_count_low\u001b[39;49m\u001b[38;5;124;43m'\u001b[39;49m\u001b[43m]\u001b[49m\u001b[38;5;241;43m>\u001b[39;49m\u001b[43mpredictions_df_openness\u001b[49m\u001b[43m[\u001b[49m\u001b[38;5;124;43m'\u001b[39;49m\u001b[38;5;124;43mpredictions_count_high\u001b[39;49m\u001b[38;5;124;43m'\u001b[39;49m\u001b[43m]\u001b[49m\u001b[43m]\u001b[49m\u001b[43m)\u001b[49m\n\u001b[1;32m      5\u001b[0m ax[\u001b[38;5;241m0\u001b[39m,\u001b[38;5;241m0\u001b[39m]\u001b[38;5;241m.\u001b[39mset_title(\u001b[38;5;124mf\u001b[39m\u001b[38;5;124m\"\u001b[39m\u001b[38;5;124mOpenness-LOW\u001b[39m\u001b[38;5;124m\"\u001b[39m)\n\u001b[1;32m      6\u001b[0m ax[\u001b[38;5;241m0\u001b[39m,\u001b[38;5;241m1\u001b[39m]\u001b[38;5;241m.\u001b[39mhist(predictions_df_openness[predictions_df_openness[\u001b[38;5;124m'\u001b[39m\u001b[38;5;124mpredictions_count_low\u001b[39m\u001b[38;5;124m'\u001b[39m]\u001b[38;5;241m<\u001b[39mpredictions_df_openness[\u001b[38;5;124m'\u001b[39m\u001b[38;5;124mpredictions_count_high\u001b[39m\u001b[38;5;124m'\u001b[39m]])\n",
      "File \u001b[0;32m/opt/conda/lib/python3.10/site-packages/matplotlib/__init__.py:1433\u001b[0m, in \u001b[0;36m_preprocess_data.<locals>.inner\u001b[0;34m(ax, data, *args, **kwargs)\u001b[0m\n\u001b[1;32m   1430\u001b[0m \u001b[38;5;129m@functools\u001b[39m\u001b[38;5;241m.\u001b[39mwraps(func)\n\u001b[1;32m   1431\u001b[0m \u001b[38;5;28;01mdef\u001b[39;00m \u001b[38;5;21minner\u001b[39m(ax, \u001b[38;5;241m*\u001b[39margs, data\u001b[38;5;241m=\u001b[39m\u001b[38;5;28;01mNone\u001b[39;00m, \u001b[38;5;241m*\u001b[39m\u001b[38;5;241m*\u001b[39mkwargs):\n\u001b[1;32m   1432\u001b[0m     \u001b[38;5;28;01mif\u001b[39;00m data \u001b[38;5;129;01mis\u001b[39;00m \u001b[38;5;28;01mNone\u001b[39;00m:\n\u001b[0;32m-> 1433\u001b[0m         \u001b[38;5;28;01mreturn\u001b[39;00m \u001b[43mfunc\u001b[49m\u001b[43m(\u001b[49m\u001b[43max\u001b[49m\u001b[43m,\u001b[49m\u001b[43m \u001b[49m\u001b[38;5;241;43m*\u001b[39;49m\u001b[38;5;28;43mmap\u001b[39;49m\u001b[43m(\u001b[49m\u001b[43msanitize_sequence\u001b[49m\u001b[43m,\u001b[49m\u001b[43m \u001b[49m\u001b[43margs\u001b[49m\u001b[43m)\u001b[49m\u001b[43m,\u001b[49m\u001b[43m \u001b[49m\u001b[38;5;241;43m*\u001b[39;49m\u001b[38;5;241;43m*\u001b[39;49m\u001b[43mkwargs\u001b[49m\u001b[43m)\u001b[49m\n\u001b[1;32m   1435\u001b[0m     bound \u001b[38;5;241m=\u001b[39m new_sig\u001b[38;5;241m.\u001b[39mbind(ax, \u001b[38;5;241m*\u001b[39margs, \u001b[38;5;241m*\u001b[39m\u001b[38;5;241m*\u001b[39mkwargs)\n\u001b[1;32m   1436\u001b[0m     auto_label \u001b[38;5;241m=\u001b[39m (bound\u001b[38;5;241m.\u001b[39marguments\u001b[38;5;241m.\u001b[39mget(label_namer)\n\u001b[1;32m   1437\u001b[0m                   \u001b[38;5;129;01mor\u001b[39;00m bound\u001b[38;5;241m.\u001b[39mkwargs\u001b[38;5;241m.\u001b[39mget(label_namer))\n",
      "File \u001b[0;32m/opt/conda/lib/python3.10/site-packages/matplotlib/axes/_axes.py:6664\u001b[0m, in \u001b[0;36mAxes.hist\u001b[0;34m(self, x, bins, range, density, weights, cumulative, bottom, histtype, align, orientation, rwidth, log, color, label, stacked, **kwargs)\u001b[0m\n\u001b[1;32m   6662\u001b[0m \u001b[38;5;28;01mif\u001b[39;00m orientation \u001b[38;5;241m==\u001b[39m \u001b[38;5;124m\"\u001b[39m\u001b[38;5;124mvertical\u001b[39m\u001b[38;5;124m\"\u001b[39m:\n\u001b[1;32m   6663\u001b[0m     convert_units \u001b[38;5;241m=\u001b[39m \u001b[38;5;28mself\u001b[39m\u001b[38;5;241m.\u001b[39mconvert_xunits\n\u001b[0;32m-> 6664\u001b[0m     x \u001b[38;5;241m=\u001b[39m [\u001b[38;5;241m*\u001b[39m\u001b[38;5;28mself\u001b[39m\u001b[38;5;241m.\u001b[39m_process_unit_info([(\u001b[38;5;124m\"\u001b[39m\u001b[38;5;124mx\u001b[39m\u001b[38;5;124m\"\u001b[39m, x[\u001b[38;5;241m0\u001b[39m])], kwargs),\n\u001b[1;32m   6665\u001b[0m          \u001b[38;5;241m*\u001b[39m\u001b[38;5;28mmap\u001b[39m(convert_units, x[\u001b[38;5;241m1\u001b[39m:])]\n\u001b[1;32m   6666\u001b[0m \u001b[38;5;28;01melse\u001b[39;00m:  \u001b[38;5;66;03m# horizontal\u001b[39;00m\n\u001b[1;32m   6667\u001b[0m     convert_units \u001b[38;5;241m=\u001b[39m \u001b[38;5;28mself\u001b[39m\u001b[38;5;241m.\u001b[39mconvert_yunits\n",
      "File \u001b[0;32m/opt/conda/lib/python3.10/site-packages/matplotlib/artist.py:251\u001b[0m, in \u001b[0;36mArtist.convert_xunits\u001b[0;34m(self, x)\u001b[0m\n\u001b[1;32m    249\u001b[0m \u001b[38;5;28;01mif\u001b[39;00m ax \u001b[38;5;129;01mis\u001b[39;00m \u001b[38;5;28;01mNone\u001b[39;00m \u001b[38;5;129;01mor\u001b[39;00m ax\u001b[38;5;241m.\u001b[39mxaxis \u001b[38;5;129;01mis\u001b[39;00m \u001b[38;5;28;01mNone\u001b[39;00m:\n\u001b[1;32m    250\u001b[0m     \u001b[38;5;28;01mreturn\u001b[39;00m x\n\u001b[0;32m--> 251\u001b[0m \u001b[38;5;28;01mreturn\u001b[39;00m \u001b[43max\u001b[49m\u001b[38;5;241;43m.\u001b[39;49m\u001b[43mxaxis\u001b[49m\u001b[38;5;241;43m.\u001b[39;49m\u001b[43mconvert_units\u001b[49m\u001b[43m(\u001b[49m\u001b[43mx\u001b[49m\u001b[43m)\u001b[49m\n",
      "File \u001b[0;32m/opt/conda/lib/python3.10/site-packages/matplotlib/axis.py:1667\u001b[0m, in \u001b[0;36mAxis.convert_units\u001b[0;34m(self, x)\u001b[0m\n\u001b[1;32m   1665\u001b[0m     ret \u001b[38;5;241m=\u001b[39m \u001b[38;5;28mself\u001b[39m\u001b[38;5;241m.\u001b[39mconverter\u001b[38;5;241m.\u001b[39mconvert(x, \u001b[38;5;28mself\u001b[39m\u001b[38;5;241m.\u001b[39munits, \u001b[38;5;28mself\u001b[39m)\n\u001b[1;32m   1666\u001b[0m \u001b[38;5;28;01mexcept\u001b[39;00m \u001b[38;5;167;01mException\u001b[39;00m \u001b[38;5;28;01mas\u001b[39;00m e:\n\u001b[0;32m-> 1667\u001b[0m     \u001b[38;5;28;01mraise\u001b[39;00m munits\u001b[38;5;241m.\u001b[39mConversionError(\u001b[38;5;124m'\u001b[39m\u001b[38;5;124mFailed to convert value(s) to axis \u001b[39m\u001b[38;5;124m'\u001b[39m\n\u001b[1;32m   1668\u001b[0m                                  \u001b[38;5;124mf\u001b[39m\u001b[38;5;124m'\u001b[39m\u001b[38;5;124munits: \u001b[39m\u001b[38;5;132;01m{\u001b[39;00mx\u001b[38;5;132;01m!r}\u001b[39;00m\u001b[38;5;124m'\u001b[39m) \u001b[38;5;28;01mfrom\u001b[39;00m \u001b[38;5;21;01me\u001b[39;00m\n\u001b[1;32m   1669\u001b[0m \u001b[38;5;28;01mreturn\u001b[39;00m ret\n",
      "\u001b[0;31mConversionError\u001b[0m: Failed to convert value(s) to axis units: array([list([2, 2, 0, 0, 0, 0, 0, 0, 0, 0, 0, 0, 0, 0, 0, 0, 0, 0, 0, 0, 0, 0, 0, 0, 0]),\n       list([2, 0, 0, 0, 0, 0, 0, 0, 0, 0, 0, 0, 0, 0, 0, 0, 0, 0, 0, 0, 0, 0, 0, 0, 0]),\n       list([0, 0, 0, 0, 0, 0, 0, 0, 0, 0, 0, 0, 0, 0, 0, 0, 0, 0, 0, 0, 0, 0, 0, 0, 0]),\n       ...,\n       list([2, 2, 2, 0, 0, 0, 0, 0, 0, 0, 0, 0, 0, 0, 0, 0, 0, 0, 0, 0, 0, 0]),\n       list([2, 2, 2, 0, 0, 0, 0, 0, 0, 0, 0, 0, 0, 0, 0, 0, 0, 0, 0, 0, 0, 0]),\n       list([2, 2, 2, 2, 0, 0, 0, 0, 0, 0, 0, 0, 0, 0, 0, 0, 0, 0, 0, 0, 0, 0])],\n      dtype=object)"
     ]
    },
    {
     "data": {
      "image/png": "[encoded data removed]",
      "text/plain": [
       "<Figure size 800x1400 with 8 Axes>"
      ]
     },
     "metadata": {},
     "output_type": "display_data"
    }
   ],
   "source": [
    "import matplotlib.pyplot as plt\n",
    "fig, ax = plt.subplots(4,2, sharey=True, figsize=(8,14))\n",
    "\n",
    "ax[0,0].hist(predictions_df_openness[predictions_df_openness['predictions_count_low']>predictions_df_openness['predictions_count_high']])\n",
    "ax[0,0].set_title(f\"Openness-LOW\")\n",
    "ax[0,1].hist(predictions_df_openness[predictions_df_openness['predictions_count_low']<predictions_df_openness['predictions_count_high']])\n",
    "ax[0,1].set_title(f\"Openness-HIGH\")\n",
    "\n",
    "ax[1,0].hist(predictions_df_cons['predictions_count_low'])\n",
    "ax[1,0].set_title(f\"Conscientiousness-LOW\")\n",
    "ax[1,1].hist(predictions_df_cons['predictions_count_high'])\n",
    "ax[1,1].set_title(f\"Conscientiousness-HIGH\")\n",
    "\n",
    "ax[2,0].hist(predictions_df['predictions_count_low'])\n",
    "ax[2,0].set_title(f\"{focused_trait}-LOW\")\n",
    "ax[2,1].hist(predictions_df['predictions_count_high'])\n",
    "ax[2,1].set_title(f\"{focused_trait}-HIGH\")\n",
    "\n",
    "ax[3,0].hist(predictions_df_agreeable['predictions_count_low'])\n",
    "ax[3,0].set_title(f\"Agreeable-LOW\")\n",
    "ax[3,1].hist(predictions_df_agreeable['predictions_count_high'])\n",
    "ax[3,1].set_title(f\"Agreeable-HIGH\")\n",
    "\n",
    "plt.show()"
   ]
  },
  {
   "cell_type": "code",
   "execution_count": 16,
   "id": "82dea3d7-3ecb-4293-86cd-e3c7842f579d",
   "metadata": {},
   "outputs": [],
   "source": [
    "import numpy as np\n",
    "# take the one with largest frequency.\n",
    "# when there is a draw (c0=c1=v2) (c0=c2) (c1=c2), (c0=c1) return vague.\n",
    "def decision(row):\n",
    "    freq = np.bincount(row[('predictions', 'list')])\n",
    "    freq_index = np.flip(np.argsort(freq))\n",
    "    if len(freq) == 1:\n",
    "        return freq_index[0]\n",
    "    elif freq[freq_index[0]] == freq[freq_index[1]]:\n",
    "        return 1 # vague\n",
    "    elif freq[freq_index[0]] > freq[freq_index[1]]:\n",
    "        return freq_index[0]\n",
    "\n",
    "\n",
    "        \n",
    "predictions_df['predictions_final'] = predictions_df.apply(decision, axis=1)"
   ]
  },
  {
   "cell_type": "code",
   "execution_count": 5,
   "id": "743fac19-1f3c-404e-b8af-88e30d05ece0",
   "metadata": {},
   "outputs": [
    {
     "name": "stderr",
     "output_type": "stream",
     "text": [
      "/opt/conda/lib/python3.10/site-packages/numpy/lib/stride_tricks.py:538: VisibleDeprecationWarning: Creating an ndarray from ragged nested sequences (which is a list-or-tuple of lists-or-tuples-or ndarrays with different lengths or shapes) is deprecated. If you meant to do this, you must specify 'dtype=object' when creating the ndarray.\n",
      "  args = [np.array(_m, copy=False, subok=subok) for _m in args]\n",
      "/opt/conda/lib/python3.10/site-packages/numpy/core/fromnumeric.py:43: VisibleDeprecationWarning: Creating an ndarray from ragged nested sequences (which is a list-or-tuple of lists-or-tuples-or ndarrays with different lengths or shapes) is deprecated. If you meant to do this, you must specify 'dtype=object' when creating the ndarray.\n",
      "  result = getattr(asarray(obj), method)(*args, **kwds)\n"
     ]
    },
    {
     "data": {
      "image/png": "[encoded data removed]",
      "text/plain": [
       "<Figure size 640x480 with 1 Axes>"
      ]
     },
     "metadata": {},
     "output_type": "display_data"
    }
   ],
   "source": [
    "import numpy as np \n",
    "import matplotlib.pyplot as plt \n",
    "  \n",
    "X = ['LOW','HIGH']\n",
    "all_five = ['Openness', 'Conscientiousness','Extroversion', 'Agreeableness', 'Neuroticism']\n",
    "openness_vc = predictions_df_openness['predictions_decision_10'].value_counts()\n",
    "conscientiousness_vc = predictions_df_cons['predictions_decision_10'].value_counts()\n",
    "Extroversion_vc = predictions_df_extro['predictions_decision_10'].value_counts()\n",
    "Agreeableness_vc = predictions_df_agreeable['predictions_decision_10'].value_counts()\n",
    "Neuroticism_vc = predictions_df_neuroticism['predictions_decision_10'].value_counts()\n",
    "\n",
    "Yopenness= [openness_vc['LOW'], openness_vc.get([\"HIGH\"], 0)]\n",
    "Yconscientiousness = [conscientiousness_vc['LOW'],  conscientiousness_vc.get([\"HIGH\"], 0)]\n",
    "YExtroversion = [Extroversion_vc['LOW'], Extroversion_vc.get([\"HIGH\"], 0)]\n",
    "YAgreeableness = [Agreeableness_vc['LOW'], Agreeableness_vc.get([\"HIGH\"], 0)]\n",
    "YNeuroticism = [Neuroticism_vc['LOW'], Neuroticism_vc.get([\"HIGH\"], 0)]\n",
    "\n",
    "#Neuroticism_vc.get([\"VAGUE\"], 0)\n",
    "    \n",
    "X_axis = np.arange(len(X))\n",
    "  \n",
    "plt.bar(X_axis - 0.4, Yopenness, 0.15, label = 'Openness')\n",
    "plt.bar(X_axis - 0.2, Yconscientiousness, 0.15, label = 'Conscientiousness')\n",
    "plt.bar(X_axis, YExtroversion, 0.15, label = 'Extroversion')\n",
    "plt.bar(X_axis + 0.2, YAgreeableness, 0.15, label = 'Agreeableness')\n",
    "plt.bar(X_axis + 0.4, YNeuroticism, 0.15, label = 'Neuroticism')\n",
    "  \n",
    "plt.xticks(X_axis, X)\n",
    "plt.xlabel(\"Groups\")\n",
    "plt.ylabel(\"# of instagram users\")\n",
    "plt.title(\"Inference stats: # of instagram users in each group, x10 for minority\")\n",
    "plt.legend()\n",
    "plt.show()"
   ]
  },
  {
   "cell_type": "code",
   "execution_count": 7,
   "id": "3fea28d5-eb71-46ad-9188-a23dd237a21c",
   "metadata": {},
   "outputs": [
    {
     "data": {
      "text/plain": [
       "[7942,\n",
       " HIGH    6298\n",
       " Name: predictions_decision_10, dtype: int64]"
      ]
     },
     "execution_count": 7,
     "metadata": {},
     "output_type": "execute_result"
    }
   ],
   "source": [
    "YAgreeableness"
   ]
  },
  {
   "cell_type": "code",
   "execution_count": 193,
   "id": "f9b04e65-ea65-4908-8b3e-401a04b00e61",
   "metadata": {
    "tags": []
   },
   "outputs": [
    {
     "name": "stderr",
     "output_type": "stream",
     "text": [
      "/opt/conda/lib/python3.10/site-packages/numpy/lib/stride_tricks.py:538: VisibleDeprecationWarning: Creating an ndarray from ragged nested sequences (which is a list-or-tuple of lists-or-tuples-or ndarrays with different lengths or shapes) is deprecated. If you meant to do this, you must specify 'dtype=object' when creating the ndarray.\n",
      "  args = [np.array(_m, copy=False, subok=subok) for _m in args]\n",
      "/opt/conda/lib/python3.10/site-packages/numpy/core/fromnumeric.py:43: VisibleDeprecationWarning: Creating an ndarray from ragged nested sequences (which is a list-or-tuple of lists-or-tuples-or ndarrays with different lengths or shapes) is deprecated. If you meant to do this, you must specify 'dtype=object' when creating the ndarray.\n",
      "  result = getattr(asarray(obj), method)(*args, **kwds)\n"
     ]
    },
    {
     "data": {
      "image/png": "[encoded data removed]",
      "text/plain": [
       "<Figure size 640x480 with 1 Axes>"
      ]
     },
     "metadata": {},
     "output_type": "display_data"
    }
   ],
   "source": [
    "import numpy as np \n",
    "import matplotlib.pyplot as plt \n",
    "  \n",
    "X = ['LOW','HIGH']\n",
    "all_five = ['Openness', 'Conscientiousness','Extroversion', 'Agreeableness', 'Neuroticism']\n",
    "openness_vc = predictions_df_openness['predictions_decision_3'].value_counts()\n",
    "conscientiousness_vc = predictions_df_cons['predictions_decision_3'].value_counts()\n",
    "Extroversion_vc = predictions_df_extro['predictions_decision_3'].value_counts()\n",
    "Agreeableness_vc = predictions_df_agreeable['predictions_decision_3'].value_counts()\n",
    "Neuroticism_vc = predictions_df_neuroticism['predictions_decision_10'].value_counts()\n",
    "\n",
    "Yopenness= [openness_vc['LOW'], openness_vc.get([\"HIGH\"], 0)]\n",
    "Yconscientiousness = [conscientiousness_vc['LOW'],  conscientiousness_vc.get([\"HIGH\"], 0)]\n",
    "YExtroversion = [Extroversion_vc['LOW'], Extroversion_vc.get([\"HIGH\"], 0)]\n",
    "YAgreeableness = [Agreeableness_vc['LOW'], Agreeableness_vc.get([\"HIGH\"], 0)]\n",
    "YNeuroticism = [Neuroticism_vc['LOW'], Neuroticism_vc.get([\"HIGH\"], 0)]\n",
    "\n",
    "#Neuroticism_vc.get([\"VAGUE\"], 0)\n",
    "    \n",
    "X_axis = np.arange(len(X))\n",
    "  \n",
    "plt.bar(X_axis - 0.4, Yopenness, 0.15, label = 'Openness')\n",
    "plt.bar(X_axis - 0.2, Yconscientiousness, 0.15, label = 'Conscientiousness')\n",
    "plt.bar(X_axis, YExtroversion, 0.15, label = 'Extroversion')\n",
    "plt.bar(X_axis + 0.2, YAgreeableness, 0.15, label = 'Agreeableness')\n",
    "plt.bar(X_axis + 0.4, YNeuroticism, 0.15, label = 'Neuroticism')\n",
    "  \n",
    "plt.xticks(X_axis, X)\n",
    "plt.xlabel(\"Groups\")\n",
    "plt.ylabel(\"# of instagram users\")\n",
    "plt.title(\"Inference stats: # of instagram users in each group, x3 for minority\")\n",
    "plt.legend()\n",
    "plt.show()"
   ]
  },
  {
   "cell_type": "code",
   "execution_count": null,
   "id": "25da0d08-2175-43be-9e44-0ca778e86d90",
   "metadata": {},
   "outputs": [],
   "source": []
  }
 ],
 "metadata": {
  "environment": {
   "kernel": "python3",
   "name": "tf2-gpu.2-11.m108",
   "type": "gcloud",
   "uri": "gcr.io/deeplearning-platform-release/tf2-gpu.2-11:m108"
  },
  "kernelspec": {
   "display_name": "Python 3 (ipykernel)",
   "language": "python",
   "name": "python3"
  },
  "language_info": {
   "codemirror_mode": {
    "name": "ipython",
    "version": 3
   },
   "file_extension": ".py",
   "mimetype": "text/x-python",
   "name": "python",
   "nbconvert_exporter": "python",
   "pygments_lexer": "ipython3",
   "version": "3.10.10"
  }
 },
 "nbformat": 4,
 "nbformat_minor": 5
}
