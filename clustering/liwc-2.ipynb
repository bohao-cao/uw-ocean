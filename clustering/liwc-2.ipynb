{
 "cells": [
  {
   "cell_type": "markdown",
   "metadata": {},
   "source": [
    "## This notebook attempts to create text from biography + post. "
   ]
  },
  {
   "cell_type": "code",
   "execution_count": 54,
   "metadata": {},
   "outputs": [],
   "source": [
    "import os \n",
    "import pandas as pd\n",
    "\n",
    "files = os.listdir(\"../data\")\n",
    "files.sort()\n",
    "\n",
    "df_women_event = pd.read_csv(os.path.join(\"../data\", files[0]), sep=\"\\t\")\n",
    "df_buy_insta_accounts_add_on = pd.read_csv(os.path.join(\"../data\", files[1]), sep=\"\\t\")\n",
    "df_buy_biz = pd.read_csv(os.path.join(\"../data\", files[2]), sep=\"\\t\")\n",
    "df_buy_insta_accounts = pd.read_csv(os.path.join(\"../data\", files[3]), sep=\"\\t\")\n",
    "df_women_event_mined = pd.read_csv(os.path.join(\"../data\", files[4]), sep=\"\\t\")"
   ]
  },
  {
   "cell_type": "code",
   "execution_count": 12,
   "metadata": {},
   "outputs": [
    {
     "data": {
      "text/html": [
       "<div>\n",
       "<style scoped>\n",
       "    .dataframe tbody tr th:only-of-type {\n",
       "        vertical-align: middle;\n",
       "    }\n",
       "\n",
       "    .dataframe tbody tr th {\n",
       "        vertical-align: top;\n",
       "    }\n",
       "\n",
       "    .dataframe thead th {\n",
       "        text-align: right;\n",
       "    }\n",
       "</style>\n",
       "<table border=\"1\" class=\"dataframe\">\n",
       "  <thead>\n",
       "    <tr style=\"text-align: right;\">\n",
       "      <th></th>\n",
       "      <th>username</th>\n",
       "      <th>biography</th>\n",
       "      <th>bio_word_count</th>\n",
       "    </tr>\n",
       "  </thead>\n",
       "  <tbody>\n",
       "    <tr>\n",
       "      <th>0</th>\n",
       "      <td>goodeatzco</td>\n",
       "      <td>🍴Professional Food Consumer🤘🏻😛 Tiktok 🎥: @good...</td>\n",
       "      <td>10</td>\n",
       "    </tr>\n",
       "    <tr>\n",
       "      <th>1</th>\n",
       "      <td>lexxalynn</td>\n",
       "      <td>Web &amp; Graphic Designer👩🏽‍💻 🧶Etsy: Knit Wits by...</td>\n",
       "      <td>15</td>\n",
       "    </tr>\n",
       "    <tr>\n",
       "      <th>2</th>\n",
       "      <td>a1republic</td>\n",
       "      <td>The #1 organic IG growth service for influence...</td>\n",
       "      <td>25</td>\n",
       "    </tr>\n",
       "    <tr>\n",
       "      <th>3</th>\n",
       "      <td>keychainsocial</td>\n",
       "      <td>Digital Social Media Agency • Unlock Your Pote...</td>\n",
       "      <td>8</td>\n",
       "    </tr>\n",
       "    <tr>\n",
       "      <th>4</th>\n",
       "      <td>thegiftshoppe.nft</td>\n",
       "      <td>by @jeremyfall + @aa.nft an nft agency ✉️ hell...</td>\n",
       "      <td>9</td>\n",
       "    </tr>\n",
       "    <tr>\n",
       "      <th>...</th>\n",
       "      <td>...</td>\n",
       "      <td>...</td>\n",
       "      <td>...</td>\n",
       "    </tr>\n",
       "    <tr>\n",
       "      <th>138</th>\n",
       "      <td>irose.social</td>\n",
       "      <td>Content | Photography | Events | Marketing 📸 b...</td>\n",
       "      <td>13</td>\n",
       "    </tr>\n",
       "    <tr>\n",
       "      <th>139</th>\n",
       "      <td>nattcity</td>\n",
       "      <td>𝘐𝘯𝘧𝘭𝘶𝘦𝘯𝘤𝘦 𝘱𝘰𝘴𝘪𝘵𝘪𝘷𝘦 𝘤𝘩𝘢𝘯𝘨𝘦 ♡ + full time boy ma...</td>\n",
       "      <td>18</td>\n",
       "    </tr>\n",
       "    <tr>\n",
       "      <th>140</th>\n",
       "      <td>jondennill</td>\n",
       "      <td>Digital Producer &amp; Creative Media Manager 📱 So...</td>\n",
       "      <td>17</td>\n",
       "    </tr>\n",
       "    <tr>\n",
       "      <th>141</th>\n",
       "      <td>igmodels_co</td>\n",
       "      <td>Follow The Official #IGModels Account ▪︎Exclus...</td>\n",
       "      <td>18</td>\n",
       "    </tr>\n",
       "    <tr>\n",
       "      <th>142</th>\n",
       "      <td>skystrategicmarketing</td>\n",
       "      <td>Full service advertising agency in Tampa that ...</td>\n",
       "      <td>20</td>\n",
       "    </tr>\n",
       "  </tbody>\n",
       "</table>\n",
       "<p>143 rows × 3 columns</p>\n",
       "</div>"
      ],
      "text/plain": [
       "                  username                                          biography  \\\n",
       "0               goodeatzco  🍴Professional Food Consumer🤘🏻😛 Tiktok 🎥: @good...   \n",
       "1                lexxalynn  Web & Graphic Designer👩🏽‍💻 🧶Etsy: Knit Wits by...   \n",
       "2               a1republic  The #1 organic IG growth service for influence...   \n",
       "3           keychainsocial  Digital Social Media Agency • Unlock Your Pote...   \n",
       "4        thegiftshoppe.nft  by @jeremyfall + @aa.nft an nft agency ✉️ hell...   \n",
       "..                     ...                                                ...   \n",
       "138           irose.social  Content | Photography | Events | Marketing 📸 b...   \n",
       "139               nattcity  𝘐𝘯𝘧𝘭𝘶𝘦𝘯𝘤𝘦 𝘱𝘰𝘴𝘪𝘵𝘪𝘷𝘦 𝘤𝘩𝘢𝘯𝘨𝘦 ♡ + full time boy ma...   \n",
       "140             jondennill  Digital Producer & Creative Media Manager 📱 So...   \n",
       "141            igmodels_co  Follow The Official #IGModels Account ▪︎Exclus...   \n",
       "142  skystrategicmarketing  Full service advertising agency in Tampa that ...   \n",
       "\n",
       "     bio_word_count  \n",
       "0                10  \n",
       "1                15  \n",
       "2                25  \n",
       "3                 8  \n",
       "4                 9  \n",
       "..              ...  \n",
       "138              13  \n",
       "139              18  \n",
       "140              17  \n",
       "141              18  \n",
       "142              20  \n",
       "\n",
       "[143 rows x 3 columns]"
      ]
     },
     "execution_count": 12,
     "metadata": {},
     "output_type": "execute_result"
    }
   ],
   "source": [
    "df_buy_biz[['username','biography','bio_word_count']]"
   ]
  },
  {
   "cell_type": "code",
   "execution_count": 10,
   "metadata": {},
   "outputs": [],
   "source": [
    "def get_word_count(s):\n",
    "    try:\n",
    "      return len([*s.split(\" \")])\n",
    "    except:\n",
    "       return -1\n",
    "\n",
    "df_buy_biz['bio_word_count']=df_buy_biz['biography'].apply(get_word_count)"
   ]
  },
  {
   "cell_type": "code",
   "execution_count": 17,
   "metadata": {},
   "outputs": [],
   "source": [
    "df_women_event['bio_word_count']=df_women_event['biography'].apply(get_word_count)\n",
    "#df_women_event"
   ]
  },
  {
   "cell_type": "code",
   "execution_count": 34,
   "metadata": {},
   "outputs": [
    {
     "data": {
      "text/plain": [
       "count    1472.000000\n",
       "mean       15.422554\n",
       "std         6.989317\n",
       "min        -1.000000\n",
       "25%        11.000000\n",
       "50%        16.000000\n",
       "75%        21.000000\n",
       "max        63.000000\n",
       "Name: bio_word_count, dtype: float64"
      ]
     },
     "execution_count": 34,
     "metadata": {},
     "output_type": "execute_result"
    }
   ],
   "source": [
    "df_women_event['bio_word_count'].describe()"
   ]
  },
  {
   "cell_type": "code",
   "execution_count": 59,
   "metadata": {},
   "outputs": [],
   "source": [
    "import pandas as pd\n",
    "post_df = pd.read_parquet(\"../concat_feature.parquet\")"
   ]
  },
  {
   "cell_type": "code",
   "execution_count": 29,
   "metadata": {},
   "outputs": [
    {
     "data": {
      "text/html": [
       "<div>\n",
       "<style scoped>\n",
       "    .dataframe tbody tr th:only-of-type {\n",
       "        vertical-align: middle;\n",
       "    }\n",
       "\n",
       "    .dataframe tbody tr th {\n",
       "        vertical-align: top;\n",
       "    }\n",
       "\n",
       "    .dataframe thead th {\n",
       "        text-align: right;\n",
       "    }\n",
       "</style>\n",
       "<table border=\"1\" class=\"dataframe\">\n",
       "  <thead>\n",
       "    <tr style=\"text-align: right;\">\n",
       "      <th></th>\n",
       "      <th>comments_count</th>\n",
       "      <th>like_count</th>\n",
       "      <th>caption</th>\n",
       "      <th>timestamp</th>\n",
       "      <th>media_type</th>\n",
       "      <th>id</th>\n",
       "      <th>ig_username</th>\n",
       "      <th>category</th>\n",
       "    </tr>\n",
       "  </thead>\n",
       "  <tbody>\n",
       "    <tr>\n",
       "      <th>24</th>\n",
       "      <td>8</td>\n",
       "      <td>105.0</td>\n",
       "      <td>💥 Ready to TRANSFORM your acting career? 🌟 The...</td>\n",
       "      <td>2023-05-30T08:17:30+0000</td>\n",
       "      <td>IMAGE</td>\n",
       "      <td>17926172633619105</td>\n",
       "      <td>wendyalane1</td>\n",
       "      <td>df_buy_insta_accounts_add_on</td>\n",
       "    </tr>\n",
       "    <tr>\n",
       "      <th>23</th>\n",
       "      <td>21</td>\n",
       "      <td>209.0</td>\n",
       "      <td>My man….\\nOkay, \\nHe must be KIND (to me and e...</td>\n",
       "      <td>2023-05-30T23:00:10+0000</td>\n",
       "      <td>IMAGE</td>\n",
       "      <td>17894811707810862</td>\n",
       "      <td>wendyalane1</td>\n",
       "      <td>df_buy_insta_accounts_add_on</td>\n",
       "    </tr>\n",
       "    <tr>\n",
       "      <th>22</th>\n",
       "      <td>6</td>\n",
       "      <td>135.0</td>\n",
       "      <td>ACTORS Are you ready to join the HWC family? \\...</td>\n",
       "      <td>2023-05-31T23:11:16+0000</td>\n",
       "      <td>CAROUSEL_ALBUM</td>\n",
       "      <td>18046992418448637</td>\n",
       "      <td>wendyalane1</td>\n",
       "      <td>df_buy_insta_accounts_add_on</td>\n",
       "    </tr>\n",
       "    <tr>\n",
       "      <th>21</th>\n",
       "      <td>80</td>\n",
       "      <td>1288.0</td>\n",
       "      <td>Skin is just a coating. If you can’t understan...</td>\n",
       "      <td>2023-06-01T23:46:04+0000</td>\n",
       "      <td>IMAGE</td>\n",
       "      <td>18176763358286707</td>\n",
       "      <td>wendyalane1</td>\n",
       "      <td>df_buy_insta_accounts_add_on</td>\n",
       "    </tr>\n",
       "    <tr>\n",
       "      <th>20</th>\n",
       "      <td>0</td>\n",
       "      <td>65.0</td>\n",
       "      <td>Highly Recommend!\\nFILM MAMKING CLASS\\n\\nJim D...</td>\n",
       "      <td>2023-06-02T01:14:15+0000</td>\n",
       "      <td>IMAGE</td>\n",
       "      <td>18297772795096238</td>\n",
       "      <td>wendyalane1</td>\n",
       "      <td>df_buy_insta_accounts_add_on</td>\n",
       "    </tr>\n",
       "    <tr>\n",
       "      <th>19</th>\n",
       "      <td>45</td>\n",
       "      <td>613.0</td>\n",
       "      <td>I pour into people I believe in.</td>\n",
       "      <td>2023-06-03T00:51:25+0000</td>\n",
       "      <td>VIDEO</td>\n",
       "      <td>17991817696959479</td>\n",
       "      <td>wendyalane1</td>\n",
       "      <td>df_buy_insta_accounts_add_on</td>\n",
       "    </tr>\n",
       "    <tr>\n",
       "      <th>18</th>\n",
       "      <td>4</td>\n",
       "      <td>54.0</td>\n",
       "      <td>ANOTHER booking from ERICK MCALLISTER. HWC wor...</td>\n",
       "      <td>2023-06-04T02:57:33+0000</td>\n",
       "      <td>IMAGE</td>\n",
       "      <td>17973244862464698</td>\n",
       "      <td>wendyalane1</td>\n",
       "      <td>df_buy_insta_accounts_add_on</td>\n",
       "    </tr>\n",
       "    <tr>\n",
       "      <th>17</th>\n",
       "      <td>9</td>\n",
       "      <td>126.0</td>\n",
       "      <td>Kim, we are so darn proud of you. You’re talen...</td>\n",
       "      <td>2023-06-08T19:58:27+0000</td>\n",
       "      <td>CAROUSEL_ALBUM</td>\n",
       "      <td>18021090622520917</td>\n",
       "      <td>wendyalane1</td>\n",
       "      <td>df_buy_insta_accounts_add_on</td>\n",
       "    </tr>\n",
       "    <tr>\n",
       "      <th>16</th>\n",
       "      <td>50</td>\n",
       "      <td>613.0</td>\n",
       "      <td>It takes a lot of courage to put yourself out ...</td>\n",
       "      <td>2023-06-08T22:42:29+0000</td>\n",
       "      <td>IMAGE</td>\n",
       "      <td>17975227967339915</td>\n",
       "      <td>wendyalane1</td>\n",
       "      <td>df_buy_insta_accounts_add_on</td>\n",
       "    </tr>\n",
       "    <tr>\n",
       "      <th>15</th>\n",
       "      <td>5</td>\n",
       "      <td>124.0</td>\n",
       "      <td>Ooooooh!!!! Previews…. And THEN!!! 🧜🏾‍♀️ 🧜🏾‍♀️...</td>\n",
       "      <td>2023-06-09T07:35:19+0000</td>\n",
       "      <td>CAROUSEL_ALBUM</td>\n",
       "      <td>18026420668492928</td>\n",
       "      <td>wendyalane1</td>\n",
       "      <td>df_buy_insta_accounts_add_on</td>\n",
       "    </tr>\n",
       "    <tr>\n",
       "      <th>14</th>\n",
       "      <td>6</td>\n",
       "      <td>182.0</td>\n",
       "      <td>Every single day, we get brand new actors on t...</td>\n",
       "      <td>2023-06-09T10:45:43+0000</td>\n",
       "      <td>CAROUSEL_ALBUM</td>\n",
       "      <td>17992530364848759</td>\n",
       "      <td>wendyalane1</td>\n",
       "      <td>df_buy_insta_accounts_add_on</td>\n",
       "    </tr>\n",
       "    <tr>\n",
       "      <th>13</th>\n",
       "      <td>2</td>\n",
       "      <td>83.0</td>\n",
       "      <td>None</td>\n",
       "      <td>2023-06-10T00:07:46+0000</td>\n",
       "      <td>CAROUSEL_ALBUM</td>\n",
       "      <td>17982986858281740</td>\n",
       "      <td>wendyalane1</td>\n",
       "      <td>df_buy_insta_accounts_add_on</td>\n",
       "    </tr>\n",
       "    <tr>\n",
       "      <th>12</th>\n",
       "      <td>9</td>\n",
       "      <td>218.0</td>\n",
       "      <td>Understand spending the day with one of my fav...</td>\n",
       "      <td>2023-06-10T04:43:10+0000</td>\n",
       "      <td>CAROUSEL_ALBUM</td>\n",
       "      <td>18192270925267831</td>\n",
       "      <td>wendyalane1</td>\n",
       "      <td>df_buy_insta_accounts_add_on</td>\n",
       "    </tr>\n",
       "    <tr>\n",
       "      <th>11</th>\n",
       "      <td>5</td>\n",
       "      <td>87.0</td>\n",
       "      <td>Photo by Amber Blake</td>\n",
       "      <td>2023-06-10T04:58:18+0000</td>\n",
       "      <td>IMAGE</td>\n",
       "      <td>17984221994177734</td>\n",
       "      <td>wendyalane1</td>\n",
       "      <td>df_buy_insta_accounts_add_on</td>\n",
       "    </tr>\n",
       "    <tr>\n",
       "      <th>10</th>\n",
       "      <td>12</td>\n",
       "      <td>113.0</td>\n",
       "      <td>One of the best weeks of my life with my dear ...</td>\n",
       "      <td>2023-06-12T08:45:03+0000</td>\n",
       "      <td>VIDEO</td>\n",
       "      <td>18251108740088052</td>\n",
       "      <td>wendyalane1</td>\n",
       "      <td>df_buy_insta_accounts_add_on</td>\n",
       "    </tr>\n",
       "    <tr>\n",
       "      <th>9</th>\n",
       "      <td>1</td>\n",
       "      <td>49.0</td>\n",
       "      <td>Actors, I am a Talent Manager. I know the insi...</td>\n",
       "      <td>2023-06-14T01:54:01+0000</td>\n",
       "      <td>CAROUSEL_ALBUM</td>\n",
       "      <td>18027723079483127</td>\n",
       "      <td>wendyalane1</td>\n",
       "      <td>df_buy_insta_accounts_add_on</td>\n",
       "    </tr>\n",
       "    <tr>\n",
       "      <th>8</th>\n",
       "      <td>25</td>\n",
       "      <td>417.0</td>\n",
       "      <td>You are working hard. You’re focused on your g...</td>\n",
       "      <td>2023-06-14T20:15:15+0000</td>\n",
       "      <td>VIDEO</td>\n",
       "      <td>18213336712218167</td>\n",
       "      <td>wendyalane1</td>\n",
       "      <td>df_buy_insta_accounts_add_on</td>\n",
       "    </tr>\n",
       "    <tr>\n",
       "      <th>7</th>\n",
       "      <td>0</td>\n",
       "      <td>32.0</td>\n",
       "      <td>What I teach you in Hollywood Winners Circle w...</td>\n",
       "      <td>2023-06-14T20:27:28+0000</td>\n",
       "      <td>VIDEO</td>\n",
       "      <td>17968187252291358</td>\n",
       "      <td>wendyalane1</td>\n",
       "      <td>df_buy_insta_accounts_add_on</td>\n",
       "    </tr>\n",
       "    <tr>\n",
       "      <th>6</th>\n",
       "      <td>0</td>\n",
       "      <td>82.0</td>\n",
       "      <td>None</td>\n",
       "      <td>2023-06-16T02:16:22+0000</td>\n",
       "      <td>VIDEO</td>\n",
       "      <td>17958046562558841</td>\n",
       "      <td>wendyalane1</td>\n",
       "      <td>df_buy_insta_accounts_add_on</td>\n",
       "    </tr>\n",
       "    <tr>\n",
       "      <th>5</th>\n",
       "      <td>21</td>\n",
       "      <td>483.0</td>\n",
       "      <td>This book is amazing! So moving, inspiring and...</td>\n",
       "      <td>2023-06-16T02:29:48+0000</td>\n",
       "      <td>IMAGE</td>\n",
       "      <td>17847809537995993</td>\n",
       "      <td>wendyalane1</td>\n",
       "      <td>df_buy_insta_accounts_add_on</td>\n",
       "    </tr>\n",
       "    <tr>\n",
       "      <th>4</th>\n",
       "      <td>6</td>\n",
       "      <td>157.0</td>\n",
       "      <td>You are here to give and serve the world.</td>\n",
       "      <td>2023-06-16T08:29:03+0000</td>\n",
       "      <td>IMAGE</td>\n",
       "      <td>17990166371082372</td>\n",
       "      <td>wendyalane1</td>\n",
       "      <td>df_buy_insta_accounts_add_on</td>\n",
       "    </tr>\n",
       "    <tr>\n",
       "      <th>3</th>\n",
       "      <td>9</td>\n",
       "      <td>341.0</td>\n",
       "      <td>Actors One of the biggest mistakes actors make...</td>\n",
       "      <td>2023-06-17T07:00:35+0000</td>\n",
       "      <td>VIDEO</td>\n",
       "      <td>17909572247696743</td>\n",
       "      <td>wendyalane1</td>\n",
       "      <td>df_buy_insta_accounts_add_on</td>\n",
       "    </tr>\n",
       "    <tr>\n",
       "      <th>2</th>\n",
       "      <td>14</td>\n",
       "      <td>243.0</td>\n",
       "      <td>The time you spend doubting yourself and wonde...</td>\n",
       "      <td>2023-06-18T20:52:08+0000</td>\n",
       "      <td>VIDEO</td>\n",
       "      <td>17889071324792756</td>\n",
       "      <td>wendyalane1</td>\n",
       "      <td>df_buy_insta_accounts_add_on</td>\n",
       "    </tr>\n",
       "    <tr>\n",
       "      <th>1</th>\n",
       "      <td>20</td>\n",
       "      <td>400.0</td>\n",
       "      <td>Actors do you want to be successful in this bu...</td>\n",
       "      <td>2023-06-19T08:26:02+0000</td>\n",
       "      <td>VIDEO</td>\n",
       "      <td>17911618985691215</td>\n",
       "      <td>wendyalane1</td>\n",
       "      <td>df_buy_insta_accounts_add_on</td>\n",
       "    </tr>\n",
       "    <tr>\n",
       "      <th>0</th>\n",
       "      <td>5</td>\n",
       "      <td>88.0</td>\n",
       "      <td>Several years ago Urusha Pandey watched my vid...</td>\n",
       "      <td>2023-06-20T07:03:33+0000</td>\n",
       "      <td>CAROUSEL_ALBUM</td>\n",
       "      <td>18029365417481034</td>\n",
       "      <td>wendyalane1</td>\n",
       "      <td>df_buy_insta_accounts_add_on</td>\n",
       "    </tr>\n",
       "  </tbody>\n",
       "</table>\n",
       "</div>"
      ],
      "text/plain": [
       "    comments_count  like_count  \\\n",
       "24               8       105.0   \n",
       "23              21       209.0   \n",
       "22               6       135.0   \n",
       "21              80      1288.0   \n",
       "20               0        65.0   \n",
       "19              45       613.0   \n",
       "18               4        54.0   \n",
       "17               9       126.0   \n",
       "16              50       613.0   \n",
       "15               5       124.0   \n",
       "14               6       182.0   \n",
       "13               2        83.0   \n",
       "12               9       218.0   \n",
       "11               5        87.0   \n",
       "10              12       113.0   \n",
       "9                1        49.0   \n",
       "8               25       417.0   \n",
       "7                0        32.0   \n",
       "6                0        82.0   \n",
       "5               21       483.0   \n",
       "4                6       157.0   \n",
       "3                9       341.0   \n",
       "2               14       243.0   \n",
       "1               20       400.0   \n",
       "0                5        88.0   \n",
       "\n",
       "                                              caption  \\\n",
       "24  💥 Ready to TRANSFORM your acting career? 🌟 The...   \n",
       "23  My man….\\nOkay, \\nHe must be KIND (to me and e...   \n",
       "22  ACTORS Are you ready to join the HWC family? \\...   \n",
       "21  Skin is just a coating. If you can’t understan...   \n",
       "20  Highly Recommend!\\nFILM MAMKING CLASS\\n\\nJim D...   \n",
       "19                   I pour into people I believe in.   \n",
       "18  ANOTHER booking from ERICK MCALLISTER. HWC wor...   \n",
       "17  Kim, we are so darn proud of you. You’re talen...   \n",
       "16  It takes a lot of courage to put yourself out ...   \n",
       "15  Ooooooh!!!! Previews…. And THEN!!! 🧜🏾‍♀️ 🧜🏾‍♀️...   \n",
       "14  Every single day, we get brand new actors on t...   \n",
       "13                                               None   \n",
       "12  Understand spending the day with one of my fav...   \n",
       "11                               Photo by Amber Blake   \n",
       "10  One of the best weeks of my life with my dear ...   \n",
       "9   Actors, I am a Talent Manager. I know the insi...   \n",
       "8   You are working hard. You’re focused on your g...   \n",
       "7   What I teach you in Hollywood Winners Circle w...   \n",
       "6                                                None   \n",
       "5   This book is amazing! So moving, inspiring and...   \n",
       "4           You are here to give and serve the world.   \n",
       "3   Actors One of the biggest mistakes actors make...   \n",
       "2   The time you spend doubting yourself and wonde...   \n",
       "1   Actors do you want to be successful in this bu...   \n",
       "0   Several years ago Urusha Pandey watched my vid...   \n",
       "\n",
       "                   timestamp      media_type                 id  ig_username  \\\n",
       "24  2023-05-30T08:17:30+0000           IMAGE  17926172633619105  wendyalane1   \n",
       "23  2023-05-30T23:00:10+0000           IMAGE  17894811707810862  wendyalane1   \n",
       "22  2023-05-31T23:11:16+0000  CAROUSEL_ALBUM  18046992418448637  wendyalane1   \n",
       "21  2023-06-01T23:46:04+0000           IMAGE  18176763358286707  wendyalane1   \n",
       "20  2023-06-02T01:14:15+0000           IMAGE  18297772795096238  wendyalane1   \n",
       "19  2023-06-03T00:51:25+0000           VIDEO  17991817696959479  wendyalane1   \n",
       "18  2023-06-04T02:57:33+0000           IMAGE  17973244862464698  wendyalane1   \n",
       "17  2023-06-08T19:58:27+0000  CAROUSEL_ALBUM  18021090622520917  wendyalane1   \n",
       "16  2023-06-08T22:42:29+0000           IMAGE  17975227967339915  wendyalane1   \n",
       "15  2023-06-09T07:35:19+0000  CAROUSEL_ALBUM  18026420668492928  wendyalane1   \n",
       "14  2023-06-09T10:45:43+0000  CAROUSEL_ALBUM  17992530364848759  wendyalane1   \n",
       "13  2023-06-10T00:07:46+0000  CAROUSEL_ALBUM  17982986858281740  wendyalane1   \n",
       "12  2023-06-10T04:43:10+0000  CAROUSEL_ALBUM  18192270925267831  wendyalane1   \n",
       "11  2023-06-10T04:58:18+0000           IMAGE  17984221994177734  wendyalane1   \n",
       "10  2023-06-12T08:45:03+0000           VIDEO  18251108740088052  wendyalane1   \n",
       "9   2023-06-14T01:54:01+0000  CAROUSEL_ALBUM  18027723079483127  wendyalane1   \n",
       "8   2023-06-14T20:15:15+0000           VIDEO  18213336712218167  wendyalane1   \n",
       "7   2023-06-14T20:27:28+0000           VIDEO  17968187252291358  wendyalane1   \n",
       "6   2023-06-16T02:16:22+0000           VIDEO  17958046562558841  wendyalane1   \n",
       "5   2023-06-16T02:29:48+0000           IMAGE  17847809537995993  wendyalane1   \n",
       "4   2023-06-16T08:29:03+0000           IMAGE  17990166371082372  wendyalane1   \n",
       "3   2023-06-17T07:00:35+0000           VIDEO  17909572247696743  wendyalane1   \n",
       "2   2023-06-18T20:52:08+0000           VIDEO  17889071324792756  wendyalane1   \n",
       "1   2023-06-19T08:26:02+0000           VIDEO  17911618985691215  wendyalane1   \n",
       "0   2023-06-20T07:03:33+0000  CAROUSEL_ALBUM  18029365417481034  wendyalane1   \n",
       "\n",
       "                        category  \n",
       "24  df_buy_insta_accounts_add_on  \n",
       "23  df_buy_insta_accounts_add_on  \n",
       "22  df_buy_insta_accounts_add_on  \n",
       "21  df_buy_insta_accounts_add_on  \n",
       "20  df_buy_insta_accounts_add_on  \n",
       "19  df_buy_insta_accounts_add_on  \n",
       "18  df_buy_insta_accounts_add_on  \n",
       "17  df_buy_insta_accounts_add_on  \n",
       "16  df_buy_insta_accounts_add_on  \n",
       "15  df_buy_insta_accounts_add_on  \n",
       "14  df_buy_insta_accounts_add_on  \n",
       "13  df_buy_insta_accounts_add_on  \n",
       "12  df_buy_insta_accounts_add_on  \n",
       "11  df_buy_insta_accounts_add_on  \n",
       "10  df_buy_insta_accounts_add_on  \n",
       "9   df_buy_insta_accounts_add_on  \n",
       "8   df_buy_insta_accounts_add_on  \n",
       "7   df_buy_insta_accounts_add_on  \n",
       "6   df_buy_insta_accounts_add_on  \n",
       "5   df_buy_insta_accounts_add_on  \n",
       "4   df_buy_insta_accounts_add_on  \n",
       "3   df_buy_insta_accounts_add_on  \n",
       "2   df_buy_insta_accounts_add_on  \n",
       "1   df_buy_insta_accounts_add_on  \n",
       "0   df_buy_insta_accounts_add_on  "
      ]
     },
     "execution_count": 29,
     "metadata": {},
     "output_type": "execute_result"
    }
   ],
   "source": [
    "post_df[post_df['ig_username']=='wendyalane1'].sort_values(by=\"timestamp\")"
   ]
  },
  {
   "cell_type": "code",
   "execution_count": 30,
   "metadata": {},
   "outputs": [],
   "source": [
    "post_df['post_word_count']=post_df['caption'].apply(get_word_count)"
   ]
  },
  {
   "cell_type": "code",
   "execution_count": 31,
   "metadata": {},
   "outputs": [
    {
     "data": {
      "text/plain": [
       "count    344027.000000\n",
       "mean         38.494583\n",
       "std          55.370469\n",
       "min          -1.000000\n",
       "25%           7.000000\n",
       "50%          19.000000\n",
       "75%          45.000000\n",
       "max         473.000000\n",
       "Name: post_word_count, dtype: float64"
      ]
     },
     "execution_count": 31,
     "metadata": {},
     "output_type": "execute_result"
    }
   ],
   "source": [
    "post_df['post_word_count'].describe()"
   ]
  },
  {
   "cell_type": "code",
   "execution_count": 52,
   "metadata": {},
   "outputs": [
    {
     "data": {
      "text/plain": [
       "0               0\n",
       "1               0\n",
       "2               0\n",
       "3               0\n",
       "4               0\n",
       "           ...   \n",
       "11276     4610087\n",
       "11277     5090818\n",
       "11278     5797973\n",
       "11279    10378677\n",
       "11280    12636893\n",
       "Name: follower_count, Length: 11281, dtype: int64"
      ]
     },
     "execution_count": 52,
     "metadata": {},
     "output_type": "execute_result"
    }
   ],
   "source": [
    "df_women_event_mined.follower_count"
   ]
  },
  {
   "cell_type": "code",
   "execution_count": 39,
   "metadata": {},
   "outputs": [
    {
     "data": {
      "text/html": [
       "<div>\n",
       "<style scoped>\n",
       "    .dataframe tbody tr th:only-of-type {\n",
       "        vertical-align: middle;\n",
       "    }\n",
       "\n",
       "    .dataframe tbody tr th {\n",
       "        vertical-align: top;\n",
       "    }\n",
       "\n",
       "    .dataframe thead th {\n",
       "        text-align: right;\n",
       "    }\n",
       "</style>\n",
       "<table border=\"1\" class=\"dataframe\">\n",
       "  <thead>\n",
       "    <tr style=\"text-align: right;\">\n",
       "      <th></th>\n",
       "      <th>username</th>\n",
       "      <th>biography</th>\n",
       "      <th>bio_word_count</th>\n",
       "      <th>category</th>\n",
       "      <th>MostRecentPostDate</th>\n",
       "      <th>bio_word_count</th>\n",
       "      <th>engagement_percent</th>\n",
       "    </tr>\n",
       "  </thead>\n",
       "  <tbody>\n",
       "    <tr>\n",
       "      <th>0</th>\n",
       "      <td>goodeatzco</td>\n",
       "      <td>🍴Professional Food Consumer🤘🏻😛 Tiktok 🎥: @good...</td>\n",
       "      <td>10</td>\n",
       "      <td>Blogger</td>\n",
       "      <td>2022-01-04 20:52:16</td>\n",
       "      <td>10</td>\n",
       "      <td>0.14</td>\n",
       "    </tr>\n",
       "    <tr>\n",
       "      <th>1</th>\n",
       "      <td>lexxalynn</td>\n",
       "      <td>Web &amp; Graphic Designer👩🏽‍💻 🧶Etsy: Knit Wits by...</td>\n",
       "      <td>15</td>\n",
       "      <td>NaN</td>\n",
       "      <td>NaN</td>\n",
       "      <td>15</td>\n",
       "      <td>0.00</td>\n",
       "    </tr>\n",
       "    <tr>\n",
       "      <th>2</th>\n",
       "      <td>a1republic</td>\n",
       "      <td>The #1 organic IG growth service for influence...</td>\n",
       "      <td>25</td>\n",
       "      <td>Social Media Agency</td>\n",
       "      <td>2021-03-30 19:31:57</td>\n",
       "      <td>25</td>\n",
       "      <td>0.53</td>\n",
       "    </tr>\n",
       "    <tr>\n",
       "      <th>3</th>\n",
       "      <td>keychainsocial</td>\n",
       "      <td>Digital Social Media Agency • Unlock Your Pote...</td>\n",
       "      <td>8</td>\n",
       "      <td>NaN</td>\n",
       "      <td>2020-01-22 9:56:45</td>\n",
       "      <td>8</td>\n",
       "      <td>NaN</td>\n",
       "    </tr>\n",
       "    <tr>\n",
       "      <th>4</th>\n",
       "      <td>thegiftshoppe.nft</td>\n",
       "      <td>by @jeremyfall + @aa.nft an nft agency ✉️ hell...</td>\n",
       "      <td>9</td>\n",
       "      <td>NaN</td>\n",
       "      <td>2021-02-16 23:17:40</td>\n",
       "      <td>9</td>\n",
       "      <td>0.57</td>\n",
       "    </tr>\n",
       "    <tr>\n",
       "      <th>...</th>\n",
       "      <td>...</td>\n",
       "      <td>...</td>\n",
       "      <td>...</td>\n",
       "      <td>...</td>\n",
       "      <td>...</td>\n",
       "      <td>...</td>\n",
       "      <td>...</td>\n",
       "    </tr>\n",
       "    <tr>\n",
       "      <th>138</th>\n",
       "      <td>irose.social</td>\n",
       "      <td>Content | Photography | Events | Marketing 📸 b...</td>\n",
       "      <td>13</td>\n",
       "      <td>Product/service</td>\n",
       "      <td>2022-01-03 22:26:32</td>\n",
       "      <td>13</td>\n",
       "      <td>0.30</td>\n",
       "    </tr>\n",
       "    <tr>\n",
       "      <th>139</th>\n",
       "      <td>nattcity</td>\n",
       "      <td>𝘐𝘯𝘧𝘭𝘶𝘦𝘯𝘤𝘦 𝘱𝘰𝘴𝘪𝘵𝘪𝘷𝘦 𝘤𝘩𝘢𝘯𝘨𝘦 ♡ + full time boy ma...</td>\n",
       "      <td>18</td>\n",
       "      <td>Actor</td>\n",
       "      <td>2022-01-03 22:13:06</td>\n",
       "      <td>18</td>\n",
       "      <td>0.06</td>\n",
       "    </tr>\n",
       "    <tr>\n",
       "      <th>140</th>\n",
       "      <td>jondennill</td>\n",
       "      <td>Digital Producer &amp; Creative Media Manager 📱 So...</td>\n",
       "      <td>17</td>\n",
       "      <td>NaN</td>\n",
       "      <td>2021-12-26 18:30:05</td>\n",
       "      <td>17</td>\n",
       "      <td>0.49</td>\n",
       "    </tr>\n",
       "    <tr>\n",
       "      <th>141</th>\n",
       "      <td>igmodels_co</td>\n",
       "      <td>Follow The Official #IGModels Account ▪︎Exclus...</td>\n",
       "      <td>18</td>\n",
       "      <td>Social Media Agency</td>\n",
       "      <td>2021-09-26 13:33:30</td>\n",
       "      <td>18</td>\n",
       "      <td>0.01</td>\n",
       "    </tr>\n",
       "    <tr>\n",
       "      <th>142</th>\n",
       "      <td>skystrategicmarketing</td>\n",
       "      <td>Full service advertising agency in Tampa that ...</td>\n",
       "      <td>20</td>\n",
       "      <td>NaN</td>\n",
       "      <td>2021-12-25 16:00:06</td>\n",
       "      <td>20</td>\n",
       "      <td>0.18</td>\n",
       "    </tr>\n",
       "  </tbody>\n",
       "</table>\n",
       "<p>143 rows × 7 columns</p>\n",
       "</div>"
      ],
      "text/plain": [
       "                  username                                          biography  \\\n",
       "0               goodeatzco  🍴Professional Food Consumer🤘🏻😛 Tiktok 🎥: @good...   \n",
       "1                lexxalynn  Web & Graphic Designer👩🏽‍💻 🧶Etsy: Knit Wits by...   \n",
       "2               a1republic  The #1 organic IG growth service for influence...   \n",
       "3           keychainsocial  Digital Social Media Agency • Unlock Your Pote...   \n",
       "4        thegiftshoppe.nft  by @jeremyfall + @aa.nft an nft agency ✉️ hell...   \n",
       "..                     ...                                                ...   \n",
       "138           irose.social  Content | Photography | Events | Marketing 📸 b...   \n",
       "139               nattcity  𝘐𝘯𝘧𝘭𝘶𝘦𝘯𝘤𝘦 𝘱𝘰𝘴𝘪𝘵𝘪𝘷𝘦 𝘤𝘩𝘢𝘯𝘨𝘦 ♡ + full time boy ma...   \n",
       "140             jondennill  Digital Producer & Creative Media Manager 📱 So...   \n",
       "141            igmodels_co  Follow The Official #IGModels Account ▪︎Exclus...   \n",
       "142  skystrategicmarketing  Full service advertising agency in Tampa that ...   \n",
       "\n",
       "     bio_word_count             category   MostRecentPostDate  bio_word_count  \\\n",
       "0                10              Blogger  2022-01-04 20:52:16              10   \n",
       "1                15                  NaN                  NaN              15   \n",
       "2                25  Social Media Agency  2021-03-30 19:31:57              25   \n",
       "3                 8                  NaN   2020-01-22 9:56:45               8   \n",
       "4                 9                  NaN  2021-02-16 23:17:40               9   \n",
       "..              ...                  ...                  ...             ...   \n",
       "138              13      Product/service  2022-01-03 22:26:32              13   \n",
       "139              18                Actor  2022-01-03 22:13:06              18   \n",
       "140              17                  NaN  2021-12-26 18:30:05              17   \n",
       "141              18  Social Media Agency  2021-09-26 13:33:30              18   \n",
       "142              20                  NaN  2021-12-25 16:00:06              20   \n",
       "\n",
       "     engagement_percent  \n",
       "0                  0.14  \n",
       "1                  0.00  \n",
       "2                  0.53  \n",
       "3                   NaN  \n",
       "4                  0.57  \n",
       "..                  ...  \n",
       "138                0.30  \n",
       "139                0.06  \n",
       "140                0.49  \n",
       "141                0.01  \n",
       "142                0.18  \n",
       "\n",
       "[143 rows x 7 columns]"
      ]
     },
     "execution_count": 39,
     "metadata": {},
     "output_type": "execute_result"
    }
   ],
   "source": [
    "df_buy_biz[['username','biography','bio_word_count','category']]"
   ]
  },
  {
   "cell_type": "code",
   "execution_count": 55,
   "metadata": {},
   "outputs": [
    {
     "name": "stdout",
     "output_type": "stream",
     "text": [
      "df_women_event\n",
      "df_buy_insta_accounts_add_on\n",
      "df_buy_biz\n",
      "df_buy_insta_accounts\n",
      "df_women_event_mined\n"
     ]
    }
   ],
   "source": [
    "import inspect\n",
    "df_women_event.name=\"df_women_event\"\n",
    "df_buy_insta_accounts_add_on.name=\"df_buy_insta_accounts_add_on\"\n",
    "df_buy_biz.name=\"df_buy_biz\"\n",
    "df_buy_insta_accounts.name=\"df_buy_insta_accounts\"\n",
    "df_women_event_mined.name=\"df_women_event_mined\"\n",
    "\n",
    "dfs = [df_women_event, df_buy_insta_accounts_add_on, df_buy_biz, df_buy_insta_accounts, df_women_event_mined]\n",
    "final_df = pd.DataFrame()\n",
    "columns = ['username','biography','follower_count','bio_word_count','category']\n",
    "#'bio_word_count'\n",
    "#category\n",
    "\n",
    "def get_word_count(s):\n",
    "    try:\n",
    "      return len([*s.split(\" \")])\n",
    "    except:\n",
    "       return -1\n",
    "    \n",
    "for df in dfs:\n",
    "    print(df.name)\n",
    "    df['bio_word_count']=df['biography'].apply(get_word_count)\n",
    "    df['category']= df.name\n",
    "    final_df = pd.concat([final_df, df[columns]])\n",
    "    "
   ]
  },
  {
   "cell_type": "code",
   "execution_count": 56,
   "metadata": {},
   "outputs": [
    {
     "data": {
      "text/html": [
       "<div>\n",
       "<style scoped>\n",
       "    .dataframe tbody tr th:only-of-type {\n",
       "        vertical-align: middle;\n",
       "    }\n",
       "\n",
       "    .dataframe tbody tr th {\n",
       "        vertical-align: top;\n",
       "    }\n",
       "\n",
       "    .dataframe thead th {\n",
       "        text-align: right;\n",
       "    }\n",
       "</style>\n",
       "<table border=\"1\" class=\"dataframe\">\n",
       "  <thead>\n",
       "    <tr style=\"text-align: right;\">\n",
       "      <th></th>\n",
       "      <th>username</th>\n",
       "      <th>biography</th>\n",
       "      <th>follower_count</th>\n",
       "      <th>bio_word_count</th>\n",
       "      <th>category</th>\n",
       "    </tr>\n",
       "  </thead>\n",
       "  <tbody>\n",
       "    <tr>\n",
       "      <th>0</th>\n",
       "      <td>ariannyceleste</td>\n",
       "      <td>Raidens Mom 👶🏽🐶🐶🧿 Founder @girlfriendbox @them...</td>\n",
       "      <td>3288148</td>\n",
       "      <td>15</td>\n",
       "      <td>df_women_event</td>\n",
       "    </tr>\n",
       "    <tr>\n",
       "      <th>1</th>\n",
       "      <td>sarahstage</td>\n",
       "      <td>Boy Mom 👶🏻👦🏻 Wife 💃🏻 &amp; Online Fitness Coach 💪🏼...</td>\n",
       "      <td>2086691</td>\n",
       "      <td>20</td>\n",
       "      <td>df_women_event</td>\n",
       "    </tr>\n",
       "    <tr>\n",
       "      <th>2</th>\n",
       "      <td>beauty_nurse_elizabeth</td>\n",
       "      <td>Aesthetic RN-BSN •Injection Artist 🌹 •Natural ...</td>\n",
       "      <td>1504557</td>\n",
       "      <td>17</td>\n",
       "      <td>df_women_event</td>\n",
       "    </tr>\n",
       "    <tr>\n",
       "      <th>3</th>\n",
       "      <td>carlyrbel</td>\n",
       "      <td>One of a kind ✨ • @carlybelx • shop @carlyclub...</td>\n",
       "      <td>1035410</td>\n",
       "      <td>15</td>\n",
       "      <td>df_women_event</td>\n",
       "    </tr>\n",
       "    <tr>\n",
       "      <th>4</th>\n",
       "      <td>houdaschimmel</td>\n",
       "      <td>Founder @shimmypetsalon @shimmyschimmel 🇲🇦|🇺🇸</td>\n",
       "      <td>693036</td>\n",
       "      <td>4</td>\n",
       "      <td>df_women_event</td>\n",
       "    </tr>\n",
       "    <tr>\n",
       "      <th>...</th>\n",
       "      <td>...</td>\n",
       "      <td>...</td>\n",
       "      <td>...</td>\n",
       "      <td>...</td>\n",
       "      <td>...</td>\n",
       "    </tr>\n",
       "    <tr>\n",
       "      <th>11276</th>\n",
       "      <td>lianev</td>\n",
       "      <td>Business inquiries Jennifer@thejgoagency.com T...</td>\n",
       "      <td>4610087</td>\n",
       "      <td>28</td>\n",
       "      <td>df_women_event_mined</td>\n",
       "    </tr>\n",
       "    <tr>\n",
       "      <th>11277</th>\n",
       "      <td>kuz</td>\n",
       "      <td>Vino @lakers inquiries@kylekuzma.com @puma Ath...</td>\n",
       "      <td>5090818</td>\n",
       "      <td>5</td>\n",
       "      <td>df_women_event_mined</td>\n",
       "    </tr>\n",
       "    <tr>\n",
       "      <th>11278</th>\n",
       "      <td>tanamongeau</td>\n",
       "      <td>BLACK. LIVES. MATTER. LINK IN BIO TO HELP; @th...</td>\n",
       "      <td>5797973</td>\n",
       "      <td>24</td>\n",
       "      <td>df_women_event_mined</td>\n",
       "    </tr>\n",
       "    <tr>\n",
       "      <th>11279</th>\n",
       "      <td>lilyachty</td>\n",
       "      <td>no stylist; Itâ€™s us!; no stylist; It’s us!;;...</td>\n",
       "      <td>10378677</td>\n",
       "      <td>11</td>\n",
       "      <td>df_women_event_mined</td>\n",
       "    </tr>\n",
       "    <tr>\n",
       "      <th>11280</th>\n",
       "      <td>jenselter</td>\n",
       "      <td>ðŸ“§ hello@jenselter.com ðŸ�“@blendjet â�¤ï¸�L...</td>\n",
       "      <td>12636893</td>\n",
       "      <td>24</td>\n",
       "      <td>df_women_event_mined</td>\n",
       "    </tr>\n",
       "  </tbody>\n",
       "</table>\n",
       "<p>21165 rows × 5 columns</p>\n",
       "</div>"
      ],
      "text/plain": [
       "                     username  \\\n",
       "0              ariannyceleste   \n",
       "1                  sarahstage   \n",
       "2      beauty_nurse_elizabeth   \n",
       "3                   carlyrbel   \n",
       "4               houdaschimmel   \n",
       "...                       ...   \n",
       "11276                  lianev   \n",
       "11277                     kuz   \n",
       "11278             tanamongeau   \n",
       "11279               lilyachty   \n",
       "11280               jenselter   \n",
       "\n",
       "                                               biography  follower_count  \\\n",
       "0      Raidens Mom 👶🏽🐶🐶🧿 Founder @girlfriendbox @them...         3288148   \n",
       "1      Boy Mom 👶🏻👦🏻 Wife 💃🏻 & Online Fitness Coach 💪🏼...         2086691   \n",
       "2      Aesthetic RN-BSN •Injection Artist 🌹 •Natural ...         1504557   \n",
       "3      One of a kind ✨ • @carlybelx • shop @carlyclub...         1035410   \n",
       "4          Founder @shimmypetsalon @shimmyschimmel 🇲🇦|🇺🇸          693036   \n",
       "...                                                  ...             ...   \n",
       "11276  Business inquiries Jennifer@thejgoagency.com T...         4610087   \n",
       "11277  Vino @lakers inquiries@kylekuzma.com @puma Ath...         5090818   \n",
       "11278  BLACK. LIVES. MATTER. LINK IN BIO TO HELP; @th...         5797973   \n",
       "11279  no stylist; Itâ€™s us!; no stylist; It’s us!;;...        10378677   \n",
       "11280  ðŸ“§ hello@jenselter.com ðŸ�“@blendjet â�¤ï¸�L...        12636893   \n",
       "\n",
       "       bio_word_count              category  \n",
       "0                  15        df_women_event  \n",
       "1                  20        df_women_event  \n",
       "2                  17        df_women_event  \n",
       "3                  15        df_women_event  \n",
       "4                   4        df_women_event  \n",
       "...               ...                   ...  \n",
       "11276              28  df_women_event_mined  \n",
       "11277               5  df_women_event_mined  \n",
       "11278              24  df_women_event_mined  \n",
       "11279              11  df_women_event_mined  \n",
       "11280              24  df_women_event_mined  \n",
       "\n",
       "[21165 rows x 5 columns]"
      ]
     },
     "execution_count": 56,
     "metadata": {},
     "output_type": "execute_result"
    }
   ],
   "source": [
    "final_df"
   ]
  },
  {
   "cell_type": "code",
   "execution_count": 57,
   "metadata": {},
   "outputs": [],
   "source": [
    "final_df = final_df.merge(pd.DataFrame(post_df['ig_username'].unique(), columns=[\"ig_username\"]), left_on=\"username\", right_on=\"ig_username\", how=\"inner\")"
   ]
  },
  {
   "cell_type": "code",
   "execution_count": 58,
   "metadata": {},
   "outputs": [
    {
     "data": {
      "text/html": [
       "<div>\n",
       "<style scoped>\n",
       "    .dataframe tbody tr th:only-of-type {\n",
       "        vertical-align: middle;\n",
       "    }\n",
       "\n",
       "    .dataframe tbody tr th {\n",
       "        vertical-align: top;\n",
       "    }\n",
       "\n",
       "    .dataframe thead th {\n",
       "        text-align: right;\n",
       "    }\n",
       "</style>\n",
       "<table border=\"1\" class=\"dataframe\">\n",
       "  <thead>\n",
       "    <tr style=\"text-align: right;\">\n",
       "      <th></th>\n",
       "      <th>username</th>\n",
       "      <th>biography</th>\n",
       "      <th>follower_count</th>\n",
       "      <th>bio_word_count</th>\n",
       "      <th>category</th>\n",
       "      <th>ig_username</th>\n",
       "    </tr>\n",
       "  </thead>\n",
       "  <tbody>\n",
       "    <tr>\n",
       "      <th>0</th>\n",
       "      <td>ariannyceleste</td>\n",
       "      <td>Raidens Mom 👶🏽🐶🐶🧿 Founder @girlfriendbox @them...</td>\n",
       "      <td>3288148</td>\n",
       "      <td>15</td>\n",
       "      <td>df_women_event</td>\n",
       "      <td>ariannyceleste</td>\n",
       "    </tr>\n",
       "    <tr>\n",
       "      <th>1</th>\n",
       "      <td>sarahstage</td>\n",
       "      <td>Boy Mom 👶🏻👦🏻 Wife 💃🏻 &amp; Online Fitness Coach 💪🏼...</td>\n",
       "      <td>2086691</td>\n",
       "      <td>20</td>\n",
       "      <td>df_women_event</td>\n",
       "      <td>sarahstage</td>\n",
       "    </tr>\n",
       "    <tr>\n",
       "      <th>2</th>\n",
       "      <td>beauty_nurse_elizabeth</td>\n",
       "      <td>Aesthetic RN-BSN •Injection Artist 🌹 •Natural ...</td>\n",
       "      <td>1504557</td>\n",
       "      <td>17</td>\n",
       "      <td>df_women_event</td>\n",
       "      <td>beauty_nurse_elizabeth</td>\n",
       "    </tr>\n",
       "    <tr>\n",
       "      <th>3</th>\n",
       "      <td>carlyrbel</td>\n",
       "      <td>One of a kind ✨ • @carlybelx • shop @carlyclub...</td>\n",
       "      <td>1035410</td>\n",
       "      <td>15</td>\n",
       "      <td>df_women_event</td>\n",
       "      <td>carlyrbel</td>\n",
       "    </tr>\n",
       "    <tr>\n",
       "      <th>4</th>\n",
       "      <td>biolayne</td>\n",
       "      <td>PhD Nutrition Science 💍@hollytbaxter @carbondi...</td>\n",
       "      <td>537572</td>\n",
       "      <td>12</td>\n",
       "      <td>df_women_event</td>\n",
       "      <td>biolayne</td>\n",
       "    </tr>\n",
       "    <tr>\n",
       "      <th>...</th>\n",
       "      <td>...</td>\n",
       "      <td>...</td>\n",
       "      <td>...</td>\n",
       "      <td>...</td>\n",
       "      <td>...</td>\n",
       "      <td>...</td>\n",
       "    </tr>\n",
       "    <tr>\n",
       "      <th>14282</th>\n",
       "      <td>lianev</td>\n",
       "      <td>Business inquiries Jennifer@thejgoagency.com T...</td>\n",
       "      <td>4610087</td>\n",
       "      <td>28</td>\n",
       "      <td>df_women_event_mined</td>\n",
       "      <td>lianev</td>\n",
       "    </tr>\n",
       "    <tr>\n",
       "      <th>14283</th>\n",
       "      <td>kuz</td>\n",
       "      <td>Vino @lakers inquiries@kylekuzma.com @puma Ath...</td>\n",
       "      <td>5090818</td>\n",
       "      <td>5</td>\n",
       "      <td>df_women_event_mined</td>\n",
       "      <td>kuz</td>\n",
       "    </tr>\n",
       "    <tr>\n",
       "      <th>14284</th>\n",
       "      <td>tanamongeau</td>\n",
       "      <td>BLACK. LIVES. MATTER. LINK IN BIO TO HELP; @th...</td>\n",
       "      <td>5797973</td>\n",
       "      <td>24</td>\n",
       "      <td>df_women_event_mined</td>\n",
       "      <td>tanamongeau</td>\n",
       "    </tr>\n",
       "    <tr>\n",
       "      <th>14285</th>\n",
       "      <td>lilyachty</td>\n",
       "      <td>no stylist; Itâ€™s us!; no stylist; It’s us!;;...</td>\n",
       "      <td>10378677</td>\n",
       "      <td>11</td>\n",
       "      <td>df_women_event_mined</td>\n",
       "      <td>lilyachty</td>\n",
       "    </tr>\n",
       "    <tr>\n",
       "      <th>14286</th>\n",
       "      <td>jenselter</td>\n",
       "      <td>ðŸ“§ hello@jenselter.com ðŸ�“@blendjet â�¤ï¸�L...</td>\n",
       "      <td>12636893</td>\n",
       "      <td>24</td>\n",
       "      <td>df_women_event_mined</td>\n",
       "      <td>jenselter</td>\n",
       "    </tr>\n",
       "  </tbody>\n",
       "</table>\n",
       "<p>14287 rows × 6 columns</p>\n",
       "</div>"
      ],
      "text/plain": [
       "                     username  \\\n",
       "0              ariannyceleste   \n",
       "1                  sarahstage   \n",
       "2      beauty_nurse_elizabeth   \n",
       "3                   carlyrbel   \n",
       "4                    biolayne   \n",
       "...                       ...   \n",
       "14282                  lianev   \n",
       "14283                     kuz   \n",
       "14284             tanamongeau   \n",
       "14285               lilyachty   \n",
       "14286               jenselter   \n",
       "\n",
       "                                               biography  follower_count  \\\n",
       "0      Raidens Mom 👶🏽🐶🐶🧿 Founder @girlfriendbox @them...         3288148   \n",
       "1      Boy Mom 👶🏻👦🏻 Wife 💃🏻 & Online Fitness Coach 💪🏼...         2086691   \n",
       "2      Aesthetic RN-BSN •Injection Artist 🌹 •Natural ...         1504557   \n",
       "3      One of a kind ✨ • @carlybelx • shop @carlyclub...         1035410   \n",
       "4      PhD Nutrition Science 💍@hollytbaxter @carbondi...          537572   \n",
       "...                                                  ...             ...   \n",
       "14282  Business inquiries Jennifer@thejgoagency.com T...         4610087   \n",
       "14283  Vino @lakers inquiries@kylekuzma.com @puma Ath...         5090818   \n",
       "14284  BLACK. LIVES. MATTER. LINK IN BIO TO HELP; @th...         5797973   \n",
       "14285  no stylist; Itâ€™s us!; no stylist; It’s us!;;...        10378677   \n",
       "14286  ðŸ“§ hello@jenselter.com ðŸ�“@blendjet â�¤ï¸�L...        12636893   \n",
       "\n",
       "       bio_word_count              category             ig_username  \n",
       "0                  15        df_women_event          ariannyceleste  \n",
       "1                  20        df_women_event              sarahstage  \n",
       "2                  17        df_women_event  beauty_nurse_elizabeth  \n",
       "3                  15        df_women_event               carlyrbel  \n",
       "4                  12        df_women_event                biolayne  \n",
       "...               ...                   ...                     ...  \n",
       "14282              28  df_women_event_mined                  lianev  \n",
       "14283               5  df_women_event_mined                     kuz  \n",
       "14284              24  df_women_event_mined             tanamongeau  \n",
       "14285              11  df_women_event_mined               lilyachty  \n",
       "14286              24  df_women_event_mined               jenselter  \n",
       "\n",
       "[14287 rows x 6 columns]"
      ]
     },
     "execution_count": 58,
     "metadata": {},
     "output_type": "execute_result"
    }
   ],
   "source": [
    "final_df"
   ]
  },
  {
   "cell_type": "code",
   "execution_count": 239,
   "metadata": {},
   "outputs": [
    {
     "data": {
      "text/plain": [
       "array([[<Axes: title={'center': 'follower_count'}>,\n",
       "        <Axes: title={'center': 'bio_word_count'}>]], dtype=object)"
      ]
     },
     "execution_count": 239,
     "metadata": {},
     "output_type": "execute_result"
    },
    {
     "data": {
      "image/png": "[encoded data removed]",
      "text/plain": [
       "<Figure size 640x480 with 2 Axes>"
      ]
     },
     "metadata": {},
     "output_type": "display_data"
    }
   ],
   "source": [
    "final_df[final_df.bio_word_count<50 & (final_df.follower_count<119512)].hist()"
   ]
  },
  {
   "cell_type": "code",
   "execution_count": 90,
   "metadata": {},
   "outputs": [],
   "source": [
    "expected_ratio = final_df.follower_count.value_counts(normalize=True)\n",
    "expected_ratio = expected_ratio.round(8) * 100"
   ]
  },
  {
   "cell_type": "code",
   "execution_count": 91,
   "metadata": {},
   "outputs": [],
   "source": [
    "expected_ratio_by_follower_df = pd.DataFrame({'Expected':expected_ratio})"
   ]
  },
  {
   "cell_type": "code",
   "execution_count": 92,
   "metadata": {},
   "outputs": [
    {
     "data": {
      "text/html": [
       "<div>\n",
       "<style scoped>\n",
       "    .dataframe tbody tr th:only-of-type {\n",
       "        vertical-align: middle;\n",
       "    }\n",
       "\n",
       "    .dataframe tbody tr th {\n",
       "        vertical-align: top;\n",
       "    }\n",
       "\n",
       "    .dataframe thead th {\n",
       "        text-align: right;\n",
       "    }\n",
       "</style>\n",
       "<table border=\"1\" class=\"dataframe\">\n",
       "  <thead>\n",
       "    <tr style=\"text-align: right;\">\n",
       "      <th></th>\n",
       "      <th>Expected</th>\n",
       "    </tr>\n",
       "    <tr>\n",
       "      <th>follower_count</th>\n",
       "      <th></th>\n",
       "    </tr>\n",
       "  </thead>\n",
       "  <tbody>\n",
       "    <tr>\n",
       "      <th>554</th>\n",
       "      <td>0.066147</td>\n",
       "    </tr>\n",
       "    <tr>\n",
       "      <th>1101</th>\n",
       "      <td>0.066147</td>\n",
       "    </tr>\n",
       "    <tr>\n",
       "      <th>438</th>\n",
       "      <td>0.066147</td>\n",
       "    </tr>\n",
       "    <tr>\n",
       "      <th>1155</th>\n",
       "      <td>0.061422</td>\n",
       "    </tr>\n",
       "    <tr>\n",
       "      <th>617</th>\n",
       "      <td>0.061422</td>\n",
       "    </tr>\n",
       "    <tr>\n",
       "      <th>...</th>\n",
       "      <td>...</td>\n",
       "    </tr>\n",
       "    <tr>\n",
       "      <th>107415</th>\n",
       "      <td>0.004725</td>\n",
       "    </tr>\n",
       "    <tr>\n",
       "      <th>107408</th>\n",
       "      <td>0.004725</td>\n",
       "    </tr>\n",
       "    <tr>\n",
       "      <th>107394</th>\n",
       "      <td>0.004725</td>\n",
       "    </tr>\n",
       "    <tr>\n",
       "      <th>107371</th>\n",
       "      <td>0.004725</td>\n",
       "    </tr>\n",
       "    <tr>\n",
       "      <th>12636893</th>\n",
       "      <td>0.004725</td>\n",
       "    </tr>\n",
       "  </tbody>\n",
       "</table>\n",
       "<p>13567 rows × 1 columns</p>\n",
       "</div>"
      ],
      "text/plain": [
       "                Expected\n",
       "follower_count          \n",
       "554             0.066147\n",
       "1101            0.066147\n",
       "438             0.066147\n",
       "1155            0.061422\n",
       "617             0.061422\n",
       "...                  ...\n",
       "107415          0.004725\n",
       "107408          0.004725\n",
       "107394          0.004725\n",
       "107371          0.004725\n",
       "12636893        0.004725\n",
       "\n",
       "[13567 rows x 1 columns]"
      ]
     },
     "execution_count": 92,
     "metadata": {},
     "output_type": "execute_result"
    }
   ],
   "source": [
    "expected_ratio_by_follower_df"
   ]
  },
  {
   "cell_type": "code",
   "execution_count": 240,
   "metadata": {},
   "outputs": [],
   "source": [
    "final_df['follower_bin'], cut_bin = pd.qcut(final_df['follower_count'], q=10, retbins=True)"
   ]
  },
  {
   "cell_type": "code",
   "execution_count": 245,
   "metadata": {},
   "outputs": [
    {
     "data": {
      "text/html": [
       "<div>\n",
       "<style scoped>\n",
       "    .dataframe tbody tr th:only-of-type {\n",
       "        vertical-align: middle;\n",
       "    }\n",
       "\n",
       "    .dataframe tbody tr th {\n",
       "        vertical-align: top;\n",
       "    }\n",
       "\n",
       "    .dataframe thead th {\n",
       "        text-align: right;\n",
       "    }\n",
       "</style>\n",
       "<table border=\"1\" class=\"dataframe\">\n",
       "  <thead>\n",
       "    <tr style=\"text-align: right;\">\n",
       "      <th></th>\n",
       "      <th></th>\n",
       "      <th>username</th>\n",
       "      <th>biography</th>\n",
       "      <th>follower_count</th>\n",
       "      <th>bio_word_count</th>\n",
       "      <th>category</th>\n",
       "      <th>ig_username</th>\n",
       "      <th>follower_bin</th>\n",
       "    </tr>\n",
       "    <tr>\n",
       "      <th>follower_bin</th>\n",
       "      <th></th>\n",
       "      <th></th>\n",
       "      <th></th>\n",
       "      <th></th>\n",
       "      <th></th>\n",
       "      <th></th>\n",
       "      <th></th>\n",
       "      <th></th>\n",
       "    </tr>\n",
       "  </thead>\n",
       "  <tbody>\n",
       "    <tr>\n",
       "      <th rowspan=\"5\" valign=\"top\">(-0.001, 581.0]</th>\n",
       "      <th>9475</th>\n",
       "      <td>geecheegullahroot</td>\n",
       "      <td>Spiritual Alchemist. Body Products. Body Butte...</td>\n",
       "      <td>580</td>\n",
       "      <td>17</td>\n",
       "      <td>df_women_event_mined</td>\n",
       "      <td>geecheegullahroot</td>\n",
       "      <td>(-0.001, 581.0]</td>\n",
       "    </tr>\n",
       "    <tr>\n",
       "      <th>9069</th>\n",
       "      <td>__eisse</td>\n",
       "      <td>❤︎|𝚂𝚗𝚊𝚙𝚌𝚑𝚊𝚝: 𝙵𝚞𝚌𝚔𝚒𝚗𝚐𝙴𝚒𝚜𝚜𝚗 ☽| |</td>\n",
       "      <td>400</td>\n",
       "      <td>4</td>\n",
       "      <td>df_women_event_mined</td>\n",
       "      <td>__eisse</td>\n",
       "      <td>(-0.001, 581.0]</td>\n",
       "    </tr>\n",
       "    <tr>\n",
       "      <th>9149</th>\n",
       "      <td>nasaohreally</td>\n",
       "      <td>•η Tauri</td>\n",
       "      <td>434</td>\n",
       "      <td>2</td>\n",
       "      <td>df_women_event_mined</td>\n",
       "      <td>nasaohreally</td>\n",
       "      <td>(-0.001, 581.0]</td>\n",
       "    </tr>\n",
       "    <tr>\n",
       "      <th>8554</th>\n",
       "      <td>isabellamendez.design</td>\n",
       "      <td>The creative journey of my dream career. Activ...</td>\n",
       "      <td>155</td>\n",
       "      <td>10</td>\n",
       "      <td>df_women_event_mined</td>\n",
       "      <td>isabellamendez.design</td>\n",
       "      <td>(-0.001, 581.0]</td>\n",
       "    </tr>\n",
       "    <tr>\n",
       "      <th>9473</th>\n",
       "      <td>init2winit4life</td>\n",
       "      <td>Life Enthusiast | Healthy Mind, Body &amp; Spirit ...</td>\n",
       "      <td>579</td>\n",
       "      <td>31</td>\n",
       "      <td>df_women_event_mined</td>\n",
       "      <td>init2winit4life</td>\n",
       "      <td>(-0.001, 581.0]</td>\n",
       "    </tr>\n",
       "    <tr>\n",
       "      <th>...</th>\n",
       "      <th>...</th>\n",
       "      <td>...</td>\n",
       "      <td>...</td>\n",
       "      <td>...</td>\n",
       "      <td>...</td>\n",
       "      <td>...</td>\n",
       "      <td>...</td>\n",
       "      <td>...</td>\n",
       "    </tr>\n",
       "    <tr>\n",
       "      <th rowspan=\"5\" valign=\"top\">(106471.6, 12636893.0]</th>\n",
       "      <th>3850</th>\n",
       "      <td>tonyd2wild</td>\n",
       "      <td>ATL📍 📺Youtuber 710k+ Subs 📽Director/Editor💻 🔨C...</td>\n",
       "      <td>130293</td>\n",
       "      <td>12</td>\n",
       "      <td>df_buy_insta_accounts</td>\n",
       "      <td>tonyd2wild</td>\n",
       "      <td>(106471.6, 12636893.0]</td>\n",
       "    </tr>\n",
       "    <tr>\n",
       "      <th>4527</th>\n",
       "      <td>annbeauty</td>\n",
       "      <td>Founder of premium brand @annbeautystore cosme...</td>\n",
       "      <td>109244</td>\n",
       "      <td>23</td>\n",
       "      <td>df_buy_insta_accounts</td>\n",
       "      <td>annbeauty</td>\n",
       "      <td>(106471.6, 12636893.0]</td>\n",
       "    </tr>\n",
       "    <tr>\n",
       "      <th>4352</th>\n",
       "      <td>youneslamifit</td>\n",
       "      <td>Fitness💪 Online Coach 📲    🇲🇦 🇫🇷 🇺🇸 Business 📩...</td>\n",
       "      <td>114102</td>\n",
       "      <td>18</td>\n",
       "      <td>df_buy_insta_accounts</td>\n",
       "      <td>youneslamifit</td>\n",
       "      <td>(106471.6, 12636893.0]</td>\n",
       "    </tr>\n",
       "    <tr>\n",
       "      <th>4599</th>\n",
       "      <td>readyriv</td>\n",
       "      <td>✨Helping the world stay R.E.A.D.Y✨ 🌐Virtual fi...</td>\n",
       "      <td>107273</td>\n",
       "      <td>20</td>\n",
       "      <td>df_buy_insta_accounts</td>\n",
       "      <td>readyriv</td>\n",
       "      <td>(106471.6, 12636893.0]</td>\n",
       "    </tr>\n",
       "    <tr>\n",
       "      <th>3841</th>\n",
       "      <td>khaled_sabbagh</td>\n",
       "      <td>All you need is Wifi &amp; laptop 💰👑 700+ students...</td>\n",
       "      <td>130663</td>\n",
       "      <td>21</td>\n",
       "      <td>df_buy_insta_accounts</td>\n",
       "      <td>khaled_sabbagh</td>\n",
       "      <td>(106471.6, 12636893.0]</td>\n",
       "    </tr>\n",
       "  </tbody>\n",
       "</table>\n",
       "<p>2286 rows × 7 columns</p>\n",
       "</div>"
      ],
      "text/plain": [
       "                                          username  \\\n",
       "follower_bin                                         \n",
       "(-0.001, 581.0]        9475      geecheegullahroot   \n",
       "                       9069                __eisse   \n",
       "                       9149           nasaohreally   \n",
       "                       8554  isabellamendez.design   \n",
       "                       9473        init2winit4life   \n",
       "...                                            ...   \n",
       "(106471.6, 12636893.0] 3850             tonyd2wild   \n",
       "                       4527              annbeauty   \n",
       "                       4352          youneslamifit   \n",
       "                       4599               readyriv   \n",
       "                       3841         khaled_sabbagh   \n",
       "\n",
       "                                                                     biography  \\\n",
       "follower_bin                                                                     \n",
       "(-0.001, 581.0]        9475  Spiritual Alchemist. Body Products. Body Butte...   \n",
       "                       9069                     ❤︎|𝚂𝚗𝚊𝚙𝚌𝚑𝚊𝚝: 𝙵𝚞𝚌𝚔𝚒𝚗𝚐𝙴𝚒𝚜𝚜𝚗 ☽| |   \n",
       "                       9149                                           •η Tauri   \n",
       "                       8554  The creative journey of my dream career. Activ...   \n",
       "                       9473  Life Enthusiast | Healthy Mind, Body & Spirit ...   \n",
       "...                                                                        ...   \n",
       "(106471.6, 12636893.0] 3850  ATL📍 📺Youtuber 710k+ Subs 📽Director/Editor💻 🔨C...   \n",
       "                       4527  Founder of premium brand @annbeautystore cosme...   \n",
       "                       4352  Fitness💪 Online Coach 📲    🇲🇦 🇫🇷 🇺🇸 Business 📩...   \n",
       "                       4599  ✨Helping the world stay R.E.A.D.Y✨ 🌐Virtual fi...   \n",
       "                       3841  All you need is Wifi & laptop 💰👑 700+ students...   \n",
       "\n",
       "                             follower_count  bio_word_count  \\\n",
       "follower_bin                                                  \n",
       "(-0.001, 581.0]        9475             580              17   \n",
       "                       9069             400               4   \n",
       "                       9149             434               2   \n",
       "                       8554             155              10   \n",
       "                       9473             579              31   \n",
       "...                                     ...             ...   \n",
       "(106471.6, 12636893.0] 3850          130293              12   \n",
       "                       4527          109244              23   \n",
       "                       4352          114102              18   \n",
       "                       4599          107273              20   \n",
       "                       3841          130663              21   \n",
       "\n",
       "                                          category            ig_username  \\\n",
       "follower_bin                                                                \n",
       "(-0.001, 581.0]        9475   df_women_event_mined      geecheegullahroot   \n",
       "                       9069   df_women_event_mined                __eisse   \n",
       "                       9149   df_women_event_mined           nasaohreally   \n",
       "                       8554   df_women_event_mined  isabellamendez.design   \n",
       "                       9473   df_women_event_mined        init2winit4life   \n",
       "...                                            ...                    ...   \n",
       "(106471.6, 12636893.0] 3850  df_buy_insta_accounts             tonyd2wild   \n",
       "                       4527  df_buy_insta_accounts              annbeauty   \n",
       "                       4352  df_buy_insta_accounts          youneslamifit   \n",
       "                       4599  df_buy_insta_accounts               readyriv   \n",
       "                       3841  df_buy_insta_accounts         khaled_sabbagh   \n",
       "\n",
       "                                       follower_bin  \n",
       "follower_bin                                         \n",
       "(-0.001, 581.0]        9475         (-0.001, 581.0]  \n",
       "                       9069         (-0.001, 581.0]  \n",
       "                       9149         (-0.001, 581.0]  \n",
       "                       8554         (-0.001, 581.0]  \n",
       "                       9473         (-0.001, 581.0]  \n",
       "...                                             ...  \n",
       "(106471.6, 12636893.0] 3850  (106471.6, 12636893.0]  \n",
       "                       4527  (106471.6, 12636893.0]  \n",
       "                       4352  (106471.6, 12636893.0]  \n",
       "                       4599  (106471.6, 12636893.0]  \n",
       "                       3841  (106471.6, 12636893.0]  \n",
       "\n",
       "[2286 rows x 7 columns]"
      ]
     },
     "execution_count": 245,
     "metadata": {},
     "output_type": "execute_result"
    }
   ],
   "source": [
    "stratified_sample = final_df.groupby('follower_bin').apply(lambda x: x.sample(frac=0.16))\n",
    "stratified_sample"
   ]
  },
  {
   "cell_type": "code",
   "execution_count": 246,
   "metadata": {},
   "outputs": [],
   "source": [
    "stratified_sample=stratified_sample.droplevel(0)"
   ]
  },
  {
   "cell_type": "code",
   "execution_count": 247,
   "metadata": {},
   "outputs": [
    {
     "data": {
      "text/plain": [
       "follower_bin\n",
       "(-0.001, 581.0]           229\n",
       "(581.0, 1177.0]           229\n",
       "(8136.2, 37583.0]         229\n",
       "(46191.0, 58885.6]        229\n",
       "(76146.8, 106471.6]       229\n",
       "(106471.6, 12636893.0]    229\n",
       "(1177.0, 2328.0]          228\n",
       "(2328.0, 8136.2]          228\n",
       "(37583.0, 46191.0]        228\n",
       "(58885.6, 76146.8]        228\n",
       "Name: count, dtype: int64"
      ]
     },
     "execution_count": 247,
     "metadata": {},
     "output_type": "execute_result"
    }
   ],
   "source": [
    "stratified_sample.follower_bin.value_counts()"
   ]
  },
  {
   "cell_type": "code",
   "execution_count": 60,
   "metadata": {},
   "outputs": [
    {
     "ename": "NameError",
     "evalue": "name 'stratified_sample' is not defined",
     "output_type": "error",
     "traceback": [
      "\u001b[0;31m---------------------------------------------------------------------------\u001b[0m",
      "\u001b[0;31mNameError\u001b[0m                                 Traceback (most recent call last)",
      "\u001b[1;32m/Users/bohaocao/Codebase/uw-ocean/clustering/liwc-2.ipynb Cell 25\u001b[0m line \u001b[0;36m1\n\u001b[0;32m----> <a href='vscode-notebook-cell:/Users/bohaocao/Codebase/uw-ocean/clustering/liwc-2.ipynb#X33sZmlsZQ%3D%3D?line=0'>1</a>\u001b[0m stratified_sample\u001b[39m.\u001b[39mcolumns\n",
      "\u001b[0;31mNameError\u001b[0m: name 'stratified_sample' is not defined"
     ]
    }
   ],
   "source": [
    "stratified_sample.columns"
   ]
  },
  {
   "cell_type": "markdown",
   "metadata": {},
   "source": [
    "## Look at post"
   ]
  },
  {
   "cell_type": "code",
   "execution_count": 135,
   "metadata": {},
   "outputs": [
    {
     "data": {
      "text/html": [
       "<div>\n",
       "<style scoped>\n",
       "    .dataframe tbody tr th:only-of-type {\n",
       "        vertical-align: middle;\n",
       "    }\n",
       "\n",
       "    .dataframe tbody tr th {\n",
       "        vertical-align: top;\n",
       "    }\n",
       "\n",
       "    .dataframe thead th {\n",
       "        text-align: right;\n",
       "    }\n",
       "</style>\n",
       "<table border=\"1\" class=\"dataframe\">\n",
       "  <thead>\n",
       "    <tr style=\"text-align: right;\">\n",
       "      <th></th>\n",
       "      <th>comments_count</th>\n",
       "      <th>like_count</th>\n",
       "      <th>caption</th>\n",
       "      <th>timestamp</th>\n",
       "      <th>media_type</th>\n",
       "      <th>id</th>\n",
       "      <th>ig_username</th>\n",
       "      <th>category</th>\n",
       "      <th>post_word_count</th>\n",
       "    </tr>\n",
       "  </thead>\n",
       "  <tbody>\n",
       "    <tr>\n",
       "      <th>20</th>\n",
       "      <td>47</td>\n",
       "      <td>221.0</td>\n",
       "      <td>Ramen🤩 Ramen😍 Ramen 🥰\\nTonkotsu Bowl 📍marugame...</td>\n",
       "      <td>2019-05-09T15:22:56+0000</td>\n",
       "      <td>CAROUSEL_ALBUM</td>\n",
       "      <td>17884607485340789</td>\n",
       "      <td>foodforflores</td>\n",
       "      <td>women_event_mined</td>\n",
       "      <td>61</td>\n",
       "    </tr>\n",
       "    <tr>\n",
       "      <th>23</th>\n",
       "      <td>24</td>\n",
       "      <td>210.0</td>\n",
       "      <td>Happy national Ramen Day! Can a biss be so in ...</td>\n",
       "      <td>2019-04-04T23:56:37+0000</td>\n",
       "      <td>IMAGE</td>\n",
       "      <td>17886329263314632</td>\n",
       "      <td>foodforflores</td>\n",
       "      <td>women_event_mined</td>\n",
       "      <td>131</td>\n",
       "    </tr>\n",
       "    <tr>\n",
       "      <th>21</th>\n",
       "      <td>13</td>\n",
       "      <td>207.0</td>\n",
       "      <td>Still dreaming about this Fiscalini White Ched...</td>\n",
       "      <td>2019-05-05T23:01:39+0000</td>\n",
       "      <td>IMAGE</td>\n",
       "      <td>18036287617139719</td>\n",
       "      <td>foodforflores</td>\n",
       "      <td>women_event_mined</td>\n",
       "      <td>87</td>\n",
       "    </tr>\n",
       "    <tr>\n",
       "      <th>22</th>\n",
       "      <td>30</td>\n",
       "      <td>175.0</td>\n",
       "      <td>Treat Yo Self to some fine tasty icecream from...</td>\n",
       "      <td>2019-04-30T16:40:33+0000</td>\n",
       "      <td>IMAGE</td>\n",
       "      <td>17967371554250644</td>\n",
       "      <td>foodforflores</td>\n",
       "      <td>women_event_mined</td>\n",
       "      <td>54</td>\n",
       "    </tr>\n",
       "    <tr>\n",
       "      <th>24</th>\n",
       "      <td>17</td>\n",
       "      <td>144.0</td>\n",
       "      <td>Post Race Celebratory Micheladas 🍻\\n📍michexgod...</td>\n",
       "      <td>2019-03-31T21:58:27+0000</td>\n",
       "      <td>IMAGE</td>\n",
       "      <td>18031946371120249</td>\n",
       "      <td>foodforflores</td>\n",
       "      <td>women_event_mined</td>\n",
       "      <td>65</td>\n",
       "    </tr>\n",
       "    <tr>\n",
       "      <th>15</th>\n",
       "      <td>21</td>\n",
       "      <td>138.0</td>\n",
       "      <td>Hello best friend!!! It’s been a while. How yo...</td>\n",
       "      <td>2019-09-21T04:07:39+0000</td>\n",
       "      <td>IMAGE</td>\n",
       "      <td>18099228286062749</td>\n",
       "      <td>foodforflores</td>\n",
       "      <td>women_event_mined</td>\n",
       "      <td>76</td>\n",
       "    </tr>\n",
       "    <tr>\n",
       "      <th>8</th>\n",
       "      <td>8</td>\n",
       "      <td>125.0</td>\n",
       "      <td>Documenting our trip around the sun as Disneyl...</td>\n",
       "      <td>2020-02-09T23:35:35+0000</td>\n",
       "      <td>IMAGE</td>\n",
       "      <td>17845718722915985</td>\n",
       "      <td>foodforflores</td>\n",
       "      <td>women_event_mined</td>\n",
       "      <td>41</td>\n",
       "    </tr>\n",
       "    <tr>\n",
       "      <th>19</th>\n",
       "      <td>7</td>\n",
       "      <td>102.0</td>\n",
       "      <td>Yummy treats to start the weekend right 😋.\\n#p...</td>\n",
       "      <td>2019-07-13T03:22:02+0000</td>\n",
       "      <td>VIDEO</td>\n",
       "      <td>18045234637165884</td>\n",
       "      <td>foodforflores</td>\n",
       "      <td>women_event_mined</td>\n",
       "      <td>58</td>\n",
       "    </tr>\n",
       "    <tr>\n",
       "      <th>17</th>\n",
       "      <td>7</td>\n",
       "      <td>99.0</td>\n",
       "      <td>🍕Foodie by trade Valley Girl at heart 🌴\\n•\\n•\\...</td>\n",
       "      <td>2019-08-06T21:19:17+0000</td>\n",
       "      <td>IMAGE</td>\n",
       "      <td>17968123402304557</td>\n",
       "      <td>foodforflores</td>\n",
       "      <td>women_event_mined</td>\n",
       "      <td>30</td>\n",
       "    </tr>\n",
       "    <tr>\n",
       "      <th>14</th>\n",
       "      <td>9</td>\n",
       "      <td>96.0</td>\n",
       "      <td>That bbq life! 😚😋😋😋 Hi there woodranch.\\n•\\n•\\...</td>\n",
       "      <td>2019-10-17T04:13:44+0000</td>\n",
       "      <td>IMAGE</td>\n",
       "      <td>17887646464426236</td>\n",
       "      <td>foodforflores</td>\n",
       "      <td>women_event_mined</td>\n",
       "      <td>61</td>\n",
       "    </tr>\n",
       "    <tr>\n",
       "      <th>16</th>\n",
       "      <td>29</td>\n",
       "      <td>93.0</td>\n",
       "      <td>🍺 Strawberry Wheat 5.2% abv.\\n📍 sanfernandobre...</td>\n",
       "      <td>2019-09-09T18:59:29+0000</td>\n",
       "      <td>IMAGE</td>\n",
       "      <td>17856851557526134</td>\n",
       "      <td>foodforflores</td>\n",
       "      <td>women_event_mined</td>\n",
       "      <td>163</td>\n",
       "    </tr>\n",
       "    <tr>\n",
       "      <th>18</th>\n",
       "      <td>27</td>\n",
       "      <td>85.0</td>\n",
       "      <td>Hey beer lovers!!!. 🍺🍺🍺 Catch andypaul90 as on...</td>\n",
       "      <td>2019-07-19T19:39:03+0000</td>\n",
       "      <td>CAROUSEL_ALBUM</td>\n",
       "      <td>17903664523340829</td>\n",
       "      <td>foodforflores</td>\n",
       "      <td>women_event_mined</td>\n",
       "      <td>118</td>\n",
       "    </tr>\n",
       "    <tr>\n",
       "      <th>9</th>\n",
       "      <td>1</td>\n",
       "      <td>62.0</td>\n",
       "      <td>Celebrating the #blackmamba and the #mambacita...</td>\n",
       "      <td>2020-02-01T22:44:29+0000</td>\n",
       "      <td>VIDEO</td>\n",
       "      <td>18080512081163211</td>\n",
       "      <td>foodforflores</td>\n",
       "      <td>women_event_mined</td>\n",
       "      <td>61</td>\n",
       "    </tr>\n",
       "    <tr>\n",
       "      <th>12</th>\n",
       "      <td>2</td>\n",
       "      <td>58.0</td>\n",
       "      <td>Adding stonebrewing flavors to our favorites l...</td>\n",
       "      <td>2019-12-19T21:48:53+0000</td>\n",
       "      <td>VIDEO</td>\n",
       "      <td>17844079843852362</td>\n",
       "      <td>foodforflores</td>\n",
       "      <td>women_event_mined</td>\n",
       "      <td>78</td>\n",
       "    </tr>\n",
       "    <tr>\n",
       "      <th>13</th>\n",
       "      <td>1</td>\n",
       "      <td>58.0</td>\n",
       "      <td>We have found our apartment signature drink! T...</td>\n",
       "      <td>2019-12-06T03:43:59+0000</td>\n",
       "      <td>IMAGE</td>\n",
       "      <td>18118072957044293</td>\n",
       "      <td>foodforflores</td>\n",
       "      <td>women_event_mined</td>\n",
       "      <td>9</td>\n",
       "    </tr>\n",
       "    <tr>\n",
       "      <th>3</th>\n",
       "      <td>3</td>\n",
       "      <td>54.0</td>\n",
       "      <td>Celebrating together since day 1. \\nAt First d...</td>\n",
       "      <td>2020-10-28T06:00:33+0000</td>\n",
       "      <td>IMAGE</td>\n",
       "      <td>17892480829688674</td>\n",
       "      <td>foodforflores</td>\n",
       "      <td>women_event_mined</td>\n",
       "      <td>14</td>\n",
       "    </tr>\n",
       "    <tr>\n",
       "      <th>6</th>\n",
       "      <td>1</td>\n",
       "      <td>53.0</td>\n",
       "      <td>Happy 65th birthday Disneyland! It’s always a ...</td>\n",
       "      <td>2020-07-18T05:03:15+0000</td>\n",
       "      <td>IMAGE</td>\n",
       "      <td>17884154200645015</td>\n",
       "      <td>foodforflores</td>\n",
       "      <td>women_event_mined</td>\n",
       "      <td>28</td>\n",
       "    </tr>\n",
       "    <tr>\n",
       "      <th>1</th>\n",
       "      <td>4</td>\n",
       "      <td>52.0</td>\n",
       "      <td>Until further notice, you can find me at home ...</td>\n",
       "      <td>2021-01-02T05:13:12+0000</td>\n",
       "      <td>IMAGE</td>\n",
       "      <td>17853101039486157</td>\n",
       "      <td>foodforflores</td>\n",
       "      <td>women_event_mined</td>\n",
       "      <td>14</td>\n",
       "    </tr>\n",
       "    <tr>\n",
       "      <th>7</th>\n",
       "      <td>0</td>\n",
       "      <td>51.0</td>\n",
       "      <td>Weekend essentials 🍻.\\n•\\n•\\n•\\n•\\n•\\n#miches ...</td>\n",
       "      <td>2020-04-11T04:19:01+0000</td>\n",
       "      <td>IMAGE</td>\n",
       "      <td>17861131495798490</td>\n",
       "      <td>foodforflores</td>\n",
       "      <td>women_event_mined</td>\n",
       "      <td>57</td>\n",
       "    </tr>\n",
       "    <tr>\n",
       "      <th>5</th>\n",
       "      <td>0</td>\n",
       "      <td>48.0</td>\n",
       "      <td>New tiki mug who this?\\nladieswhotiki beelinec...</td>\n",
       "      <td>2020-07-18T23:47:23+0000</td>\n",
       "      <td>IMAGE</td>\n",
       "      <td>17872566634810840</td>\n",
       "      <td>foodforflores</td>\n",
       "      <td>women_event_mined</td>\n",
       "      <td>6</td>\n",
       "    </tr>\n",
       "    <tr>\n",
       "      <th>10</th>\n",
       "      <td>0</td>\n",
       "      <td>43.0</td>\n",
       "      <td>Cheers to the weekend 🍹🍹.\\n•\\n•\\n•\\n•\\n•\\n#mic...</td>\n",
       "      <td>2020-01-18T07:52:30+0000</td>\n",
       "      <td>VIDEO</td>\n",
       "      <td>18089317204091865</td>\n",
       "      <td>foodforflores</td>\n",
       "      <td>women_event_mined</td>\n",
       "      <td>58</td>\n",
       "    </tr>\n",
       "    <tr>\n",
       "      <th>11</th>\n",
       "      <td>2</td>\n",
       "      <td>34.0</td>\n",
       "      <td>I am soooo excited to be going to this years J...</td>\n",
       "      <td>2020-01-16T21:33:52+0000</td>\n",
       "      <td>IMAGE</td>\n",
       "      <td>18084170782145605</td>\n",
       "      <td>foodforflores</td>\n",
       "      <td>women_event_mined</td>\n",
       "      <td>145</td>\n",
       "    </tr>\n",
       "    <tr>\n",
       "      <th>0</th>\n",
       "      <td>3</td>\n",
       "      <td>31.0</td>\n",
       "      <td>Happy 818 day! Celebrating with our friends at...</td>\n",
       "      <td>2021-08-19T03:30:56+0000</td>\n",
       "      <td>IMAGE</td>\n",
       "      <td>17890385390251940</td>\n",
       "      <td>foodforflores</td>\n",
       "      <td>women_event_mined</td>\n",
       "      <td>22</td>\n",
       "    </tr>\n",
       "    <tr>\n",
       "      <th>2</th>\n",
       "      <td>0</td>\n",
       "      <td>27.0</td>\n",
       "      <td>Wishing everyone a Merry Christmas!🎄from my li...</td>\n",
       "      <td>2020-12-25T05:05:33+0000</td>\n",
       "      <td>IMAGE</td>\n",
       "      <td>17875819994039847</td>\n",
       "      <td>foodforflores</td>\n",
       "      <td>women_event_mined</td>\n",
       "      <td>10</td>\n",
       "    </tr>\n",
       "    <tr>\n",
       "      <th>4</th>\n",
       "      <td>0</td>\n",
       "      <td>26.0</td>\n",
       "      <td>The world will forever remember the heroes of ...</td>\n",
       "      <td>2020-09-11T19:26:51+0000</td>\n",
       "      <td>IMAGE</td>\n",
       "      <td>18160436215011569</td>\n",
       "      <td>foodforflores</td>\n",
       "      <td>women_event_mined</td>\n",
       "      <td>11</td>\n",
       "    </tr>\n",
       "  </tbody>\n",
       "</table>\n",
       "</div>"
      ],
      "text/plain": [
       "    comments_count  like_count  \\\n",
       "20              47       221.0   \n",
       "23              24       210.0   \n",
       "21              13       207.0   \n",
       "22              30       175.0   \n",
       "24              17       144.0   \n",
       "15              21       138.0   \n",
       "8                8       125.0   \n",
       "19               7       102.0   \n",
       "17               7        99.0   \n",
       "14               9        96.0   \n",
       "16              29        93.0   \n",
       "18              27        85.0   \n",
       "9                1        62.0   \n",
       "12               2        58.0   \n",
       "13               1        58.0   \n",
       "3                3        54.0   \n",
       "6                1        53.0   \n",
       "1                4        52.0   \n",
       "7                0        51.0   \n",
       "5                0        48.0   \n",
       "10               0        43.0   \n",
       "11               2        34.0   \n",
       "0                3        31.0   \n",
       "2                0        27.0   \n",
       "4                0        26.0   \n",
       "\n",
       "                                              caption  \\\n",
       "20  Ramen🤩 Ramen😍 Ramen 🥰\\nTonkotsu Bowl 📍marugame...   \n",
       "23  Happy national Ramen Day! Can a biss be so in ...   \n",
       "21  Still dreaming about this Fiscalini White Ched...   \n",
       "22  Treat Yo Self to some fine tasty icecream from...   \n",
       "24  Post Race Celebratory Micheladas 🍻\\n📍michexgod...   \n",
       "15  Hello best friend!!! It’s been a while. How yo...   \n",
       "8   Documenting our trip around the sun as Disneyl...   \n",
       "19  Yummy treats to start the weekend right 😋.\\n#p...   \n",
       "17  🍕Foodie by trade Valley Girl at heart 🌴\\n•\\n•\\...   \n",
       "14  That bbq life! 😚😋😋😋 Hi there woodranch.\\n•\\n•\\...   \n",
       "16  🍺 Strawberry Wheat 5.2% abv.\\n📍 sanfernandobre...   \n",
       "18  Hey beer lovers!!!. 🍺🍺🍺 Catch andypaul90 as on...   \n",
       "9   Celebrating the #blackmamba and the #mambacita...   \n",
       "12  Adding stonebrewing flavors to our favorites l...   \n",
       "13  We have found our apartment signature drink! T...   \n",
       "3   Celebrating together since day 1. \\nAt First d...   \n",
       "6   Happy 65th birthday Disneyland! It’s always a ...   \n",
       "1   Until further notice, you can find me at home ...   \n",
       "7   Weekend essentials 🍻.\\n•\\n•\\n•\\n•\\n•\\n#miches ...   \n",
       "5   New tiki mug who this?\\nladieswhotiki beelinec...   \n",
       "10  Cheers to the weekend 🍹🍹.\\n•\\n•\\n•\\n•\\n•\\n#mic...   \n",
       "11  I am soooo excited to be going to this years J...   \n",
       "0   Happy 818 day! Celebrating with our friends at...   \n",
       "2   Wishing everyone a Merry Christmas!🎄from my li...   \n",
       "4   The world will forever remember the heroes of ...   \n",
       "\n",
       "                   timestamp      media_type                 id  \\\n",
       "20  2019-05-09T15:22:56+0000  CAROUSEL_ALBUM  17884607485340789   \n",
       "23  2019-04-04T23:56:37+0000           IMAGE  17886329263314632   \n",
       "21  2019-05-05T23:01:39+0000           IMAGE  18036287617139719   \n",
       "22  2019-04-30T16:40:33+0000           IMAGE  17967371554250644   \n",
       "24  2019-03-31T21:58:27+0000           IMAGE  18031946371120249   \n",
       "15  2019-09-21T04:07:39+0000           IMAGE  18099228286062749   \n",
       "8   2020-02-09T23:35:35+0000           IMAGE  17845718722915985   \n",
       "19  2019-07-13T03:22:02+0000           VIDEO  18045234637165884   \n",
       "17  2019-08-06T21:19:17+0000           IMAGE  17968123402304557   \n",
       "14  2019-10-17T04:13:44+0000           IMAGE  17887646464426236   \n",
       "16  2019-09-09T18:59:29+0000           IMAGE  17856851557526134   \n",
       "18  2019-07-19T19:39:03+0000  CAROUSEL_ALBUM  17903664523340829   \n",
       "9   2020-02-01T22:44:29+0000           VIDEO  18080512081163211   \n",
       "12  2019-12-19T21:48:53+0000           VIDEO  17844079843852362   \n",
       "13  2019-12-06T03:43:59+0000           IMAGE  18118072957044293   \n",
       "3   2020-10-28T06:00:33+0000           IMAGE  17892480829688674   \n",
       "6   2020-07-18T05:03:15+0000           IMAGE  17884154200645015   \n",
       "1   2021-01-02T05:13:12+0000           IMAGE  17853101039486157   \n",
       "7   2020-04-11T04:19:01+0000           IMAGE  17861131495798490   \n",
       "5   2020-07-18T23:47:23+0000           IMAGE  17872566634810840   \n",
       "10  2020-01-18T07:52:30+0000           VIDEO  18089317204091865   \n",
       "11  2020-01-16T21:33:52+0000           IMAGE  18084170782145605   \n",
       "0   2021-08-19T03:30:56+0000           IMAGE  17890385390251940   \n",
       "2   2020-12-25T05:05:33+0000           IMAGE  17875819994039847   \n",
       "4   2020-09-11T19:26:51+0000           IMAGE  18160436215011569   \n",
       "\n",
       "      ig_username           category  post_word_count  \n",
       "20  foodforflores  women_event_mined               61  \n",
       "23  foodforflores  women_event_mined              131  \n",
       "21  foodforflores  women_event_mined               87  \n",
       "22  foodforflores  women_event_mined               54  \n",
       "24  foodforflores  women_event_mined               65  \n",
       "15  foodforflores  women_event_mined               76  \n",
       "8   foodforflores  women_event_mined               41  \n",
       "19  foodforflores  women_event_mined               58  \n",
       "17  foodforflores  women_event_mined               30  \n",
       "14  foodforflores  women_event_mined               61  \n",
       "16  foodforflores  women_event_mined              163  \n",
       "18  foodforflores  women_event_mined              118  \n",
       "9   foodforflores  women_event_mined               61  \n",
       "12  foodforflores  women_event_mined               78  \n",
       "13  foodforflores  women_event_mined                9  \n",
       "3   foodforflores  women_event_mined               14  \n",
       "6   foodforflores  women_event_mined               28  \n",
       "1   foodforflores  women_event_mined               14  \n",
       "7   foodforflores  women_event_mined               57  \n",
       "5   foodforflores  women_event_mined                6  \n",
       "10  foodforflores  women_event_mined               58  \n",
       "11  foodforflores  women_event_mined              145  \n",
       "0   foodforflores  women_event_mined               22  \n",
       "2   foodforflores  women_event_mined               10  \n",
       "4   foodforflores  women_event_mined               11  "
      ]
     },
     "execution_count": 135,
     "metadata": {},
     "output_type": "execute_result"
    }
   ],
   "source": [
    "post_df[post_df.ig_username==\"foodforflores\"].sort_values(by=\"like_count\", ascending=False)"
   ]
  },
  {
   "cell_type": "code",
   "execution_count": 61,
   "metadata": {},
   "outputs": [],
   "source": [
    "def lower_text(text):\n",
    "    try:\n",
    "        text = text.lower()\n",
    "    except:\n",
    "        return \"\"\n",
    "    return text\n",
    "def remove_newline(string):\n",
    "    string = string.replace(\"\\n\", \"\")\n",
    "    return string\n",
    "\n",
    "def remove_hashtags(string):\n",
    "    string_list = [*string.split(\" \")]\n",
    "    res = []\n",
    "    for word in string_list:\n",
    "        if word.startswith(\"#\"):\n",
    "            continue\n",
    "        else:\n",
    "            res.append(word)\n",
    "    return \" \".join(res)\n",
    "\n",
    "word_count_per_user = 120\n",
    "\n",
    "user_text = {\"user\":[], \"text\":[], 'post_count':[]}\n",
    "for index, row in final_df.iterrows():\n",
    "    text = \"\"\n",
    "    username=row['username']\n",
    "    category=row['category']\n",
    "    bio = row['biography']\n",
    "    bio_word_count=row['bio_word_count']\n",
    "    if bio_word_count > word_count_per_user:\n",
    "        text = bio[:word_count_per_user]\n",
    "        user_text['user'].append(username)\n",
    "        user_text['text'].append(text)\n",
    "        user_text['post_count'].append(0)\n",
    "        continue\n",
    "    elif bio_word_count==-1:\n",
    "        text =\"\"\n",
    "    else:\n",
    "        text = bio\n",
    "        remaining_count_for_posts = word_count_per_user - get_word_count(text)\n",
    "\n",
    "    user_posts_df = post_df[(post_df.ig_username==username)].sort_values(by=\"like_count\", ascending=False)\n",
    "    #print(len(user_posts_df))\n",
    "    for _, user_post in user_posts_df.iterrows():\n",
    "        caption = user_post['caption']\n",
    "        \n",
    "        if type(caption) == str:\n",
    "            caption = lower_text(caption)\n",
    "            caption = remove_newline(caption)\n",
    "            #print(caption)\n",
    "            caption = remove_hashtags(caption)\n",
    "            #print(caption)\n",
    "            post_len = get_word_count(caption)\n",
    "            #print(post_len, remaining_count_for_posts)\n",
    "            if post_len < remaining_count_for_posts:\n",
    "                text += caption\n",
    "                #print(text)\n",
    "                remaining_count_for_posts -= post_len\n",
    "            else:\n",
    "                text += caption[:remaining_count_for_posts]\n",
    "                break\n",
    "            #len(user_posts_df)\n",
    "        # try:\n",
    "            \n",
    "        # except:\n",
    "        #     user_text[username]=text\n",
    "        #     continue\n",
    "    user_text['user'].append(username)\n",
    "    user_text['text'].append(text)\n",
    "    user_text['post_count'].append(len(user_posts_df))"
   ]
  },
  {
   "cell_type": "code",
   "execution_count": 62,
   "metadata": {},
   "outputs": [],
   "source": [
    "user_text_df = pd.DataFrame(user_text)\n",
    "user_text_df['word_count']=user_text_df['text'].apply(get_word_count)"
   ]
  },
  {
   "cell_type": "code",
   "execution_count": 64,
   "metadata": {},
   "outputs": [],
   "source": [
    "user_text_df.to_parquet(\"liwc_dataset_all_16_word_count_per_user_max_120.parquet\")"
   ]
  },
  {
   "cell_type": "code",
   "execution_count": 108,
   "metadata": {},
   "outputs": [
    {
     "data": {
      "text/html": [
       "<div>\n",
       "<style scoped>\n",
       "    .dataframe tbody tr th:only-of-type {\n",
       "        vertical-align: middle;\n",
       "    }\n",
       "\n",
       "    .dataframe tbody tr th {\n",
       "        vertical-align: top;\n",
       "    }\n",
       "\n",
       "    .dataframe thead th {\n",
       "        text-align: right;\n",
       "    }\n",
       "</style>\n",
       "<table border=\"1\" class=\"dataframe\">\n",
       "  <thead>\n",
       "    <tr style=\"text-align: right;\">\n",
       "      <th></th>\n",
       "      <th>user</th>\n",
       "      <th>text</th>\n",
       "      <th>post_count</th>\n",
       "      <th>word_count</th>\n",
       "    </tr>\n",
       "  </thead>\n",
       "  <tbody>\n",
       "    <tr>\n",
       "      <th>0</th>\n",
       "      <td>ariannyceleste</td>\n",
       "      <td>Raidens Mom 👶🏽🐶🐶🧿 Founder @girlfriendbox @them...</td>\n",
       "      <td>25</td>\n",
       "      <td>105</td>\n",
       "    </tr>\n",
       "    <tr>\n",
       "      <th>1</th>\n",
       "      <td>sarahstage</td>\n",
       "      <td>Boy Mom 👶🏻👦🏻 Wife 💃🏻 &amp; Online Fitness Coach 💪🏼...</td>\n",
       "      <td>25</td>\n",
       "      <td>81</td>\n",
       "    </tr>\n",
       "    <tr>\n",
       "      <th>2</th>\n",
       "      <td>beauty_nurse_elizabeth</td>\n",
       "      <td>Aesthetic RN-BSN •Injection Artist 🌹 •Natural ...</td>\n",
       "      <td>25</td>\n",
       "      <td>54</td>\n",
       "    </tr>\n",
       "    <tr>\n",
       "      <th>3</th>\n",
       "      <td>carlyrbel</td>\n",
       "      <td>One of a kind ✨ • @carlybelx • shop @carlyclub...</td>\n",
       "      <td>25</td>\n",
       "      <td>104</td>\n",
       "    </tr>\n",
       "    <tr>\n",
       "      <th>4</th>\n",
       "      <td>biolayne</td>\n",
       "      <td>PhD Nutrition Science 💍@hollytbaxter @carbondi...</td>\n",
       "      <td>25</td>\n",
       "      <td>31</td>\n",
       "    </tr>\n",
       "    <tr>\n",
       "      <th>...</th>\n",
       "      <td>...</td>\n",
       "      <td>...</td>\n",
       "      <td>...</td>\n",
       "      <td>...</td>\n",
       "    </tr>\n",
       "    <tr>\n",
       "      <th>14282</th>\n",
       "      <td>lianev</td>\n",
       "      <td>Business inquiries Jennifer@thejgoagency.com T...</td>\n",
       "      <td>25</td>\n",
       "      <td>92</td>\n",
       "    </tr>\n",
       "    <tr>\n",
       "      <th>14283</th>\n",
       "      <td>kuz</td>\n",
       "      <td>Vino @lakers inquiries@kylekuzma.com @puma Ath...</td>\n",
       "      <td>25</td>\n",
       "      <td>95</td>\n",
       "    </tr>\n",
       "    <tr>\n",
       "      <th>14284</th>\n",
       "      <td>tanamongeau</td>\n",
       "      <td>BLACK. LIVES. MATTER. LINK IN BIO TO HELP; @th...</td>\n",
       "      <td>25</td>\n",
       "      <td>101</td>\n",
       "    </tr>\n",
       "    <tr>\n",
       "      <th>14285</th>\n",
       "      <td>lilyachty</td>\n",
       "      <td>no stylist; Itâ€™s us!; no stylist; It’s us!;;...</td>\n",
       "      <td>10</td>\n",
       "      <td>73</td>\n",
       "    </tr>\n",
       "    <tr>\n",
       "      <th>14286</th>\n",
       "      <td>jenselter</td>\n",
       "      <td>ðŸ“§ hello@jenselter.com ðŸ�“@blendjet â�¤ï¸�L...</td>\n",
       "      <td>25</td>\n",
       "      <td>71</td>\n",
       "    </tr>\n",
       "  </tbody>\n",
       "</table>\n",
       "<p>14287 rows × 4 columns</p>\n",
       "</div>"
      ],
      "text/plain": [
       "                         user  \\\n",
       "0              ariannyceleste   \n",
       "1                  sarahstage   \n",
       "2      beauty_nurse_elizabeth   \n",
       "3                   carlyrbel   \n",
       "4                    biolayne   \n",
       "...                       ...   \n",
       "14282                  lianev   \n",
       "14283                     kuz   \n",
       "14284             tanamongeau   \n",
       "14285               lilyachty   \n",
       "14286               jenselter   \n",
       "\n",
       "                                                    text  post_count  \\\n",
       "0      Raidens Mom 👶🏽🐶🐶🧿 Founder @girlfriendbox @them...          25   \n",
       "1      Boy Mom 👶🏻👦🏻 Wife 💃🏻 & Online Fitness Coach 💪🏼...          25   \n",
       "2      Aesthetic RN-BSN •Injection Artist 🌹 •Natural ...          25   \n",
       "3      One of a kind ✨ • @carlybelx • shop @carlyclub...          25   \n",
       "4      PhD Nutrition Science 💍@hollytbaxter @carbondi...          25   \n",
       "...                                                  ...         ...   \n",
       "14282  Business inquiries Jennifer@thejgoagency.com T...          25   \n",
       "14283  Vino @lakers inquiries@kylekuzma.com @puma Ath...          25   \n",
       "14284  BLACK. LIVES. MATTER. LINK IN BIO TO HELP; @th...          25   \n",
       "14285  no stylist; Itâ€™s us!; no stylist; It’s us!;;...          10   \n",
       "14286  ðŸ“§ hello@jenselter.com ðŸ�“@blendjet â�¤ï¸�L...          25   \n",
       "\n",
       "       word_count  \n",
       "0             105  \n",
       "1              81  \n",
       "2              54  \n",
       "3             104  \n",
       "4              31  \n",
       "...           ...  \n",
       "14282          92  \n",
       "14283          95  \n",
       "14284         101  \n",
       "14285          73  \n",
       "14286          71  \n",
       "\n",
       "[14287 rows x 4 columns]"
      ]
     },
     "execution_count": 108,
     "metadata": {},
     "output_type": "execute_result"
    }
   ],
   "source": [
    "user_text_df"
   ]
  },
  {
   "cell_type": "code",
   "execution_count": 256,
   "metadata": {},
   "outputs": [
    {
     "data": {
      "text/html": [
       "<div>\n",
       "<style scoped>\n",
       "    .dataframe tbody tr th:only-of-type {\n",
       "        vertical-align: middle;\n",
       "    }\n",
       "\n",
       "    .dataframe tbody tr th {\n",
       "        vertical-align: top;\n",
       "    }\n",
       "\n",
       "    .dataframe thead th {\n",
       "        text-align: right;\n",
       "    }\n",
       "</style>\n",
       "<table border=\"1\" class=\"dataframe\">\n",
       "  <thead>\n",
       "    <tr style=\"text-align: right;\">\n",
       "      <th></th>\n",
       "      <th>user</th>\n",
       "      <th>text</th>\n",
       "      <th>post_count</th>\n",
       "      <th>word_count</th>\n",
       "    </tr>\n",
       "  </thead>\n",
       "  <tbody>\n",
       "  </tbody>\n",
       "</table>\n",
       "</div>"
      ],
      "text/plain": [
       "Empty DataFrame\n",
       "Columns: [user, text, post_count, word_count]\n",
       "Index: []"
      ]
     },
     "execution_count": 256,
     "metadata": {},
     "output_type": "execute_result"
    }
   ],
   "source": [
    "user_text_df[user_text_df.post_count==0]"
   ]
  },
  {
   "cell_type": "code",
   "execution_count": 257,
   "metadata": {},
   "outputs": [
    {
     "data": {
      "text/plain": [
       "192336"
      ]
     },
     "execution_count": 257,
     "metadata": {},
     "output_type": "execute_result"
    }
   ],
   "source": [
    "user_text_df.word_count.sum()"
   ]
  },
  {
   "cell_type": "code",
   "execution_count": 296,
   "metadata": {},
   "outputs": [
    {
     "data": {
      "text/plain": [
       "84.24704336399475"
      ]
     },
     "execution_count": 296,
     "metadata": {},
     "output_type": "execute_result"
    }
   ],
   "source": [
    "192336/2283"
   ]
  },
  {
   "cell_type": "code",
   "execution_count": 258,
   "metadata": {},
   "outputs": [
    {
     "data": {
      "text/plain": [
       "count    2286.000000\n",
       "mean       84.136483\n",
       "std        28.247743\n",
       "min         1.000000\n",
       "25%        67.000000\n",
       "50%        96.000000\n",
       "75%       105.000000\n",
       "max       118.000000\n",
       "Name: word_count, dtype: float64"
      ]
     },
     "execution_count": 258,
     "metadata": {},
     "output_type": "execute_result"
    }
   ],
   "source": [
    "user_text_df.word_count.describe()"
   ]
  },
  {
   "cell_type": "code",
   "execution_count": 259,
   "metadata": {},
   "outputs": [],
   "source": [
    "user_text_df.to_parquet(\"liwc_dataset_stratified_dot_16_word_count_per_user_max_120.parquet\")"
   ]
  },
  {
   "cell_type": "code",
   "execution_count": 273,
   "metadata": {},
   "outputs": [],
   "source": [
    "import json\n",
    "import requests\n",
    "\n",
    "url = 'https://api.receptiviti.com/v1/framework'\n",
    "api_key = \"dcbf2b6a3eb44c2283180310830d42c5\"\n",
    "api_secret = \"pzowZvJEjP3v29wdhUwziYjm7guEpLWzOulMF0Rx8x+fnWggu/h9pHif\"\n",
    "#all_responses = {\"username\":[], 'response':[]}\n",
    "for index, row in user_text_df.iterrows():\n",
    "  username = row['user']\n",
    "  data = json.dumps({\n",
    "    'request_id': username,\n",
    "    'content': row['text']\n",
    "  })\n",
    "  resp = requests.post(url, auth=(api_key, api_secret), data=data)\n",
    "  with open(f\"{username}.json\", \"w\") as outfile:\n",
    "    json.dump(resp.json(), outfile)\n",
    "  # with open(f\"{username}.json\",)\n",
    "  # all_responses['username'].append(username)\n",
    "  # all_responses['response'].append(resp.json())\n",
    "  #print(json.dumps(resp.json(), indent=4, sort_keys=True))"
   ]
  },
  {
   "cell_type": "code",
   "execution_count": 23,
   "metadata": {},
   "outputs": [],
   "source": [
    "final_df = {\"user_name\":[],\"conscientiousness\":[],\"openness\":[],\"neuroticism\":[],\"agreeableness\":[],\"extraversion\":[]}\n",
    "\n",
    "files = os.listdir(\"/Users/bohaocao/Codebase/uw-ocean/clustering/liwc_results/\")\n",
    "for f in files:\n",
    "    if f.endswith(\"json\"):\n",
    "        with open(f, 'r') as openfile:\n",
    "            json_object = json.load(openfile)\n",
    "            user_name = json_object['results'][0]['request_id']\n",
    "            final_df['user_name'].append(user_name)\n",
    "\n",
    "            conscientiousness = json_object['results'][0]['personality']['conscientiousness']\n",
    "            final_df['conscientiousness'].append(conscientiousness)\n",
    "\n",
    "            openness = json_object['results'][0]['personality']['openness']\n",
    "            final_df['openness'].append(openness)\n",
    "\n",
    "            neuroticism = json_object['results'][0]['personality']['neuroticism']\n",
    "            final_df['neuroticism'].append(neuroticism)\n",
    "\n",
    "            agreeableness = json_object['results'][0]['personality']['agreeableness']\n",
    "            final_df['agreeableness'].append(agreeableness)\n",
    "\n",
    "            extraversion = json_object['results'][0]['personality']['extraversion']\n",
    "            final_df['extraversion'].append(extraversion)"
   ]
  },
  {
   "cell_type": "code",
   "execution_count": 25,
   "metadata": {},
   "outputs": [
    {
     "data": {
      "text/plain": [
       "[]"
      ]
     },
     "execution_count": 25,
     "metadata": {},
     "output_type": "execute_result"
    }
   ],
   "source": [
    "files\n",
    "#pd.DataFrame(final_df).to_csv(\"final_result.csv\")"
   ]
  },
  {
   "cell_type": "code",
   "execution_count": 281,
   "metadata": {},
   "outputs": [
    {
     "data": {
      "text/plain": [
       "{'response_id': '7265df72-962f-4637-ab57-3a38f296cff0',\n",
       " 'request_id': 'carrooberg',\n",
       " 'language': 'en',\n",
       " 'version': 'v1.0.0',\n",
       " 'summary': {'word_count': 117,\n",
       "  'words_per_sentence': 19.5,\n",
       "  'sentence_count': 6,\n",
       "  'six_plus_words': 0.3247863247863248,\n",
       "  'capitals': 0.02190923317683881,\n",
       "  'emojis': 0.10256410256410256,\n",
       "  'emoticons': 0,\n",
       "  'hashtags': 0,\n",
       "  'urls': 0},\n",
       " 'personality': {'extraversion': 71.06279541996153,\n",
       "  'active': 75.40294470686314,\n",
       "  'assertive': 67.84877470418114,\n",
       "  'cheerful': 88.8876793940927,\n",
       "  'energetic': 57.900683486837174,\n",
       "  'friendly': 81.36636113328122,\n",
       "  'sociable': 57.005534794657265,\n",
       "  'openness': 59.177279362644306,\n",
       "  'adventurous': 63.91066940607662,\n",
       "  'artistic': 64.06309410521666,\n",
       "  'emotionally_aware': 44.35059939797882,\n",
       "  'imaginative': 52.98933047298323,\n",
       "  'intellectual': 53.15529058220659,\n",
       "  'liberal': 85.23388703275826,\n",
       "  'conscientiousness': 62.48579728047346,\n",
       "  'ambitious': 44.23001834810706,\n",
       "  'cautious': 17.303817891113567,\n",
       "  'disciplined': 46.961567693657386,\n",
       "  'dutiful': 79.6964307028927,\n",
       "  'organized': 88.37923895270653,\n",
       "  'self_assured': 90.08688903228364,\n",
       "  'neuroticism': 29.552899155582246,\n",
       "  'aggressive': 44.190499694668105,\n",
       "  'anxiety_prone': 11.48014453134589,\n",
       "  'impulsive': 63.58836349028949,\n",
       "  'melancholy': 21.185512133771947,\n",
       "  'self_conscious': 21.114492934156594,\n",
       "  'stress_prone': 13.818688553370254,\n",
       "  'agreeableness': 65.52451056976055,\n",
       "  'cooperative': 78.34609653710001,\n",
       "  'empathetic': 70.83044545727043,\n",
       "  'genuine': 41.11761869025883,\n",
       "  'generous': 69.98338667196063,\n",
       "  'humble': 56.284954134019166,\n",
       "  'trusting': 66.23832285408061},\n",
       " 'social_dynamics': {'social': 28.049421403920494,\n",
       "  'affiliation': 95.7629212195933,\n",
       "  'inward_focus': 3.777875297617254,\n",
       "  'outward_focus': 4.080112554829099,\n",
       "  'authentic': 63.32377747267939,\n",
       "  'negations': 19.23238639973339,\n",
       "  'clout': 91.85038803326879},\n",
       " 'drives': {'affiliation': 95.7629212195933,\n",
       "  'achievement': 63.525597409393406,\n",
       "  'risk_seeking': 7.361582388479682,\n",
       "  'risk_aversion': 47.11578250434495,\n",
       "  'power': 70.86704617461524,\n",
       "  'reward': 9.769397965121009},\n",
       " 'cognition': {'analytical_thinking': 0.9685945336714568,\n",
       "  'cognitive_processes': 0.05982905982905983,\n",
       "  'causation': 0,\n",
       "  'certainty': 0.017094017094017096,\n",
       "  'comparisons': 0.017094017094017096,\n",
       "  'differentiation': 0,\n",
       "  'discrepancies': 0.008547008547008548,\n",
       "  'insight': 0.02564102564102564,\n",
       "  'tentative': 0.008547008547008548},\n",
       " 'additional_indicators': {'focus_past': 0.03418803418803419,\n",
       "  'focus_present': 0.05128205128205128,\n",
       "  'focus_future': 0,\n",
       "  'self_focus': 0.008547008547008548,\n",
       "  'external_focus': 0.008547008547008548},\n",
       " 'sallee': {'sentiment': 0.34355828220858897,\n",
       "  'goodfeel': 0.3496932515337423,\n",
       "  'badfeel': 0.006134969325153374,\n",
       "  'emotionality': 0.3558282208588957,\n",
       "  'non_emotion': 0.6441717791411044,\n",
       "  'ambifeel': 0,\n",
       "  'admiration': 0.09815950920245399,\n",
       "  'amusement': 0,\n",
       "  'excitement': 0.049079754601226995,\n",
       "  'gratitude': 0,\n",
       "  'joy': 0.03067484662576687,\n",
       "  'love': 0.0736196319018405,\n",
       "  'anger': 0,\n",
       "  'boredom': 0,\n",
       "  'disgust': 0,\n",
       "  'fear': 0.006134969325153374,\n",
       "  'sadness': 0,\n",
       "  'calmness': 0.1165644171779141,\n",
       "  'curiosity': 0,\n",
       "  'surprise': 0},\n",
       " 'liwc': {'analytical_thinking': 0.9685945336714568,\n",
       "  'clout': 0.7250968660968661,\n",
       "  'authentic': 0.7360180436847104,\n",
       "  'emotional_tone': 0.99,\n",
       "  'six_plus_words': 0.3247863247863248,\n",
       "  'dictionary_words': 0.717948717948718,\n",
       "  'function_words': 0.29914529914529914,\n",
       "  'pronouns': 0.05128205128205128,\n",
       "  'personal_pronouns': 0.017094017094017096,\n",
       "  'i': 0.008547008547008548,\n",
       "  'we': 0.008547008547008548,\n",
       "  'you': 0,\n",
       "  'she_he': 0,\n",
       "  'they': 0,\n",
       "  'impersonal_pronouns': 0.03418803418803419,\n",
       "  'articles': 0.05128205128205128,\n",
       "  'prepositions': 0.1282051282051282,\n",
       "  'auxiliary_verbs': 0.02564102564102564,\n",
       "  'adverbs': 0.02564102564102564,\n",
       "  'conjunctions': 0.017094017094017096,\n",
       "  'negations': 0.008547008547008548,\n",
       "  'other_grammar': 0.1623931623931624,\n",
       "  'verbs': 0.07692307692307693,\n",
       "  'adjectives': 0.05982905982905983,\n",
       "  'comparisons': 0.017094017094017096,\n",
       "  'interrogatives': 0,\n",
       "  'numbers': 0.02564102564102564,\n",
       "  'quantifiers': 0,\n",
       "  'affective_processes': 0.05982905982905983,\n",
       "  'positive_emotion_words': 0.05982905982905983,\n",
       "  'negative_emotion_words': 0,\n",
       "  'anxiety_words': 0,\n",
       "  'anger_words': 0,\n",
       "  'sad_words': 0,\n",
       "  'social_processes': 0.06837606837606838,\n",
       "  'family': 0.02564102564102564,\n",
       "  'friends': 0.017094017094017096,\n",
       "  'female': 0.017094017094017096,\n",
       "  'male': 0.008547008547008548,\n",
       "  'cognitive_processes': 0.05982905982905983,\n",
       "  'insight': 0.02564102564102564,\n",
       "  'causation': 0,\n",
       "  'discrepancies': 0.008547008547008548,\n",
       "  'tentative': 0.008547008547008548,\n",
       "  'certainty': 0.017094017094017096,\n",
       "  'differentiation': 0,\n",
       "  'perceptual_processes': 0.05982905982905983,\n",
       "  'see': 0.042735042735042736,\n",
       "  'hear': 0.008547008547008548,\n",
       "  'feel': 0.008547008547008548,\n",
       "  'biological_processes': 0.1111111111111111,\n",
       "  'body': 0.05128205128205128,\n",
       "  'health': 0.03418803418803419,\n",
       "  'sexual': 0.017094017094017096,\n",
       "  'ingestion': 0.008547008547008548,\n",
       "  'drives': 0.08547008547008547,\n",
       "  'affiliation': 0.042735042735042736,\n",
       "  'achievement': 0.017094017094017096,\n",
       "  'power': 0.02564102564102564,\n",
       "  'reward': 0.008547008547008548,\n",
       "  'risk': 0,\n",
       "  'time_orientation': 0.08547008547008547,\n",
       "  'focus_past': 0.03418803418803419,\n",
       "  'focus_present': 0.05128205128205128,\n",
       "  'focus_future': 0,\n",
       "  'relativity': 0.2222222222222222,\n",
       "  'motion': 0.03418803418803419,\n",
       "  'space': 0.07692307692307693,\n",
       "  'time': 0.11965811965811966,\n",
       "  'personal_concerns': 0.05982905982905983,\n",
       "  'work': 0.008547008547008548,\n",
       "  'leisure': 0.05128205128205128,\n",
       "  'home': 0.008547008547008548,\n",
       "  'money': 0,\n",
       "  'religion': 0,\n",
       "  'death': 0,\n",
       "  'informal_language': 0,\n",
       "  'swear_words': 0,\n",
       "  'netspeak': 0,\n",
       "  'assent': 0,\n",
       "  'nonfluencies': 0,\n",
       "  'filler_words': 0,\n",
       "  'all_punctuation': 0.23931623931623933,\n",
       "  'periods': 0.05128205128205128,\n",
       "  'commas': 0.042735042735042736,\n",
       "  'colons': 0,\n",
       "  'semicolons': 0,\n",
       "  'question_marks': 0,\n",
       "  'exclamations': 0,\n",
       "  'dashes': 0.02564102564102564,\n",
       "  'quotes': 0,\n",
       "  'apostrophes': 0,\n",
       "  'parentheses': 0,\n",
       "  'other_punctuation': 0.11965811965811966},\n",
       " 'custom': None}"
      ]
     },
     "execution_count": 281,
     "metadata": {},
     "output_type": "execute_result"
    }
   ],
   "source": [
    "json_object['results'][0]"
   ]
  },
  {
   "cell_type": "code",
   "execution_count": 2,
   "metadata": {},
   "outputs": [],
   "source": [
    "import pandas as pd\n",
    "user_text_df = pd.read_parquet(\"liwc_dataset_stratified_dot_16_word_count_per_user_max_120.parquet\")"
   ]
  },
  {
   "cell_type": "code",
   "execution_count": 3,
   "metadata": {},
   "outputs": [
    {
     "data": {
      "text/html": [
       "<div>\n",
       "<style scoped>\n",
       "    .dataframe tbody tr th:only-of-type {\n",
       "        vertical-align: middle;\n",
       "    }\n",
       "\n",
       "    .dataframe tbody tr th {\n",
       "        vertical-align: top;\n",
       "    }\n",
       "\n",
       "    .dataframe thead th {\n",
       "        text-align: right;\n",
       "    }\n",
       "</style>\n",
       "<table border=\"1\" class=\"dataframe\">\n",
       "  <thead>\n",
       "    <tr style=\"text-align: right;\">\n",
       "      <th></th>\n",
       "      <th>user</th>\n",
       "      <th>text</th>\n",
       "      <th>post_count</th>\n",
       "      <th>word_count</th>\n",
       "    </tr>\n",
       "  </thead>\n",
       "  <tbody>\n",
       "    <tr>\n",
       "      <th>0</th>\n",
       "      <td>geecheegullahroot</td>\n",
       "      <td>Spiritual Alchemist. Body Products. Body Butte...</td>\n",
       "      <td>5</td>\n",
       "      <td>110</td>\n",
       "    </tr>\n",
       "    <tr>\n",
       "      <th>1</th>\n",
       "      <td>__eisse</td>\n",
       "      <td>❤︎|𝚂𝚗𝚊𝚙𝚌𝚑𝚊𝚝: 𝙵𝚞𝚌𝚔𝚒𝚗𝚐𝙴𝚒𝚜𝚜𝚗 ☽| |you will forever...</td>\n",
       "      <td>20</td>\n",
       "      <td>96</td>\n",
       "    </tr>\n",
       "    <tr>\n",
       "      <th>2</th>\n",
       "      <td>nasaohreally</td>\n",
       "      <td>•η Tauri•heart breaker by η tauri•⭐☆☆☆☆☆☆☆☆☆☆☆...</td>\n",
       "      <td>25</td>\n",
       "      <td>48</td>\n",
       "    </tr>\n",
       "    <tr>\n",
       "      <th>3</th>\n",
       "      <td>isabellamendez.design</td>\n",
       "      <td>The creative journey of my dream career. Activ...</td>\n",
       "      <td>25</td>\n",
       "      <td>28</td>\n",
       "    </tr>\n",
       "    <tr>\n",
       "      <th>4</th>\n",
       "      <td>init2winit4life</td>\n",
       "      <td>Life Enthusiast | Healthy Mind, Body &amp; Spirit ...</td>\n",
       "      <td>25</td>\n",
       "      <td>102</td>\n",
       "    </tr>\n",
       "    <tr>\n",
       "      <th>...</th>\n",
       "      <td>...</td>\n",
       "      <td>...</td>\n",
       "      <td>...</td>\n",
       "      <td>...</td>\n",
       "    </tr>\n",
       "    <tr>\n",
       "      <th>2281</th>\n",
       "      <td>tonyd2wild</td>\n",
       "      <td>ATL📍 📺Youtuber 710k+ Subs 📽Director/Editor💻 🔨C...</td>\n",
       "      <td>25</td>\n",
       "      <td>108</td>\n",
       "    </tr>\n",
       "    <tr>\n",
       "      <th>2282</th>\n",
       "      <td>annbeauty</td>\n",
       "      <td>Founder of premium brand @annbeautystore cosme...</td>\n",
       "      <td>25</td>\n",
       "      <td>104</td>\n",
       "    </tr>\n",
       "    <tr>\n",
       "      <th>2283</th>\n",
       "      <td>youneslamifit</td>\n",
       "      <td>Fitness💪 Online Coach 📲    🇲🇦 🇫🇷 🇺🇸 Business 📩...</td>\n",
       "      <td>25</td>\n",
       "      <td>94</td>\n",
       "    </tr>\n",
       "    <tr>\n",
       "      <th>2284</th>\n",
       "      <td>readyriv</td>\n",
       "      <td>✨Helping the world stay R.E.A.D.Y✨ 🌐Virtual fi...</td>\n",
       "      <td>25</td>\n",
       "      <td>112</td>\n",
       "    </tr>\n",
       "    <tr>\n",
       "      <th>2285</th>\n",
       "      <td>khaled_sabbagh</td>\n",
       "      <td>All you need is Wifi &amp; laptop 💰👑 700+ students...</td>\n",
       "      <td>25</td>\n",
       "      <td>71</td>\n",
       "    </tr>\n",
       "  </tbody>\n",
       "</table>\n",
       "<p>2286 rows × 4 columns</p>\n",
       "</div>"
      ],
      "text/plain": [
       "                       user  \\\n",
       "0         geecheegullahroot   \n",
       "1                   __eisse   \n",
       "2              nasaohreally   \n",
       "3     isabellamendez.design   \n",
       "4           init2winit4life   \n",
       "...                     ...   \n",
       "2281             tonyd2wild   \n",
       "2282              annbeauty   \n",
       "2283          youneslamifit   \n",
       "2284               readyriv   \n",
       "2285         khaled_sabbagh   \n",
       "\n",
       "                                                   text  post_count  \\\n",
       "0     Spiritual Alchemist. Body Products. Body Butte...           5   \n",
       "1     ❤︎|𝚂𝚗𝚊𝚙𝚌𝚑𝚊𝚝: 𝙵𝚞𝚌𝚔𝚒𝚗𝚐𝙴𝚒𝚜𝚜𝚗 ☽| |you will forever...          20   \n",
       "2     •η Tauri•heart breaker by η tauri•⭐☆☆☆☆☆☆☆☆☆☆☆...          25   \n",
       "3     The creative journey of my dream career. Activ...          25   \n",
       "4     Life Enthusiast | Healthy Mind, Body & Spirit ...          25   \n",
       "...                                                 ...         ...   \n",
       "2281  ATL📍 📺Youtuber 710k+ Subs 📽Director/Editor💻 🔨C...          25   \n",
       "2282  Founder of premium brand @annbeautystore cosme...          25   \n",
       "2283  Fitness💪 Online Coach 📲    🇲🇦 🇫🇷 🇺🇸 Business 📩...          25   \n",
       "2284  ✨Helping the world stay R.E.A.D.Y✨ 🌐Virtual fi...          25   \n",
       "2285  All you need is Wifi & laptop 💰👑 700+ students...          25   \n",
       "\n",
       "      word_count  \n",
       "0            110  \n",
       "1             96  \n",
       "2             48  \n",
       "3             28  \n",
       "4            102  \n",
       "...          ...  \n",
       "2281         108  \n",
       "2282         104  \n",
       "2283          94  \n",
       "2284         112  \n",
       "2285          71  \n",
       "\n",
       "[2286 rows x 4 columns]"
      ]
     },
     "execution_count": 3,
     "metadata": {},
     "output_type": "execute_result"
    }
   ],
   "source": [
    "user_text_df"
   ]
  },
  {
   "cell_type": "code",
   "execution_count": 26,
   "metadata": {},
   "outputs": [],
   "source": [
    "result_df = pd.read_csv(\"liwc_results/result.csv\")"
   ]
  },
  {
   "cell_type": "code",
   "execution_count": 30,
   "metadata": {},
   "outputs": [],
   "source": [
    "training_feature_df =result_df.drop(columns=\"Unnamed: 0\").merge(user_text_df, left_on=\"user_name\", right_on=\"user\")"
   ]
  },
  {
   "cell_type": "code",
   "execution_count": 32,
   "metadata": {},
   "outputs": [],
   "source": [
    "training_feature_df.to_parquet(\"liwc_training_dataset.parquet\")"
   ]
  },
  {
   "cell_type": "code",
   "execution_count": 2,
   "metadata": {},
   "outputs": [
    {
     "name": "stderr",
     "output_type": "stream",
     "text": [
      "/Users/bohaocao/anaconda3/lib/python3.10/site-packages/tqdm/auto.py:22: TqdmWarning: IProgress not found. Please update jupyter and ipywidgets. See https://ipywidgets.readthedocs.io/en/stable/user_install.html\n",
      "  from .autonotebook import tqdm as notebook_tqdm\n"
     ]
    }
   ],
   "source": [
    "from datasets import Dataset\n",
    "import pandas as pd\n",
    "training_feature_df = pd.read_parquet(\"liwc_training_dataset.parquet\")"
   ]
  },
  {
   "cell_type": "code",
   "execution_count": 110,
   "metadata": {},
   "outputs": [
    {
     "data": {
      "text/plain": [
       "Index(['user_name', 'conscientiousness', 'openness', 'neuroticism',\n",
       "       'agreeableness', 'extraversion', 'user', 'text', 'post_count',\n",
       "       'word_count'],\n",
       "      dtype='object')"
      ]
     },
     "execution_count": 110,
     "metadata": {},
     "output_type": "execute_result"
    }
   ],
   "source": [
    "training_feature_df.columns"
   ]
  },
  {
   "cell_type": "code",
   "execution_count": 3,
   "metadata": {},
   "outputs": [],
   "source": [
    "ds = Dataset.from_dict(training_feature_df.to_dict('list'))"
   ]
  },
  {
   "cell_type": "code",
   "execution_count": 66,
   "metadata": {},
   "outputs": [],
   "source": [
    "ds_inference = Dataset.from_dict(user_text_df.to_dict('list'))"
   ]
  },
  {
   "cell_type": "code",
   "execution_count": 67,
   "metadata": {},
   "outputs": [
    {
     "data": {
      "text/plain": [
       "Dataset({\n",
       "    features: ['user', 'text', 'post_count', 'word_count'],\n",
       "    num_rows: 14287\n",
       "})"
      ]
     },
     "execution_count": 67,
     "metadata": {},
     "output_type": "execute_result"
    }
   ],
   "source": [
    "ds_inference"
   ]
  },
  {
   "cell_type": "code",
   "execution_count": 69,
   "metadata": {},
   "outputs": [
    {
     "name": "stderr",
     "output_type": "stream",
     "text": [
      "Map: 100%|██████████| 14287/14287 [00:04<00:00, 2990.70 examples/s]\n"
     ]
    }
   ],
   "source": [
    "from collections import defaultdict\n",
    "from transformers import AutoTokenizer\n",
    "# using disilroberta as a quick baseline model\n",
    "# https://huggingface.co/docs/transformers/tasks/sequence_classification\n",
    "tokenizer = AutoTokenizer.from_pretrained(\"distilbert-base-uncased\", use_fast=True)\n",
    "\n",
    "focused_trait = \"Neuroticism\"\n",
    "\n",
    "\n",
    "def preprocess_for_inference_dataset(examples):\n",
    "    examples = tokenizer(examples[\"text\"], truncation=True, padding=\"max_length\", max_length=512)\n",
    "    return examples\n",
    "\n",
    "tokenized_ds_inference = ds_inference.map(preprocess_for_inference_dataset, remove_columns=['post_count','word_count','user'])"
   ]
  },
  {
   "cell_type": "code",
   "execution_count": 16,
   "metadata": {},
   "outputs": [
    {
     "name": "stderr",
     "output_type": "stream",
     "text": [
      "Map: 100%|██████████| 2286/2286 [00:00<00:00, 2774.15 examples/s]\n"
     ]
    }
   ],
   "source": [
    "from collections import defaultdict\n",
    "from transformers import AutoTokenizer\n",
    "# using disilroberta as a quick baseline model\n",
    "# https://huggingface.co/docs/transformers/tasks/sequence_classification\n",
    "tokenizer = AutoTokenizer.from_pretrained(\"distilbert-base-uncased\", use_fast=True)\n",
    "\n",
    "\n",
    "def preprocess(examples):\n",
    "    label = examples[\"conscientiousness\"]\n",
    "    examples = tokenizer(examples[\"text\"], truncation=True, padding=\"max_length\", max_length=512)\n",
    "    examples['label'] = float(label)\n",
    "    return examples\n",
    "\n",
    "tokenized_ds = ds.map(preprocess, remove_columns=['post_count','word_count','user'])"
   ]
  },
  {
   "cell_type": "code",
   "execution_count": 10,
   "metadata": {},
   "outputs": [
    {
     "data": {
      "text/plain": [
       "DatasetDict({\n",
       "    train: Dataset({\n",
       "        features: ['user_name', 'conscientiousness', 'openness', 'neuroticism', 'agreeableness', 'extraversion', 'text', 'input_ids', 'attention_mask', 'label'],\n",
       "        num_rows: 1828\n",
       "    })\n",
       "    test: Dataset({\n",
       "        features: ['user_name', 'conscientiousness', 'openness', 'neuroticism', 'agreeableness', 'extraversion', 'text', 'input_ids', 'attention_mask', 'label'],\n",
       "        num_rows: 458\n",
       "    })\n",
       "})"
      ]
     },
     "execution_count": 10,
     "metadata": {},
     "output_type": "execute_result"
    }
   ],
   "source": [
    "tokenized_ds"
   ]
  },
  {
   "cell_type": "code",
   "execution_count": 17,
   "metadata": {},
   "outputs": [],
   "source": [
    "train_test = tokenized_ds.train_test_split(test_size=0.3, seed=42)\n",
    "test_eval = train_test['test'].train_test_split(test_size=0.5, seed=42)\n",
    "\n",
    "# tokenized_ds = tokenized_ds.shuffle(seed=42)\n",
    "# train_testvalid = ds['train'].train_test_split(test_size=0.2)\n",
    "# # Split the 10% test + valid in half test, half valid\n",
    "# test_valid = train_testvalid['test'].train_test_split(test_size=0.5)\n",
    "# tokenized_ds = tokenized_ds.train_test_split(test_size=0.2)"
   ]
  },
  {
   "cell_type": "code",
   "execution_count": 43,
   "metadata": {},
   "outputs": [
    {
     "data": {
      "text/plain": [
       "array([[<Axes: title={'center': '0'}>]], dtype=object)"
      ]
     },
     "execution_count": 43,
     "metadata": {},
     "output_type": "execute_result"
    },
    {
     "data": {
      "image/png": "[encoded data removed]",
      "text/plain": [
       "<Figure size 640x480 with 1 Axes>"
      ]
     },
     "metadata": {},
     "output_type": "display_data"
    }
   ],
   "source": [
    "pd.DataFrame(train_test['train']['label']).hist()"
   ]
  },
  {
   "cell_type": "code",
   "execution_count": 46,
   "metadata": {},
   "outputs": [
    {
     "data": {
      "text/plain": [
       "array([[<Axes: title={'center': '0'}>]], dtype=object)"
      ]
     },
     "execution_count": 46,
     "metadata": {},
     "output_type": "execute_result"
    },
    {
     "data": {
      "image/png": "[encoded data removed]",
      "text/plain": [
       "<Figure size 640x480 with 1 Axes>"
      ]
     },
     "metadata": {},
     "output_type": "display_data"
    }
   ],
   "source": [
    "pd.DataFrame(train_test['test']['label']).hist()"
   ]
  },
  {
   "cell_type": "code",
   "execution_count": 47,
   "metadata": {},
   "outputs": [
    {
     "data": {
      "text/plain": [
       "array([[<Axes: title={'center': '0'}>]], dtype=object)"
      ]
     },
     "execution_count": 47,
     "metadata": {},
     "output_type": "execute_result"
    },
    {
     "data": {
      "image/png": "[encoded data removed]",
      "text/plain": [
       "<Figure size 640x480 with 1 Axes>"
      ]
     },
     "metadata": {},
     "output_type": "display_data"
    }
   ],
   "source": [
    "pd.DataFrame(test_eval['train']['label']).hist()"
   ]
  },
  {
   "cell_type": "code",
   "execution_count": 48,
   "metadata": {},
   "outputs": [
    {
     "data": {
      "text/plain": [
       "array([[<Axes: title={'center': '0'}>]], dtype=object)"
      ]
     },
     "execution_count": 48,
     "metadata": {},
     "output_type": "execute_result"
    },
    {
     "data": {
      "image/png": "[encoded data removed]",
      "text/plain": [
       "<Figure size 640x480 with 1 Axes>"
      ]
     },
     "metadata": {},
     "output_type": "display_data"
    }
   ],
   "source": [
    "pd.DataFrame(test_eval['test']['label']).hist()"
   ]
  },
  {
   "cell_type": "code",
   "execution_count": 19,
   "metadata": {},
   "outputs": [
    {
     "data": {
      "text/plain": [
       "DatasetDict({\n",
       "    train: Dataset({\n",
       "        features: ['user_name', 'conscientiousness', 'openness', 'neuroticism', 'agreeableness', 'extraversion', 'text', 'input_ids', 'attention_mask', 'label'],\n",
       "        num_rows: 343\n",
       "    })\n",
       "    test: Dataset({\n",
       "        features: ['user_name', 'conscientiousness', 'openness', 'neuroticism', 'agreeableness', 'extraversion', 'text', 'input_ids', 'attention_mask', 'label'],\n",
       "        num_rows: 343\n",
       "    })\n",
       "})"
      ]
     },
     "execution_count": 19,
     "metadata": {},
     "output_type": "execute_result"
    }
   ],
   "source": [
    "test_eval"
   ]
  },
  {
   "cell_type": "code",
   "execution_count": 6,
   "metadata": {},
   "outputs": [
    {
     "name": "stdout",
     "output_type": "stream",
     "text": [
      "huggingface/tokenizers: The current process just got forked, after parallelism has already been used. Disabling parallelism to avoid deadlocks...\n",
      "To disable this warning, you can either:\n",
      "\t- Avoid using `tokenizers` before the fork if possible\n",
      "\t- Explicitly set the environment variable TOKENIZERS_PARALLELISM=(true | false)\n"
     ]
    },
    {
     "name": "stderr",
     "output_type": "stream",
     "text": [
      "Some weights of DistilBertForSequenceClassification were not initialized from the model checkpoint at distilbert-base-uncased and are newly initialized: ['classifier.bias', 'pre_classifier.bias', 'pre_classifier.weight', 'classifier.weight']\n",
      "You should probably TRAIN this model on a down-stream task to be able to use it for predictions and inference.\n"
     ]
    }
   ],
   "source": [
    "import numpy as np\n",
    "from transformers import AutoModelForSequenceClassification, TrainingArguments, Trainer\n",
    "from transformers import DataCollatorWithPadding\n",
    "\n",
    "model = AutoModelForSequenceClassification.from_pretrained(\n",
    "    \"distilbert-base-uncased\", num_labels=1\n",
    ")"
   ]
  },
  {
   "cell_type": "code",
   "execution_count": 7,
   "metadata": {},
   "outputs": [],
   "source": [
    "from sklearn.metrics import mean_absolute_error\n",
    "from sklearn.metrics import mean_squared_error\n",
    "from sklearn.metrics import r2_score\n",
    "\n",
    "def compute_metrics_for_regression(eval_pred):\n",
    "    logits, labels = eval_pred\n",
    "    labels = labels.reshape(-1, 1)\n",
    "    \n",
    "    mse = mean_squared_error(labels, logits)\n",
    "    mae = mean_absolute_error(labels, logits)\n",
    "    r2 = r2_score(labels, logits)\n",
    "    single_squared_errors = ((logits - labels).flatten()**2).tolist()\n",
    "    \n",
    "    # Compute accuracy \n",
    "    # Based on the fact that the rounded score = true score only if |single_squared_errors| < 0.5\n",
    "    accuracy = sum([1 for e in single_squared_errors if e < 0.25]) / len(single_squared_errors)\n",
    "    \n",
    "    return {\"mse\": mse, \"mae\": mae, \"r2\": r2, \"accuracy\": accuracy}"
   ]
  },
  {
   "cell_type": "code",
   "execution_count": 8,
   "metadata": {},
   "outputs": [],
   "source": [
    "from transformers import TrainingArguments, Trainer\n",
    "\n",
    "LEARNING_RATE = 2e-5\n",
    "MAX_LENGTH = 256\n",
    "BATCH_SIZE = 16\n",
    "EPOCHS = 20\n",
    "\n",
    "training_args = TrainingArguments(\n",
    "    output_dir=\"../models/fine-tuned-regression\",\n",
    "    learning_rate=LEARNING_RATE,\n",
    "    per_device_train_batch_size=BATCH_SIZE,\n",
    "    per_device_eval_batch_size=BATCH_SIZE,\n",
    "    num_train_epochs=EPOCHS,\n",
    "    evaluation_strategy=\"epoch\",\n",
    "    save_strategy=\"epoch\",\n",
    "    save_total_limit=2,\n",
    "    metric_for_best_model=\"accuracy\",\n",
    "    load_best_model_at_end=True,\n",
    "    weight_decay=0.01,\n",
    ")\n",
    "\n",
    "import torch\n",
    "\n",
    "class RegressionTrainer(Trainer):\n",
    "    def compute_loss(self, model, inputs, return_outputs=False):\n",
    "        labels = inputs.pop(\"labels\")\n",
    "        outputs = model(**inputs)\n",
    "        logits = outputs[0][:, 0]\n",
    "        loss = torch.nn.functional.mse_loss(logits, labels)\n",
    "        return (loss, outputs) if return_outputs else loss"
   ]
  },
  {
   "cell_type": "code",
   "execution_count": 20,
   "metadata": {},
   "outputs": [
    {
     "name": "stderr",
     "output_type": "stream",
     "text": [
      "/Users/bohaocao/anaconda3/lib/python3.10/site-packages/transformers/optimization.py:411: FutureWarning: This implementation of AdamW is deprecated and will be removed in a future version. Use the PyTorch implementation torch.optim.AdamW instead, or set `no_deprecation_warning=True` to disable this warning\n",
      "  warnings.warn(\n",
      "                                                  \n",
      "  5%|▌         | 100/2000 [01:48<30:44,  1.03it/s]"
     ]
    },
    {
     "name": "stdout",
     "output_type": "stream",
     "text": [
      "{'eval_loss': 1582.107177734375, 'eval_mse': 1582.107177734375, 'eval_mae': 38.49443054199219, 'eval_r2': -14.762081020422503, 'eval_accuracy': 0.0, 'eval_runtime': 6.6933, 'eval_samples_per_second': 51.245, 'eval_steps_per_second': 3.287, 'epoch': 1.0}\n"
     ]
    },
    {
     "name": "stderr",
     "output_type": "stream",
     "text": [
      "                                                    \n",
      " 10%|█         | 200/2000 [03:34<29:18,  1.02it/s]"
     ]
    },
    {
     "name": "stdout",
     "output_type": "stream",
     "text": [
      "{'eval_loss': 1168.41162109375, 'eval_mse': 1168.4117431640625, 'eval_mae': 32.68183517456055, 'eval_r2': -10.640551445289558, 'eval_accuracy': 0.0, 'eval_runtime': 6.4245, 'eval_samples_per_second': 53.389, 'eval_steps_per_second': 3.424, 'epoch': 2.0}\n"
     ]
    },
    {
     "name": "stderr",
     "output_type": "stream",
     "text": [
      "                                                    \n",
      " 15%|█▌        | 300/2000 [05:21<27:32,  1.03it/s]"
     ]
    },
    {
     "name": "stdout",
     "output_type": "stream",
     "text": [
      "{'eval_loss': 802.6107788085938, 'eval_mse': 802.6107788085938, 'eval_mae': 26.500856399536133, 'eval_r2': -6.996182176928102, 'eval_accuracy': 0.0, 'eval_runtime': 6.4326, 'eval_samples_per_second': 53.322, 'eval_steps_per_second': 3.42, 'epoch': 3.0}\n"
     ]
    },
    {
     "name": "stderr",
     "output_type": "stream",
     "text": [
      "                                                    \n",
      " 20%|██        | 400/2000 [07:09<26:59,  1.01s/it]"
     ]
    },
    {
     "name": "stdout",
     "output_type": "stream",
     "text": [
      "{'eval_loss': 500.3480224609375, 'eval_mse': 500.3480224609375, 'eval_mae': 20.023395538330078, 'eval_r2': -3.9848239276337356, 'eval_accuracy': 0.0, 'eval_runtime': 6.6172, 'eval_samples_per_second': 51.834, 'eval_steps_per_second': 3.325, 'epoch': 4.0}\n"
     ]
    },
    {
     "name": "stderr",
     "output_type": "stream",
     "text": [
      " 25%|██▌       | 500/2000 [08:51<24:37,  1.02it/s]  "
     ]
    },
    {
     "name": "stdout",
     "output_type": "stream",
     "text": [
      "{'loss': 1067.4414, 'learning_rate': 1.5000000000000002e-05, 'epoch': 5.0}\n"
     ]
    },
    {
     "name": "stderr",
     "output_type": "stream",
     "text": [
      "                                                  \n",
      " 25%|██▌       | 500/2000 [08:58<24:37,  1.02it/s]"
     ]
    },
    {
     "name": "stdout",
     "output_type": "stream",
     "text": [
      "{'eval_loss': 276.5553894042969, 'eval_mse': 276.55535888671875, 'eval_mae': 13.947644233703613, 'eval_r2': -1.7552422441231856, 'eval_accuracy': 0.01749271137026239, 'eval_runtime': 6.5007, 'eval_samples_per_second': 52.763, 'eval_steps_per_second': 3.384, 'epoch': 5.0}\n"
     ]
    },
    {
     "name": "stderr",
     "output_type": "stream",
     "text": [
      "                                                    \n",
      " 30%|███       | 600/2000 [10:47<23:29,  1.01s/it]"
     ]
    },
    {
     "name": "stdout",
     "output_type": "stream",
     "text": [
      "{'eval_loss': 142.05316162109375, 'eval_mse': 142.0531463623047, 'eval_mae': 9.710975646972656, 'eval_r2': -0.4152349253369021, 'eval_accuracy': 0.037900874635568516, 'eval_runtime': 6.4636, 'eval_samples_per_second': 53.066, 'eval_steps_per_second': 3.404, 'epoch': 6.0}\n"
     ]
    },
    {
     "name": "stderr",
     "output_type": "stream",
     "text": [
      "                                                    \n",
      " 35%|███▌      | 700/2000 [12:32<20:55,  1.04it/s]"
     ]
    },
    {
     "name": "stdout",
     "output_type": "stream",
     "text": [
      "{'eval_loss': 81.42668151855469, 'eval_mse': 81.42666625976562, 'eval_mae': 7.100286960601807, 'eval_r2': 0.18876933020315, 'eval_accuracy': 0.04956268221574344, 'eval_runtime': 6.432, 'eval_samples_per_second': 53.327, 'eval_steps_per_second': 3.42, 'epoch': 7.0}\n"
     ]
    },
    {
     "name": "stderr",
     "output_type": "stream",
     "text": [
      "                                                    \n",
      " 40%|████      | 800/2000 [14:15<19:04,  1.05it/s]"
     ]
    },
    {
     "name": "stdout",
     "output_type": "stream",
     "text": [
      "{'eval_loss': 59.246795654296875, 'eval_mse': 59.24679946899414, 'eval_mae': 6.016336917877197, 'eval_r2': 0.40974110818673104, 'eval_accuracy': 0.061224489795918366, 'eval_runtime': 6.3933, 'eval_samples_per_second': 53.65, 'eval_steps_per_second': 3.441, 'epoch': 8.0}\n"
     ]
    },
    {
     "name": "stderr",
     "output_type": "stream",
     "text": [
      "                                                    \n",
      " 45%|████▌     | 900/2000 [15:58<17:26,  1.05it/s]"
     ]
    },
    {
     "name": "stdout",
     "output_type": "stream",
     "text": [
      "{'eval_loss': 49.79762649536133, 'eval_mse': 49.79762649536133, 'eval_mae': 5.727832317352295, 'eval_r2': 0.5038804630671017, 'eval_accuracy': 0.0728862973760933, 'eval_runtime': 6.4134, 'eval_samples_per_second': 53.482, 'eval_steps_per_second': 3.43, 'epoch': 9.0}\n"
     ]
    },
    {
     "name": "stderr",
     "output_type": "stream",
     "text": [
      " 50%|█████     | 1000/2000 [17:35<16:07,  1.03it/s] "
     ]
    },
    {
     "name": "stdout",
     "output_type": "stream",
     "text": [
      "{'loss': 97.9978, 'learning_rate': 1e-05, 'epoch': 10.0}\n"
     ]
    },
    {
     "name": "stderr",
     "output_type": "stream",
     "text": [
      "                                                   \n",
      " 50%|█████     | 1000/2000 [17:41<16:07,  1.03it/s]"
     ]
    },
    {
     "name": "stdout",
     "output_type": "stream",
     "text": [
      "{'eval_loss': 43.49843215942383, 'eval_mse': 43.49842834472656, 'eval_mae': 5.383670806884766, 'eval_r2': 0.5666375924727001, 'eval_accuracy': 0.052478134110787174, 'eval_runtime': 6.4244, 'eval_samples_per_second': 53.39, 'eval_steps_per_second': 3.424, 'epoch': 10.0}\n"
     ]
    },
    {
     "name": "stderr",
     "output_type": "stream",
     "text": [
      "                                                   \n",
      " 55%|█████▌    | 1100/2000 [19:24<14:09,  1.06it/s]"
     ]
    },
    {
     "name": "stdout",
     "output_type": "stream",
     "text": [
      "{'eval_loss': 38.9677619934082, 'eval_mse': 38.96776580810547, 'eval_mae': 5.074009418487549, 'eval_r2': 0.6117753059555212, 'eval_accuracy': 0.04664723032069971, 'eval_runtime': 6.3986, 'eval_samples_per_second': 53.606, 'eval_steps_per_second': 3.438, 'epoch': 11.0}\n"
     ]
    },
    {
     "name": "stderr",
     "output_type": "stream",
     "text": [
      "                                                   \n",
      " 60%|██████    | 1200/2000 [21:07<12:34,  1.06it/s]"
     ]
    },
    {
     "name": "stdout",
     "output_type": "stream",
     "text": [
      "{'eval_loss': 40.45035934448242, 'eval_mse': 40.45035934448242, 'eval_mae': 5.173799514770508, 'eval_r2': 0.5970046397178818, 'eval_accuracy': 0.05539358600583091, 'eval_runtime': 6.3905, 'eval_samples_per_second': 53.673, 'eval_steps_per_second': 3.443, 'epoch': 12.0}\n"
     ]
    },
    {
     "name": "stderr",
     "output_type": "stream",
     "text": [
      "                                                   \n",
      " 65%|██████▌   | 1300/2000 [22:48<10:49,  1.08it/s]"
     ]
    },
    {
     "name": "stdout",
     "output_type": "stream",
     "text": [
      "{'eval_loss': 35.70772171020508, 'eval_mse': 35.70772171020508, 'eval_mae': 4.812326431274414, 'eval_r2': 0.6442542030024494, 'eval_accuracy': 0.052478134110787174, 'eval_runtime': 6.2941, 'eval_samples_per_second': 54.495, 'eval_steps_per_second': 3.495, 'epoch': 13.0}\n"
     ]
    },
    {
     "name": "stderr",
     "output_type": "stream",
     "text": [
      "                                                   \n",
      " 70%|███████   | 1400/2000 [24:29<09:16,  1.08it/s]"
     ]
    },
    {
     "name": "stdout",
     "output_type": "stream",
     "text": [
      "{'eval_loss': 35.341552734375, 'eval_mse': 35.341552734375, 'eval_mae': 4.703003406524658, 'eval_r2': 0.6479021987557816, 'eval_accuracy': 0.07580174927113703, 'eval_runtime': 6.3164, 'eval_samples_per_second': 54.303, 'eval_steps_per_second': 3.483, 'epoch': 14.0}\n"
     ]
    },
    {
     "name": "stderr",
     "output_type": "stream",
     "text": [
      " 75%|███████▌  | 1500/2000 [26:04<07:42,  1.08it/s]"
     ]
    },
    {
     "name": "stdout",
     "output_type": "stream",
     "text": [
      "{'loss': 18.1248, 'learning_rate': 5e-06, 'epoch': 15.0}\n"
     ]
    },
    {
     "name": "stderr",
     "output_type": "stream",
     "text": [
      "                                                   \n",
      " 75%|███████▌  | 1500/2000 [26:10<07:42,  1.08it/s]"
     ]
    },
    {
     "name": "stdout",
     "output_type": "stream",
     "text": [
      "{'eval_loss': 37.97915267944336, 'eval_mse': 37.97915267944336, 'eval_mae': 4.952425479888916, 'eval_r2': 0.621624568863804, 'eval_accuracy': 0.052478134110787174, 'eval_runtime': 6.2897, 'eval_samples_per_second': 54.534, 'eval_steps_per_second': 3.498, 'epoch': 15.0}\n"
     ]
    },
    {
     "name": "stderr",
     "output_type": "stream",
     "text": [
      "                                                   \n",
      " 80%|████████  | 1600/2000 [27:50<06:10,  1.08it/s]"
     ]
    },
    {
     "name": "stdout",
     "output_type": "stream",
     "text": [
      "{'eval_loss': 36.9471435546875, 'eval_mse': 36.947147369384766, 'eval_mae': 4.868303298950195, 'eval_r2': 0.6319061592179029, 'eval_accuracy': 0.04956268221574344, 'eval_runtime': 6.2793, 'eval_samples_per_second': 54.624, 'eval_steps_per_second': 3.504, 'epoch': 16.0}\n"
     ]
    },
    {
     "name": "stderr",
     "output_type": "stream",
     "text": [
      "                                                   \n",
      " 85%|████████▌ | 1700/2000 [29:31<04:37,  1.08it/s]"
     ]
    },
    {
     "name": "stdout",
     "output_type": "stream",
     "text": [
      "{'eval_loss': 36.54563522338867, 'eval_mse': 36.54563522338867, 'eval_mae': 4.8665924072265625, 'eval_r2': 0.6359063059836756, 'eval_accuracy': 0.04956268221574344, 'eval_runtime': 6.2835, 'eval_samples_per_second': 54.588, 'eval_steps_per_second': 3.501, 'epoch': 17.0}\n"
     ]
    },
    {
     "name": "stderr",
     "output_type": "stream",
     "text": [
      "                                                   \n",
      " 90%|█████████ | 1800/2000 [31:11<03:05,  1.08it/s]"
     ]
    },
    {
     "name": "stdout",
     "output_type": "stream",
     "text": [
      "{'eval_loss': 36.47930145263672, 'eval_mse': 36.479305267333984, 'eval_mae': 4.866305828094482, 'eval_r2': 0.636567133920359, 'eval_accuracy': 0.04956268221574344, 'eval_runtime': 6.2884, 'eval_samples_per_second': 54.545, 'eval_steps_per_second': 3.499, 'epoch': 18.0}\n"
     ]
    },
    {
     "name": "stderr",
     "output_type": "stream",
     "text": [
      "                                                   \n",
      " 95%|█████████▌| 1900/2000 [32:52<01:32,  1.08it/s]"
     ]
    },
    {
     "name": "stdout",
     "output_type": "stream",
     "text": [
      "{'eval_loss': 35.2003288269043, 'eval_mse': 35.2003288269043, 'eval_mae': 4.755788326263428, 'eval_r2': 0.6493091755118676, 'eval_accuracy': 0.0728862973760933, 'eval_runtime': 6.3017, 'eval_samples_per_second': 54.43, 'eval_steps_per_second': 3.491, 'epoch': 19.0}\n"
     ]
    },
    {
     "name": "stderr",
     "output_type": "stream",
     "text": [
      "100%|██████████| 2000/2000 [34:27<00:00,  1.08it/s]"
     ]
    },
    {
     "name": "stdout",
     "output_type": "stream",
     "text": [
      "{'loss': 9.2658, 'learning_rate': 0.0, 'epoch': 20.0}\n"
     ]
    },
    {
     "name": "stderr",
     "output_type": "stream",
     "text": [
      "                                                   \n",
      "100%|██████████| 2000/2000 [34:33<00:00,  1.08it/s]"
     ]
    },
    {
     "name": "stdout",
     "output_type": "stream",
     "text": [
      "{'eval_loss': 35.35723876953125, 'eval_mse': 35.35723876953125, 'eval_mae': 4.7750420570373535, 'eval_r2': 0.6477459517318667, 'eval_accuracy': 0.0728862973760933, 'eval_runtime': 6.2923, 'eval_samples_per_second': 54.511, 'eval_steps_per_second': 3.496, 'epoch': 20.0}\n"
     ]
    },
    {
     "name": "stderr",
     "output_type": "stream",
     "text": [
      "100%|██████████| 2000/2000 [34:34<00:00,  1.04s/it]"
     ]
    },
    {
     "name": "stdout",
     "output_type": "stream",
     "text": [
      "{'train_runtime': 2074.8603, 'train_samples_per_second': 15.423, 'train_steps_per_second': 0.964, 'train_loss': 298.2074504394531, 'epoch': 20.0}\n"
     ]
    },
    {
     "name": "stderr",
     "output_type": "stream",
     "text": [
      "\n"
     ]
    },
    {
     "data": {
      "text/plain": [
       "TrainOutput(global_step=2000, training_loss=298.2074504394531, metrics={'train_runtime': 2074.8603, 'train_samples_per_second': 15.423, 'train_steps_per_second': 0.964, 'train_loss': 298.2074504394531, 'epoch': 20.0})"
      ]
     },
     "execution_count": 20,
     "metadata": {},
     "output_type": "execute_result"
    }
   ],
   "source": [
    "trainer = RegressionTrainer(\n",
    "    model=model,\n",
    "    args=training_args,\n",
    "    train_dataset=train_test[\"train\"],\n",
    "    eval_dataset=test_eval[\"train\"],\n",
    "    compute_metrics=compute_metrics_for_regression,\n",
    ")\n",
    "\n",
    "trainer.train()"
   ]
  },
  {
   "cell_type": "code",
   "execution_count": 22,
   "metadata": {},
   "outputs": [
    {
     "data": {
      "text/plain": [
       "DatasetDict({\n",
       "    train: Dataset({\n",
       "        features: ['user_name', 'conscientiousness', 'openness', 'neuroticism', 'agreeableness', 'extraversion', 'text', 'input_ids', 'attention_mask', 'label'],\n",
       "        num_rows: 343\n",
       "    })\n",
       "    test: Dataset({\n",
       "        features: ['user_name', 'conscientiousness', 'openness', 'neuroticism', 'agreeableness', 'extraversion', 'text', 'input_ids', 'attention_mask', 'label'],\n",
       "        num_rows: 343\n",
       "    })\n",
       "})"
      ]
     },
     "execution_count": 22,
     "metadata": {},
     "output_type": "execute_result"
    }
   ],
   "source": [
    "test_eval"
   ]
  },
  {
   "cell_type": "code",
   "execution_count": 111,
   "metadata": {},
   "outputs": [
    {
     "name": "stderr",
     "output_type": "stream",
     "text": [
      "100%|██████████| 22/22 [00:06<00:00,  3.49it/s]\n"
     ]
    }
   ],
   "source": [
    "trainer.eval_dataset=test_eval[\"test\"]\n",
    "eval_ret = trainer.evaluate()"
   ]
  },
  {
   "cell_type": "code",
   "execution_count": 112,
   "metadata": {},
   "outputs": [
    {
     "data": {
      "text/plain": [
       "dict"
      ]
     },
     "execution_count": 112,
     "metadata": {},
     "output_type": "execute_result"
    }
   ],
   "source": [
    "type(eval_ret)"
   ]
  },
  {
   "cell_type": "code",
   "execution_count": 27,
   "metadata": {},
   "outputs": [
    {
     "name": "stderr",
     "output_type": "stream",
     "text": [
      "100%|██████████| 22/22 [00:06<00:00,  3.56it/s]\n"
     ]
    }
   ],
   "source": [
    "predictions = trainer.predict(test_eval[\"test\"])"
   ]
  },
  {
   "cell_type": "code",
   "execution_count": 45,
   "metadata": {},
   "outputs": [
    {
     "data": {
      "text/plain": [
       "array([[<Axes: title={'center': '0'}>]], dtype=object)"
      ]
     },
     "execution_count": 45,
     "metadata": {},
     "output_type": "execute_result"
    },
    {
     "data": {
      "image/png": "[encoded data removed]",
      "text/plain": [
       "<Figure size 640x480 with 1 Axes>"
      ]
     },
     "metadata": {},
     "output_type": "display_data"
    }
   ],
   "source": [
    "pd.DataFrame(predictions.predictions).hist()"
   ]
  },
  {
   "cell_type": "code",
   "execution_count": 32,
   "metadata": {},
   "outputs": [
    {
     "data": {
      "text/plain": [
       "['__add__',\n",
       " '__annotations__',\n",
       " '__class__',\n",
       " '__class_getitem__',\n",
       " '__contains__',\n",
       " '__delattr__',\n",
       " '__dir__',\n",
       " '__doc__',\n",
       " '__eq__',\n",
       " '__format__',\n",
       " '__ge__',\n",
       " '__getattribute__',\n",
       " '__getitem__',\n",
       " '__getnewargs__',\n",
       " '__gt__',\n",
       " '__hash__',\n",
       " '__init__',\n",
       " '__init_subclass__',\n",
       " '__iter__',\n",
       " '__le__',\n",
       " '__len__',\n",
       " '__lt__',\n",
       " '__match_args__',\n",
       " '__module__',\n",
       " '__mul__',\n",
       " '__ne__',\n",
       " '__new__',\n",
       " '__orig_bases__',\n",
       " '__reduce__',\n",
       " '__reduce_ex__',\n",
       " '__repr__',\n",
       " '__rmul__',\n",
       " '__setattr__',\n",
       " '__sizeof__',\n",
       " '__slots__',\n",
       " '__str__',\n",
       " '__subclasshook__',\n",
       " '_asdict',\n",
       " '_field_defaults',\n",
       " '_fields',\n",
       " '_make',\n",
       " '_replace',\n",
       " 'count',\n",
       " 'index',\n",
       " 'label_ids',\n",
       " 'metrics',\n",
       " 'predictions']"
      ]
     },
     "execution_count": 32,
     "metadata": {},
     "output_type": "execute_result"
    }
   ],
   "source": [
    "dir(predictions)  "
   ]
  },
  {
   "cell_type": "markdown",
   "metadata": {},
   "source": [
    "## inference"
   ]
  },
  {
   "cell_type": "code",
   "execution_count": 71,
   "metadata": {},
   "outputs": [
    {
     "name": "stderr",
     "output_type": "stream",
     "text": [
      "100%|██████████| 893/893 [04:32<00:00,  3.28it/s]\n"
     ]
    }
   ],
   "source": [
    "predictions= trainer.predict(tokenized_ds_inference)"
   ]
  },
  {
   "cell_type": "code",
   "execution_count": 80,
   "metadata": {},
   "outputs": [],
   "source": [
    "predictions_df = pd.DataFrame(predictions.predictions)"
   ]
  },
  {
   "cell_type": "code",
   "execution_count": 104,
   "metadata": {},
   "outputs": [],
   "source": [
    "user_text_prediction_df = user_text_df.merge(predictions_df,left_index=True, right_index=True)"
   ]
  },
  {
   "cell_type": "code",
   "execution_count": 105,
   "metadata": {},
   "outputs": [],
   "source": [
    "user_text_prediction_df.rename(columns={0:\"predictions\"}, inplace=True)"
   ]
  },
  {
   "cell_type": "code",
   "execution_count": 1,
   "metadata": {},
   "outputs": [
    {
     "ename": "NameError",
     "evalue": "name 'user_text_prediction_df' is not defined",
     "output_type": "error",
     "traceback": [
      "\u001b[0;31m---------------------------------------------------------------------------\u001b[0m",
      "\u001b[0;31mNameError\u001b[0m                                 Traceback (most recent call last)",
      "\u001b[1;32m/Users/bohaocao/Codebase/uw-ocean/clustering/liwc-2.ipynb Cell 75\u001b[0m line \u001b[0;36m1\n\u001b[0;32m----> <a href='vscode-notebook-cell:/Users/bohaocao/Codebase/uw-ocean/clustering/liwc-2.ipynb#Y134sZmlsZQ%3D%3D?line=0'>1</a>\u001b[0m user_text_prediction_df\n",
      "\u001b[0;31mNameError\u001b[0m: name 'user_text_prediction_df' is not defined"
     ]
    }
   ],
   "source": [
    "user_text_prediction_df"
   ]
  },
  {
   "cell_type": "code",
   "execution_count": 107,
   "metadata": {},
   "outputs": [],
   "source": [
    "user_text_prediction_df.to_parquet(\"user_text_prediction_df_conscientiousness.parquet\")"
   ]
  },
  {
   "cell_type": "code",
   "execution_count": null,
   "metadata": {},
   "outputs": [],
   "source": []
  }
 ],
 "metadata": {
  "kernelspec": {
   "display_name": "base",
   "language": "python",
   "name": "python3"
  },
  "language_info": {
   "codemirror_mode": {
    "name": "ipython",
    "version": 3
   },
   "file_extension": ".py",
   "mimetype": "text/x-python",
   "name": "python",
   "nbconvert_exporter": "python",
   "pygments_lexer": "ipython3",
   "version": "3.10.9"
  },
  "orig_nbformat": 4
 },
 "nbformat": 4,
 "nbformat_minor": 2
}
